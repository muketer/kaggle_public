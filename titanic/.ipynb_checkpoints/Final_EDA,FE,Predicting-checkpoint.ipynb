{
 "cells": [
  {
   "cell_type": "code",
   "execution_count": 1,
   "metadata": {},
   "outputs": [],
   "source": [
    "import pandas as pd\n",
    "import numpy as np\n",
    "import seaborn as sns\n",
    "import matplotlib.pyplot as plt\n",
    "import datetime as dt\n",
    "from collections import Counter\n",
    "from collections import defaultdict\n",
    "import re\n",
    "import operator\n",
    "import warnings\n",
    "from tqdm import tqdm\n",
    "from joblib import dump, load\n",
    "from prince import FAMD\n",
    "from sklearn.preprocessing import StandardScaler\n",
    "from sklearn.cluster import KMeans\n",
    "from sklearn.feature_selection import RFECV\n",
    "from sklearn.linear_model import LogisticRegression\n",
    "from sklearn.naive_bayes import GaussianNB\n",
    "from sklearn.gaussian_process import GaussianProcessClassifier\n",
    "from sklearn.svm import SVC\n",
    "from sklearn.neural_network import MLPClassifier\n",
    "from sklearn.neighbors import KNeighborsClassifier\n",
    "from sklearn.ensemble import RandomForestClassifier, GradientBoostingClassifier, VotingClassifier\n",
    "from sklearn.model_selection import train_test_split\n",
    "from sklearn.model_selection import StratifiedKFold, GridSearchCV\n",
    "from sklearn.metrics import classification_report, average_precision_score, roc_auc_score, roc_curve, precision_recall_curve"
   ]
  },
  {
   "cell_type": "code",
   "execution_count": 2,
   "metadata": {},
   "outputs": [],
   "source": [
    "warnings.filterwarnings('ignore')"
   ]
  },
  {
   "cell_type": "markdown",
   "metadata": {},
   "source": [
    " "
   ]
  },
  {
   "cell_type": "markdown",
   "metadata": {},
   "source": [
    " "
   ]
  },
  {
   "cell_type": "markdown",
   "metadata": {},
   "source": [
    " "
   ]
  },
  {
   "cell_type": "markdown",
   "metadata": {},
   "source": [
    "# ■ EDA "
   ]
  },
  {
   "cell_type": "markdown",
   "metadata": {},
   "source": [
    " "
   ]
  },
  {
   "cell_type": "code",
   "execution_count": 3,
   "metadata": {},
   "outputs": [],
   "source": [
    "def multi_histogram(fig_size_, hspace_, width_, plot_no_, data_list_, title_list_, type_):\n",
    "        \n",
    "    if (type_ != 'no') and (type_ != 'str'):\n",
    "        raise TypeError(\"'type_' parameter must be 'no' or 'str'.\")\n",
    "    \n",
    "    if (plot_no_.__class__ != int) and (plot_no_.__class__ != list):\n",
    "        raise TypeError(\"'plot_no_' parameter must be int or list.\")\n",
    "    \n",
    "    plt.figure(figsize=fig_size_)\n",
    "    plt.subplots_adjust(hspace=hspace_)\n",
    "\n",
    "    if type_ == 'no':\n",
    "        for df_, title_ in zip(data_list_, title_list_):\n",
    "            \n",
    "            ax, plot_no_ = make_subplot_ax(plot_no_)\n",
    "            \n",
    "            _ = ax.hist(df_, bins=width_)\n",
    "            ax.set_title(title_)\n",
    "\n",
    "    else:\n",
    "        for df_, title_ in zip(data_list_, title_list_):\n",
    "            counter = Counter(df_)\n",
    "\n",
    "            keys, values = [], []\n",
    "            for key, value in sorted(counter.items(), key=operator.itemgetter(0)):\n",
    "                keys.append(key)\n",
    "                values.append(value)\n",
    "            \n",
    "            ax, plot_no_ = make_subplot_ax(plot_no_)\n",
    "            \n",
    "            _ = ax.bar(keys, values, width=width_)\n",
    "            ax.set_title(title_)\n",
    "\n",
    "\n",
    "def make_subplot_ax(no):\n",
    "    \n",
    "    if no.__class__ == int:\n",
    "        ax = plt.subplot(no)\n",
    "        no += 1\n",
    "    else:\n",
    "        ax = plt.subplot(no[0], no[1], no[2])\n",
    "        no[2] += 1\n",
    "    \n",
    "    return ax, no"
   ]
  },
  {
   "cell_type": "markdown",
   "metadata": {},
   "source": [
    "Variable | Definition | Key\n",
    "-------- | ---------- | ----\n",
    "survival|Survival|0 = No, 1 = Yes\n",
    "pclass|Ticket class|1 = 1st, 2 = 2nd, 3 = 3rd\n",
    "sex|Sex|\n",
    "Age|Age in years|\n",
    "sibsp|# of siblings / spouses aboard the Titanic|\n",
    "parch|# of parents / children aboard the Titanic|\n",
    "ticket|Ticket number|\n",
    "fare|Passenger fare|\n",
    "cabin|Cabin number|\n",
    "embarked|Port of Embarkation|C = Cherbourg, Q = Queenstown, S = Southampton"
   ]
  },
  {
   "cell_type": "code",
   "execution_count": 4,
   "metadata": {},
   "outputs": [],
   "source": [
    "na_sentinel = -99"
   ]
  },
  {
   "cell_type": "code",
   "execution_count": 5,
   "metadata": {},
   "outputs": [],
   "source": [
    "train = pd.read_csv('./data/train.csv')\n",
    "test = pd.read_csv('./data/test.csv')"
   ]
  },
  {
   "cell_type": "code",
   "execution_count": 6,
   "metadata": {},
   "outputs": [
    {
     "name": "stdout",
     "output_type": "stream",
     "text": [
      "<class 'pandas.core.frame.DataFrame'>\n",
      "RangeIndex: 891 entries, 0 to 890\n",
      "Data columns (total 12 columns):\n",
      "PassengerId    891 non-null int64\n",
      "Survived       891 non-null int64\n",
      "Pclass         891 non-null int64\n",
      "Name           891 non-null object\n",
      "Sex            891 non-null object\n",
      "Age            714 non-null float64\n",
      "SibSp          891 non-null int64\n",
      "Parch          891 non-null int64\n",
      "Ticket         891 non-null object\n",
      "Fare           891 non-null float64\n",
      "Cabin          204 non-null object\n",
      "Embarked       889 non-null object\n",
      "dtypes: float64(2), int64(5), object(5)\n",
      "memory usage: 83.6+ KB\n"
     ]
    }
   ],
   "source": [
    "train.info()"
   ]
  },
  {
   "cell_type": "code",
   "execution_count": 7,
   "metadata": {},
   "outputs": [
    {
     "name": "stdout",
     "output_type": "stream",
     "text": [
      "<class 'pandas.core.frame.DataFrame'>\n",
      "RangeIndex: 418 entries, 0 to 417\n",
      "Data columns (total 11 columns):\n",
      "PassengerId    418 non-null int64\n",
      "Pclass         418 non-null int64\n",
      "Name           418 non-null object\n",
      "Sex            418 non-null object\n",
      "Age            332 non-null float64\n",
      "SibSp          418 non-null int64\n",
      "Parch          418 non-null int64\n",
      "Ticket         418 non-null object\n",
      "Fare           417 non-null float64\n",
      "Cabin          91 non-null object\n",
      "Embarked       418 non-null object\n",
      "dtypes: float64(2), int64(4), object(5)\n",
      "memory usage: 36.0+ KB\n"
     ]
    }
   ],
   "source": [
    "test.info()"
   ]
  },
  {
   "cell_type": "code",
   "execution_count": 8,
   "metadata": {},
   "outputs": [
    {
     "data": {
      "text/html": [
       "<div>\n",
       "<style scoped>\n",
       "    .dataframe tbody tr th:only-of-type {\n",
       "        vertical-align: middle;\n",
       "    }\n",
       "\n",
       "    .dataframe tbody tr th {\n",
       "        vertical-align: top;\n",
       "    }\n",
       "\n",
       "    .dataframe thead th {\n",
       "        text-align: right;\n",
       "    }\n",
       "</style>\n",
       "<table border=\"1\" class=\"dataframe\">\n",
       "  <thead>\n",
       "    <tr style=\"text-align: right;\">\n",
       "      <th></th>\n",
       "      <th>PassengerId</th>\n",
       "      <th>Survived</th>\n",
       "      <th>Pclass</th>\n",
       "      <th>Name</th>\n",
       "      <th>Sex</th>\n",
       "      <th>Age</th>\n",
       "      <th>SibSp</th>\n",
       "      <th>Parch</th>\n",
       "      <th>Ticket</th>\n",
       "      <th>Fare</th>\n",
       "      <th>Cabin</th>\n",
       "      <th>Embarked</th>\n",
       "    </tr>\n",
       "  </thead>\n",
       "  <tbody>\n",
       "    <tr>\n",
       "      <th>0</th>\n",
       "      <td>1</td>\n",
       "      <td>0</td>\n",
       "      <td>3</td>\n",
       "      <td>Braund, Mr. Owen Harris</td>\n",
       "      <td>male</td>\n",
       "      <td>22.0</td>\n",
       "      <td>1</td>\n",
       "      <td>0</td>\n",
       "      <td>A/5 21171</td>\n",
       "      <td>7.2500</td>\n",
       "      <td>NaN</td>\n",
       "      <td>S</td>\n",
       "    </tr>\n",
       "    <tr>\n",
       "      <th>1</th>\n",
       "      <td>2</td>\n",
       "      <td>1</td>\n",
       "      <td>1</td>\n",
       "      <td>Cumings, Mrs. John Bradley (Florence Briggs Th...</td>\n",
       "      <td>female</td>\n",
       "      <td>38.0</td>\n",
       "      <td>1</td>\n",
       "      <td>0</td>\n",
       "      <td>PC 17599</td>\n",
       "      <td>71.2833</td>\n",
       "      <td>C85</td>\n",
       "      <td>C</td>\n",
       "    </tr>\n",
       "  </tbody>\n",
       "</table>\n",
       "</div>"
      ],
      "text/plain": [
       "   PassengerId  Survived  Pclass  \\\n",
       "0            1         0       3   \n",
       "1            2         1       1   \n",
       "\n",
       "                                                Name     Sex   Age  SibSp  \\\n",
       "0                            Braund, Mr. Owen Harris    male  22.0      1   \n",
       "1  Cumings, Mrs. John Bradley (Florence Briggs Th...  female  38.0      1   \n",
       "\n",
       "   Parch     Ticket     Fare Cabin Embarked  \n",
       "0      0  A/5 21171   7.2500   NaN        S  \n",
       "1      0   PC 17599  71.2833   C85        C  "
      ]
     },
     "execution_count": 8,
     "metadata": {},
     "output_type": "execute_result"
    }
   ],
   "source": [
    "train.head(2)"
   ]
  },
  {
   "cell_type": "code",
   "execution_count": 9,
   "metadata": {},
   "outputs": [
    {
     "data": {
      "text/html": [
       "<div>\n",
       "<style scoped>\n",
       "    .dataframe tbody tr th:only-of-type {\n",
       "        vertical-align: middle;\n",
       "    }\n",
       "\n",
       "    .dataframe tbody tr th {\n",
       "        vertical-align: top;\n",
       "    }\n",
       "\n",
       "    .dataframe thead th {\n",
       "        text-align: right;\n",
       "    }\n",
       "</style>\n",
       "<table border=\"1\" class=\"dataframe\">\n",
       "  <thead>\n",
       "    <tr style=\"text-align: right;\">\n",
       "      <th></th>\n",
       "      <th>PassengerId</th>\n",
       "      <th>Pclass</th>\n",
       "      <th>Name</th>\n",
       "      <th>Sex</th>\n",
       "      <th>Age</th>\n",
       "      <th>SibSp</th>\n",
       "      <th>Parch</th>\n",
       "      <th>Ticket</th>\n",
       "      <th>Fare</th>\n",
       "      <th>Cabin</th>\n",
       "      <th>Embarked</th>\n",
       "    </tr>\n",
       "  </thead>\n",
       "  <tbody>\n",
       "    <tr>\n",
       "      <th>0</th>\n",
       "      <td>892</td>\n",
       "      <td>3</td>\n",
       "      <td>Kelly, Mr. James</td>\n",
       "      <td>male</td>\n",
       "      <td>34.5</td>\n",
       "      <td>0</td>\n",
       "      <td>0</td>\n",
       "      <td>330911</td>\n",
       "      <td>7.8292</td>\n",
       "      <td>NaN</td>\n",
       "      <td>Q</td>\n",
       "    </tr>\n",
       "    <tr>\n",
       "      <th>1</th>\n",
       "      <td>893</td>\n",
       "      <td>3</td>\n",
       "      <td>Wilkes, Mrs. James (Ellen Needs)</td>\n",
       "      <td>female</td>\n",
       "      <td>47.0</td>\n",
       "      <td>1</td>\n",
       "      <td>0</td>\n",
       "      <td>363272</td>\n",
       "      <td>7.0000</td>\n",
       "      <td>NaN</td>\n",
       "      <td>S</td>\n",
       "    </tr>\n",
       "  </tbody>\n",
       "</table>\n",
       "</div>"
      ],
      "text/plain": [
       "   PassengerId  Pclass                              Name     Sex   Age  SibSp  \\\n",
       "0          892       3                  Kelly, Mr. James    male  34.5      0   \n",
       "1          893       3  Wilkes, Mrs. James (Ellen Needs)  female  47.0      1   \n",
       "\n",
       "   Parch  Ticket    Fare Cabin Embarked  \n",
       "0      0  330911  7.8292   NaN        Q  \n",
       "1      0  363272  7.0000   NaN        S  "
      ]
     },
     "execution_count": 9,
     "metadata": {},
     "output_type": "execute_result"
    }
   ],
   "source": [
    "test.head(2)"
   ]
  },
  {
   "cell_type": "code",
   "execution_count": 10,
   "metadata": {},
   "outputs": [],
   "source": [
    "train_y = train.Survived\n",
    "train_x = train.drop('Survived', axis=1)\n",
    "\n",
    "x = pd.concat([train_x, test])\n",
    "x.reset_index(drop=True, inplace=True)"
   ]
  },
  {
   "cell_type": "code",
   "execution_count": 11,
   "metadata": {},
   "outputs": [
    {
     "data": {
      "text/html": [
       "<div>\n",
       "<style scoped>\n",
       "    .dataframe tbody tr th:only-of-type {\n",
       "        vertical-align: middle;\n",
       "    }\n",
       "\n",
       "    .dataframe tbody tr th {\n",
       "        vertical-align: top;\n",
       "    }\n",
       "\n",
       "    .dataframe thead th {\n",
       "        text-align: right;\n",
       "    }\n",
       "</style>\n",
       "<table border=\"1\" class=\"dataframe\">\n",
       "  <thead>\n",
       "    <tr style=\"text-align: right;\">\n",
       "      <th></th>\n",
       "      <th>PassengerId</th>\n",
       "      <th>Pclass</th>\n",
       "      <th>Name</th>\n",
       "      <th>Sex</th>\n",
       "      <th>Age</th>\n",
       "      <th>SibSp</th>\n",
       "      <th>Parch</th>\n",
       "      <th>Ticket</th>\n",
       "      <th>Fare</th>\n",
       "      <th>Cabin</th>\n",
       "      <th>Embarked</th>\n",
       "    </tr>\n",
       "  </thead>\n",
       "  <tbody>\n",
       "    <tr>\n",
       "      <th>1307</th>\n",
       "      <td>1308</td>\n",
       "      <td>3</td>\n",
       "      <td>Ware, Mr. Frederick</td>\n",
       "      <td>male</td>\n",
       "      <td>NaN</td>\n",
       "      <td>0</td>\n",
       "      <td>0</td>\n",
       "      <td>359309</td>\n",
       "      <td>8.0500</td>\n",
       "      <td>NaN</td>\n",
       "      <td>S</td>\n",
       "    </tr>\n",
       "    <tr>\n",
       "      <th>1308</th>\n",
       "      <td>1309</td>\n",
       "      <td>3</td>\n",
       "      <td>Peter, Master. Michael J</td>\n",
       "      <td>male</td>\n",
       "      <td>NaN</td>\n",
       "      <td>1</td>\n",
       "      <td>1</td>\n",
       "      <td>2668</td>\n",
       "      <td>22.3583</td>\n",
       "      <td>NaN</td>\n",
       "      <td>C</td>\n",
       "    </tr>\n",
       "  </tbody>\n",
       "</table>\n",
       "</div>"
      ],
      "text/plain": [
       "      PassengerId  Pclass                      Name   Sex  Age  SibSp  Parch  \\\n",
       "1307         1308       3       Ware, Mr. Frederick  male  NaN      0      0   \n",
       "1308         1309       3  Peter, Master. Michael J  male  NaN      1      1   \n",
       "\n",
       "      Ticket     Fare Cabin Embarked  \n",
       "1307  359309   8.0500   NaN        S  \n",
       "1308    2668  22.3583   NaN        C  "
      ]
     },
     "execution_count": 11,
     "metadata": {},
     "output_type": "execute_result"
    }
   ],
   "source": [
    "x.tail(2)"
   ]
  },
  {
   "cell_type": "code",
   "execution_count": 12,
   "metadata": {},
   "outputs": [
    {
     "name": "stdout",
     "output_type": "stream",
     "text": [
      "<class 'pandas.core.frame.DataFrame'>\n",
      "RangeIndex: 1309 entries, 0 to 1308\n",
      "Data columns (total 11 columns):\n",
      "PassengerId    1309 non-null int64\n",
      "Pclass         1309 non-null int64\n",
      "Name           1309 non-null object\n",
      "Sex            1309 non-null object\n",
      "Age            1046 non-null float64\n",
      "SibSp          1309 non-null int64\n",
      "Parch          1309 non-null int64\n",
      "Ticket         1309 non-null object\n",
      "Fare           1308 non-null float64\n",
      "Cabin          295 non-null object\n",
      "Embarked       1307 non-null object\n",
      "dtypes: float64(2), int64(4), object(5)\n",
      "memory usage: 112.6+ KB\n"
     ]
    }
   ],
   "source": [
    "x.info()"
   ]
  },
  {
   "cell_type": "code",
   "execution_count": 13,
   "metadata": {},
   "outputs": [],
   "source": [
    "x_continuous, x_categorical = [], []"
   ]
  },
  {
   "cell_type": "code",
   "execution_count": 14,
   "metadata": {},
   "outputs": [],
   "source": [
    "for col in x.columns:\n",
    "    if x[col].dtype == 'object':\n",
    "        x_categorical.append(col)\n",
    "    else:\n",
    "        x_continuous.append(col)"
   ]
  },
  {
   "cell_type": "code",
   "execution_count": 15,
   "metadata": {},
   "outputs": [
    {
     "data": {
      "text/html": [
       "<div>\n",
       "<style scoped>\n",
       "    .dataframe tbody tr th:only-of-type {\n",
       "        vertical-align: middle;\n",
       "    }\n",
       "\n",
       "    .dataframe tbody tr th {\n",
       "        vertical-align: top;\n",
       "    }\n",
       "\n",
       "    .dataframe thead th {\n",
       "        text-align: right;\n",
       "    }\n",
       "</style>\n",
       "<table border=\"1\" class=\"dataframe\">\n",
       "  <thead>\n",
       "    <tr style=\"text-align: right;\">\n",
       "      <th></th>\n",
       "      <th>PassengerId</th>\n",
       "      <th>Pclass</th>\n",
       "      <th>Age</th>\n",
       "      <th>SibSp</th>\n",
       "      <th>Parch</th>\n",
       "      <th>Fare</th>\n",
       "    </tr>\n",
       "  </thead>\n",
       "  <tbody>\n",
       "    <tr>\n",
       "      <th>count</th>\n",
       "      <td>1309.000000</td>\n",
       "      <td>1309.000000</td>\n",
       "      <td>1046.000000</td>\n",
       "      <td>1309.000000</td>\n",
       "      <td>1309.000000</td>\n",
       "      <td>1308.000000</td>\n",
       "    </tr>\n",
       "    <tr>\n",
       "      <th>mean</th>\n",
       "      <td>655.000000</td>\n",
       "      <td>2.294882</td>\n",
       "      <td>29.881138</td>\n",
       "      <td>0.498854</td>\n",
       "      <td>0.385027</td>\n",
       "      <td>33.295479</td>\n",
       "    </tr>\n",
       "    <tr>\n",
       "      <th>std</th>\n",
       "      <td>378.020061</td>\n",
       "      <td>0.837836</td>\n",
       "      <td>14.413493</td>\n",
       "      <td>1.041658</td>\n",
       "      <td>0.865560</td>\n",
       "      <td>51.758668</td>\n",
       "    </tr>\n",
       "    <tr>\n",
       "      <th>min</th>\n",
       "      <td>1.000000</td>\n",
       "      <td>1.000000</td>\n",
       "      <td>0.170000</td>\n",
       "      <td>0.000000</td>\n",
       "      <td>0.000000</td>\n",
       "      <td>0.000000</td>\n",
       "    </tr>\n",
       "    <tr>\n",
       "      <th>25%</th>\n",
       "      <td>328.000000</td>\n",
       "      <td>2.000000</td>\n",
       "      <td>21.000000</td>\n",
       "      <td>0.000000</td>\n",
       "      <td>0.000000</td>\n",
       "      <td>7.895800</td>\n",
       "    </tr>\n",
       "    <tr>\n",
       "      <th>50%</th>\n",
       "      <td>655.000000</td>\n",
       "      <td>3.000000</td>\n",
       "      <td>28.000000</td>\n",
       "      <td>0.000000</td>\n",
       "      <td>0.000000</td>\n",
       "      <td>14.454200</td>\n",
       "    </tr>\n",
       "    <tr>\n",
       "      <th>75%</th>\n",
       "      <td>982.000000</td>\n",
       "      <td>3.000000</td>\n",
       "      <td>39.000000</td>\n",
       "      <td>1.000000</td>\n",
       "      <td>0.000000</td>\n",
       "      <td>31.275000</td>\n",
       "    </tr>\n",
       "    <tr>\n",
       "      <th>max</th>\n",
       "      <td>1309.000000</td>\n",
       "      <td>3.000000</td>\n",
       "      <td>80.000000</td>\n",
       "      <td>8.000000</td>\n",
       "      <td>9.000000</td>\n",
       "      <td>512.329200</td>\n",
       "    </tr>\n",
       "  </tbody>\n",
       "</table>\n",
       "</div>"
      ],
      "text/plain": [
       "       PassengerId       Pclass          Age        SibSp        Parch  \\\n",
       "count  1309.000000  1309.000000  1046.000000  1309.000000  1309.000000   \n",
       "mean    655.000000     2.294882    29.881138     0.498854     0.385027   \n",
       "std     378.020061     0.837836    14.413493     1.041658     0.865560   \n",
       "min       1.000000     1.000000     0.170000     0.000000     0.000000   \n",
       "25%     328.000000     2.000000    21.000000     0.000000     0.000000   \n",
       "50%     655.000000     3.000000    28.000000     0.000000     0.000000   \n",
       "75%     982.000000     3.000000    39.000000     1.000000     0.000000   \n",
       "max    1309.000000     3.000000    80.000000     8.000000     9.000000   \n",
       "\n",
       "              Fare  \n",
       "count  1308.000000  \n",
       "mean     33.295479  \n",
       "std      51.758668  \n",
       "min       0.000000  \n",
       "25%       7.895800  \n",
       "50%      14.454200  \n",
       "75%      31.275000  \n",
       "max     512.329200  "
      ]
     },
     "execution_count": 15,
     "metadata": {},
     "output_type": "execute_result"
    }
   ],
   "source": [
    "x[x_continuous].describe()"
   ]
  },
  {
   "cell_type": "code",
   "execution_count": 16,
   "metadata": {},
   "outputs": [
    {
     "name": "stdout",
     "output_type": "stream",
     "text": [
      "-- column name :  PassengerId\n",
      "--------- nunique :  1309\n",
      "[   1    2    3 ... 1307 1308 1309]\n",
      "======================================================================================================================================================\n",
      "-- column name :  Pclass\n",
      "--------- nunique :  3\n",
      "[3 1 2]\n",
      "======================================================================================================================================================\n",
      "-- column name :  Age\n",
      "--------- nunique :  98\n",
      "[22.   38.   26.   35.     nan 54.    2.   27.   14.    4.   58.   20.\n",
      " 39.   55.   31.   34.   15.   28.    8.   19.   40.   66.   42.   21.\n",
      " 18.    3.    7.   49.   29.   65.   28.5   5.   11.   45.   17.   32.\n",
      " 16.   25.    0.83 30.   33.   23.   24.   46.   59.   71.   37.   47.\n",
      " 14.5  70.5  32.5  12.    9.   36.5  51.   55.5  40.5  44.    1.   61.\n",
      " 56.   50.   36.   45.5  20.5  62.   41.   52.   63.   23.5   0.92 43.\n",
      " 60.   10.   64.   13.   48.    0.75 53.   57.   80.   70.   24.5   6.\n",
      "  0.67 30.5   0.42 34.5  74.   22.5  18.5  67.   76.   26.5  60.5  11.5\n",
      "  0.33  0.17 38.5 ]\n",
      "======================================================================================================================================================\n",
      "-- column name :  SibSp\n",
      "--------- nunique :  7\n",
      "[1 0 3 4 2 5 8]\n",
      "======================================================================================================================================================\n",
      "-- column name :  Parch\n",
      "--------- nunique :  8\n",
      "[0 1 2 5 3 4 6 9]\n",
      "======================================================================================================================================================\n",
      "-- column name :  Fare\n",
      "--------- nunique :  281\n",
      "[  7.25    71.2833   7.925   53.1      8.05     8.4583  51.8625  21.075\n",
      "  11.1333  30.0708  16.7     26.55    31.275    7.8542  16.      29.125\n",
      "  13.      18.       7.225   26.       8.0292  35.5     31.3875 263.\n",
      "   7.8792   7.8958  27.7208 146.5208   7.75    10.5     82.1708  52.\n",
      "   7.2292  11.2417   9.475   21.      41.5792  15.5     21.6792  17.8\n",
      "  39.6875   7.8     76.7292  61.9792  27.75    46.9     80.      83.475\n",
      "  27.9     15.2458   8.1583   8.6625  73.5     14.4542  56.4958   7.65\n",
      "  29.      12.475    9.       9.5      7.7875  47.1     15.85    34.375\n",
      "  61.175   20.575   34.6542  63.3583  23.      77.2875   8.6542   7.775\n",
      "  24.15     9.825   14.4583 247.5208   7.1417  22.3583   6.975    7.05\n",
      "  14.5     15.0458  26.2833   9.2167  79.2      6.75    11.5     36.75\n",
      "   7.7958  12.525   66.6      7.3125  61.3792   7.7333  69.55    16.1\n",
      "  15.75    20.525   55.      25.925   33.5     30.6958  25.4667  28.7125\n",
      "   0.      15.05    39.      22.025   50.       8.4042   6.4958  10.4625\n",
      "  18.7875  31.     113.275   27.      76.2917  90.       9.35    13.5\n",
      "   7.55    26.25    12.275    7.125   52.5542  20.2125  86.5    512.3292\n",
      "  79.65   153.4625 135.6333  19.5     29.7     77.9583  20.25    78.85\n",
      "  91.0792  12.875    8.85   151.55    30.5     23.25    12.35   110.8833\n",
      " 108.9     24.      56.9292  83.1583 262.375   14.     164.8667 134.5\n",
      "   6.2375  57.9792  28.5    133.65    15.9      9.225   35.      75.25\n",
      "  69.3     55.4417 211.5      4.0125 227.525   15.7417   7.7292  12.\n",
      " 120.      12.65    18.75     6.8583  32.5      7.875   14.4     55.9\n",
      "   8.1125  81.8583  19.2583  19.9667  89.1042  38.5      7.725   13.7917\n",
      "   9.8375   7.0458   7.5208  12.2875   9.5875  49.5042  78.2667  15.1\n",
      "   7.6292  22.525   26.2875  59.4      7.4958  34.0208  93.5    221.7792\n",
      " 106.425   49.5     71.      13.8625   7.8292  39.6     17.4     51.4792\n",
      "  26.3875  30.      40.125    8.7125  15.      33.      42.4     15.55\n",
      "  65.      32.3208   7.0542   8.4333  25.5875   9.8417   8.1375  10.1708\n",
      " 211.3375  57.      13.4167   7.7417   9.4833   7.7375   8.3625  23.45\n",
      "  25.9292   8.6833   8.5167   7.8875  37.0042   6.45     6.95     8.3\n",
      "   6.4375  39.4     14.1083  13.8583  50.4958   5.       9.8458  10.5167\n",
      "   7.       9.6875  82.2667   3.1708  31.6833  31.5     57.75     7.85\n",
      "  60.      15.0333  15.5792  28.5375  25.7     10.7083  13.9      7.8208\n",
      "   7.7792  31.6792   7.2833  75.2417      nan  12.1833  13.775    8.9625\n",
      "  25.7417  42.5     27.4458 136.7792   9.325   12.7375  45.5      7.575\n",
      "   7.5792   7.7208]\n",
      "======================================================================================================================================================\n"
     ]
    }
   ],
   "source": [
    "for col in x_continuous:\n",
    "    print('-- column name : ', col)\n",
    "    print('--------- nunique : ', x[col].nunique())\n",
    "    print(x[col].unique())\n",
    "    print('='*150)"
   ]
  },
  {
   "cell_type": "code",
   "execution_count": 17,
   "metadata": {},
   "outputs": [
    {
     "data": {
      "text/html": [
       "<div>\n",
       "<style scoped>\n",
       "    .dataframe tbody tr th:only-of-type {\n",
       "        vertical-align: middle;\n",
       "    }\n",
       "\n",
       "    .dataframe tbody tr th {\n",
       "        vertical-align: top;\n",
       "    }\n",
       "\n",
       "    .dataframe thead th {\n",
       "        text-align: right;\n",
       "    }\n",
       "</style>\n",
       "<table border=\"1\" class=\"dataframe\">\n",
       "  <thead>\n",
       "    <tr style=\"text-align: right;\">\n",
       "      <th></th>\n",
       "      <th>Name</th>\n",
       "      <th>Sex</th>\n",
       "      <th>Ticket</th>\n",
       "      <th>Cabin</th>\n",
       "      <th>Embarked</th>\n",
       "    </tr>\n",
       "  </thead>\n",
       "  <tbody>\n",
       "    <tr>\n",
       "      <th>count</th>\n",
       "      <td>1309</td>\n",
       "      <td>1309</td>\n",
       "      <td>1309</td>\n",
       "      <td>295</td>\n",
       "      <td>1307</td>\n",
       "    </tr>\n",
       "    <tr>\n",
       "      <th>unique</th>\n",
       "      <td>1307</td>\n",
       "      <td>2</td>\n",
       "      <td>929</td>\n",
       "      <td>186</td>\n",
       "      <td>3</td>\n",
       "    </tr>\n",
       "    <tr>\n",
       "      <th>top</th>\n",
       "      <td>Connolly, Miss. Kate</td>\n",
       "      <td>male</td>\n",
       "      <td>CA. 2343</td>\n",
       "      <td>C23 C25 C27</td>\n",
       "      <td>S</td>\n",
       "    </tr>\n",
       "    <tr>\n",
       "      <th>freq</th>\n",
       "      <td>2</td>\n",
       "      <td>843</td>\n",
       "      <td>11</td>\n",
       "      <td>6</td>\n",
       "      <td>914</td>\n",
       "    </tr>\n",
       "  </tbody>\n",
       "</table>\n",
       "</div>"
      ],
      "text/plain": [
       "                        Name   Sex    Ticket        Cabin Embarked\n",
       "count                   1309  1309      1309          295     1307\n",
       "unique                  1307     2       929          186        3\n",
       "top     Connolly, Miss. Kate  male  CA. 2343  C23 C25 C27        S\n",
       "freq                       2   843        11            6      914"
      ]
     },
     "execution_count": 17,
     "metadata": {},
     "output_type": "execute_result"
    }
   ],
   "source": [
    "x[x_categorical].describe()"
   ]
  },
  {
   "cell_type": "code",
   "execution_count": 18,
   "metadata": {},
   "outputs": [
    {
     "name": "stdout",
     "output_type": "stream",
     "text": [
      "-- column name :  Name\n",
      "--------- nunique :  1307\n",
      "['Braund, Mr. Owen Harris'\n",
      " 'Cumings, Mrs. John Bradley (Florence Briggs Thayer)'\n",
      " 'Heikkinen, Miss. Laina' ... 'Saether, Mr. Simon Sivertsen'\n",
      " 'Ware, Mr. Frederick' 'Peter, Master. Michael J']\n",
      "======================================================================================================================================================\n",
      "-- column name :  Sex\n",
      "--------- nunique :  2\n",
      "['male' 'female']\n",
      "======================================================================================================================================================\n",
      "-- column name :  Ticket\n",
      "--------- nunique :  929\n",
      "['A/5 21171' 'PC 17599' 'STON/O2. 3101282' '113803' '373450' '330877'\n",
      " '17463' '349909' '347742' '237736' 'PP 9549' '113783' 'A/5. 2151'\n",
      " '347082' '350406' '248706' '382652' '244373' '345763' '2649' '239865'\n",
      " '248698' '330923' '113788' '347077' '2631' '19950' '330959' '349216'\n",
      " 'PC 17601' 'PC 17569' '335677' 'C.A. 24579' 'PC 17604' '113789' '2677'\n",
      " 'A./5. 2152' '345764' '2651' '7546' '11668' '349253' 'SC/Paris 2123'\n",
      " '330958' 'S.C./A.4. 23567' '370371' '14311' '2662' '349237' '3101295'\n",
      " 'A/4. 39886' 'PC 17572' '2926' '113509' '19947' 'C.A. 31026' '2697'\n",
      " 'C.A. 34651' 'CA 2144' '2669' '113572' '36973' '347088' 'PC 17605' '2661'\n",
      " 'C.A. 29395' 'S.P. 3464' '3101281' '315151' 'C.A. 33111' 'S.O.C. 14879'\n",
      " '2680' '1601' '348123' '349208' '374746' '248738' '364516' '345767'\n",
      " '345779' '330932' '113059' 'SO/C 14885' '3101278' 'W./C. 6608'\n",
      " 'SOTON/OQ 392086' '343275' '343276' '347466' 'W.E.P. 5734' 'C.A. 2315'\n",
      " '364500' '374910' 'PC 17754' 'PC 17759' '231919' '244367' '349245'\n",
      " '349215' '35281' '7540' '3101276' '349207' '343120' '312991' '349249'\n",
      " '371110' '110465' '2665' '324669' '4136' '2627' 'STON/O 2. 3101294'\n",
      " '370369' 'PC 17558' 'A4. 54510' '27267' '370372' 'C 17369' '2668'\n",
      " '347061' '349241' 'SOTON/O.Q. 3101307' 'A/5. 3337' '228414' 'C.A. 29178'\n",
      " 'SC/PARIS 2133' '11752' '7534' 'PC 17593' '2678' '347081'\n",
      " 'STON/O2. 3101279' '365222' '231945' 'C.A. 33112' '350043' '230080'\n",
      " '244310' 'S.O.P. 1166' '113776' 'A.5. 11206' 'A/5. 851' 'Fa 265302'\n",
      " 'PC 17597' '35851' 'SOTON/OQ 392090' '315037' 'CA. 2343' '371362'\n",
      " 'C.A. 33595' '347068' '315093' '363291' '113505' 'PC 17318' '111240'\n",
      " 'STON/O 2. 3101280' '17764' '350404' '4133' 'PC 17595' '250653' 'LINE'\n",
      " 'SC/PARIS 2131' '230136' '315153' '113767' '370365' '111428' '364849'\n",
      " '349247' '234604' '28424' '350046' 'PC 17610' '368703' '4579' '370370'\n",
      " '248747' '345770' '3101264' '2628' 'A/5 3540' '347054' '2699' '367231'\n",
      " '112277' 'SOTON/O.Q. 3101311' 'F.C.C. 13528' 'A/5 21174' '250646'\n",
      " '367229' '35273' 'STON/O2. 3101283' '243847' '11813' 'W/C 14208'\n",
      " 'SOTON/OQ 392089' '220367' '21440' '349234' '19943' 'PP 4348' 'SW/PP 751'\n",
      " 'A/5 21173' '236171' '347067' '237442' 'C.A. 29566' 'W./C. 6609' '26707'\n",
      " 'C.A. 31921' '28665' 'SCO/W 1585' '367230' 'W./C. 14263'\n",
      " 'STON/O 2. 3101275' '2694' '19928' '347071' '250649' '11751' '244252'\n",
      " '362316' '113514' 'A/5. 3336' '370129' '2650' 'PC 17585' '110152'\n",
      " 'PC 17755' '230433' '384461' '110413' '112059' '382649' 'C.A. 17248'\n",
      " '347083' 'PC 17582' 'PC 17760' '113798' '250644' 'PC 17596' '370375'\n",
      " '13502' '347073' '239853' 'C.A. 2673' '336439' '347464' '345778'\n",
      " 'A/5. 10482' '113056' '349239' '345774' '349206' '237798' '370373'\n",
      " '19877' '11967' 'SC/Paris 2163' '349236' '349233' 'PC 17612' '2693'\n",
      " '113781' '19988' '9234' '367226' '226593' 'A/5 2466' '17421' 'PC 17758'\n",
      " 'P/PP 3381' 'PC 17485' '11767' 'PC 17608' '250651' '349243'\n",
      " 'F.C.C. 13529' '347470' '29011' '36928' '16966' 'A/5 21172' '349219'\n",
      " '234818' '345364' '28551' '111361' '113043' 'PC 17611' '349225' '7598'\n",
      " '113784' '248740' '244361' '229236' '248733' '31418' '386525'\n",
      " 'C.A. 37671' '315088' '7267' '113510' '2695' '2647' '345783' '237671'\n",
      " '330931' '330980' 'SC/PARIS 2167' '2691' 'SOTON/O.Q. 3101310' 'C 7076'\n",
      " '110813' '2626' '14313' 'PC 17477' '11765' '3101267' '323951' 'C 7077'\n",
      " '113503' '2648' '347069' 'PC 17757' '2653' 'STON/O 2. 3101293' '349227'\n",
      " '27849' '367655' 'SC 1748' '113760' '350034' '3101277' '350052' '350407'\n",
      " '28403' '244278' '240929' 'STON/O 2. 3101289' '341826' '4137' '315096'\n",
      " '28664' '347064' '29106' '312992' '349222' '394140' 'STON/O 2. 3101269'\n",
      " '343095' '28220' '250652' '28228' '345773' '349254' 'A/5. 13032' '315082'\n",
      " '347080' 'A/4. 34244' '2003' '250655' '364851' 'SOTON/O.Q. 392078'\n",
      " '110564' '376564' 'SC/AH 3085' 'STON/O 2. 3101274' '13507' 'C.A. 18723'\n",
      " '345769' '347076' '230434' '65306' '33638' '113794' '2666' '113786'\n",
      " '65303' '113051' '17453' 'A/5 2817' '349240' '13509' '17464'\n",
      " 'F.C.C. 13531' '371060' '19952' '364506' '111320' '234360' 'A/S 2816'\n",
      " 'SOTON/O.Q. 3101306' '113792' '36209' '323592' '315089' 'SC/AH Basle 541'\n",
      " '7553' '31027' '3460' '350060' '3101298' '239854' 'A/5 3594' '4134'\n",
      " '11771' 'A.5. 18509' '65304' 'SOTON/OQ 3101317' '113787' 'PC 17609'\n",
      " 'A/4 45380' '36947' 'C.A. 6212' '350035' '315086' '364846' '330909'\n",
      " '4135' '26360' '111427' 'C 4001' '382651' 'SOTON/OQ 3101316' 'PC 17473'\n",
      " 'PC 17603' '349209' '36967' 'C.A. 34260' '226875' '349242' '12749'\n",
      " '349252' '2624' '2700' '367232' 'W./C. 14258' 'PC 17483' '3101296'\n",
      " '29104' '2641' '2690' '315084' '113050' 'PC 17761' '364498' '13568'\n",
      " 'WE/P 5735' '2908' '693' 'SC/PARIS 2146' '244358' '330979' '2620'\n",
      " '347085' '113807' '11755' '345572' '372622' '349251' '218629'\n",
      " 'SOTON/OQ 392082' 'SOTON/O.Q. 392087' 'A/4 48871' '349205' '2686'\n",
      " '350417' 'S.W./PP 752' '11769' 'PC 17474' '14312' 'A/4. 20589' '358585'\n",
      " '243880' '2689' 'STON/O 2. 3101286' '237789' '13049' '3411' '237565'\n",
      " '13567' '14973' 'A./5. 3235' 'STON/O 2. 3101273' 'A/5 3902' '364848'\n",
      " 'SC/AH 29037' '248727' '2664' '349214' '113796' '364511' '111426'\n",
      " '349910' '349246' '113804' 'SOTON/O.Q. 3101305' '370377' '364512'\n",
      " '220845' '31028' '2659' '11753' '350029' '54636' '36963' '219533'\n",
      " '349224' '334912' '27042' '347743' '13214' '112052' '237668'\n",
      " 'STON/O 2. 3101292' '350050' '349231' '13213' 'S.O./P.P. 751' 'CA. 2314'\n",
      " '349221' '8475' '330919' '365226' '349223' '29751' '2623' '5727' '349210'\n",
      " 'STON/O 2. 3101285' '234686' '312993' 'A/5 3536' '19996' '29750'\n",
      " 'F.C. 12750' 'C.A. 24580' '244270' '239856' '349912' '342826' '4138'\n",
      " '330935' '6563' '349228' '350036' '24160' '17474' '349256' '2672'\n",
      " '113800' '248731' '363592' '35852' '348121' 'PC 17475' '36864' '350025'\n",
      " '223596' 'PC 17476' 'PC 17482' '113028' '7545' '250647' '348124' '34218'\n",
      " '36568' '347062' '350048' '12233' '250643' '113806' '315094' '36866'\n",
      " '236853' 'STON/O2. 3101271' '239855' '28425' '233639' '349201' '349218'\n",
      " '16988' '376566' 'STON/O 2. 3101288' '250648' '113773' '335097' '29103'\n",
      " '392096' '345780' '349204' '350042' '29108' '363294' 'SOTON/O2 3101272'\n",
      " '2663' '347074' '112379' '364850' '8471' '345781' '350047' 'S.O./P.P. 3'\n",
      " '2674' '29105' '347078' '383121' '36865' '2687' '113501' 'W./C. 6607'\n",
      " 'SOTON/O.Q. 3101312' '374887' '3101265' '12460' 'PC 17600' '349203'\n",
      " '28213' '17465' '349244' '2685' '2625' '347089' '347063' '112050'\n",
      " '347087' '248723' '3474' '28206' '364499' '112058' 'STON/O2. 3101290'\n",
      " 'S.C./PARIS 2079' 'C 7075' '315098' '19972' '368323' '367228' '2671'\n",
      " '347468' '2223' 'PC 17756' '315097' '392092' '11774' 'SOTON/O2 3101287'\n",
      " '2683' '315090' 'C.A. 5547' '349213' '347060' 'PC 17592' '392091'\n",
      " '113055' '2629' '350026' '28134' '17466' '233866' '236852'\n",
      " 'SC/PARIS 2149' 'PC 17590' '345777' '349248' '695' '345765' '2667'\n",
      " '349212' '349217' '349257' '7552' 'C.A./SOTON 34068' 'SOTON/OQ 392076'\n",
      " '211536' '112053' '111369' '370376' '330911' '363272' '240276' '315154'\n",
      " '7538' '330972' '2657' '349220' '694' '21228' '24065' '233734' '2692'\n",
      " 'STON/O2. 3101270' '2696' 'C 17368' 'PC 17598' '2698' '113054'\n",
      " 'C.A. 31029' '13236' '2682' '342712' '315087' '345768' '113778'\n",
      " 'SOTON/O.Q. 3101263' '237249' 'STON/O 2. 3101291' 'PC 17594' '370374'\n",
      " '13695' 'SC/PARIS 2168' 'SC/A.3 2861' '349230' '348122' '349232' '237216'\n",
      " '347090' '334914' 'F.C.C. 13534' '330963' '2543' '382653' '349211'\n",
      " '3101297' 'PC 17562' '359306' '11770' '248744' '368702' '19924' '349238'\n",
      " '240261' '2660' '330844' 'A/4 31416' '364856' '347072' '345498' '376563'\n",
      " '13905' '350033' 'STON/O 2. 3101268' '347471' 'A./5. 3338' '11778'\n",
      " '365235' '347070' '330920' '383162' '3410' '248734' '237734' '330968'\n",
      " 'PC 17531' '329944' '2681' '13050' '367227' '392095' '368783' '350045'\n",
      " '211535' '342441' 'STON/OQ. 369943' '113780' '2621' '349226' '350409'\n",
      " '2656' '248659' 'SOTON/OQ 392083' '17475' 'SC/A4 23568' '113791' '349255'\n",
      " '3701' '350405' 'S.O./P.P. 752' '347469' '110489' 'SOTON/O.Q. 3101315'\n",
      " '335432' '220844' '343271' '237393' 'PC 17591' '17770' '7548'\n",
      " 'S.O./P.P. 251' '2670' '2673' '233478' '7935' '239059' 'S.O./P.P. 2'\n",
      " 'A/4 48873' '28221' '111163' '235509' '347465' '347066' 'C.A. 31030'\n",
      " '65305' 'C.A. 34050' 'F.C. 12998' '9232' '28034' 'PC 17613' '349250'\n",
      " 'SOTON/O.Q. 3101308' '347091' '113038' '330924' '32302' 'SC/PARIS 2148'\n",
      " '342684' 'W./C. 14266' '350053' 'PC 17606' '350054' '370368' '242963'\n",
      " '113795' '3101266' '330971' '350416' '2679' '250650' '112377' '3470'\n",
      " 'SOTON/O2 3101284' '13508' '7266' '345775' 'C.A. 42795' 'AQ/4 3130'\n",
      " '363611' '28404' '345501' '350410' 'C.A. 34644' '349235' '112051'\n",
      " 'C.A. 49867' 'A. 2. 39186' '315095' '368573' '2676' 'SC 14888' 'CA 31352'\n",
      " 'W./C. 14260' '315085' '364859' 'A/5 21175' 'SOTON/O.Q. 3101314' '2655'\n",
      " 'A/5 1478' 'PC 17607' '382650' '2652' '345771' '349202' '113801' '347467'\n",
      " '347079' '237735' '315092' '383123' '112901' '315091' '2658' 'LP 1588'\n",
      " '368364' 'AQ/3. 30631' '28004' '350408' '347075' '2654' '244368' '113790'\n",
      " 'SOTON/O.Q. 3101309' '236854' 'PC 17580' '2684' '349229' '110469'\n",
      " '244360' '2675' '2622' 'C.A. 15185' '350403' '348125' '237670' '2688'\n",
      " '248726' 'F.C.C. 13540' '113044' '1222' '368402' '315083' '112378'\n",
      " 'SC/PARIS 2147' '28133' '248746' '315152' '29107' '680' '366713' '330910'\n",
      " 'SC/PARIS 2159' '349911' '244346' '364858' 'C.A. 30769' '371109' '347065'\n",
      " '21332' '17765' 'SC/PARIS 2166' '28666' '334915' '365237' '347086'\n",
      " 'A.5. 3236' 'SOTON/O.Q. 3101262' '359309']\n",
      "======================================================================================================================================================\n",
      "-- column name :  Cabin\n",
      "--------- nunique :  186\n",
      "[nan 'C85' 'C123' 'E46' 'G6' 'C103' 'D56' 'A6' 'C23 C25 C27' 'B78' 'D33'\n",
      " 'B30' 'C52' 'B28' 'C83' 'F33' 'F G73' 'E31' 'A5' 'D10 D12' 'D26' 'C110'\n",
      " 'B58 B60' 'E101' 'F E69' 'D47' 'B86' 'F2' 'C2' 'E33' 'B19' 'A7' 'C49'\n",
      " 'F4' 'A32' 'B4' 'B80' 'A31' 'D36' 'D15' 'C93' 'C78' 'D35' 'C87' 'B77'\n",
      " 'E67' 'B94' 'C125' 'C99' 'C118' 'D7' 'A19' 'B49' 'D' 'C22 C26' 'C106'\n",
      " 'C65' 'E36' 'C54' 'B57 B59 B63 B66' 'C7' 'E34' 'C32' 'B18' 'C124' 'C91'\n",
      " 'E40' 'T' 'C128' 'D37' 'B35' 'E50' 'C82' 'B96 B98' 'E10' 'E44' 'A34'\n",
      " 'C104' 'C111' 'C92' 'E38' 'D21' 'E12' 'E63' 'A14' 'B37' 'C30' 'D20' 'B79'\n",
      " 'E25' 'D46' 'B73' 'C95' 'B38' 'B39' 'B22' 'C86' 'C70' 'A16' 'C101' 'C68'\n",
      " 'A10' 'E68' 'B41' 'A20' 'D19' 'D50' 'D9' 'A23' 'B50' 'A26' 'D48' 'E58'\n",
      " 'C126' 'B71' 'B51 B53 B55' 'D49' 'B5' 'B20' 'F G63' 'C62 C64' 'E24' 'C90'\n",
      " 'C45' 'E8' 'B101' 'D45' 'C46' 'D30' 'E121' 'D11' 'E77' 'F38' 'B3' 'D6'\n",
      " 'B82 B84' 'D17' 'A36' 'B102' 'B69' 'E49' 'C47' 'D28' 'E17' 'A24' 'C50'\n",
      " 'B42' 'C148' 'B45' 'B36' 'A21' 'D34' 'A9' 'C31' 'B61' 'C53' 'D43' 'C130'\n",
      " 'C132' 'C55 C57' 'C116' 'F' 'A29' 'C6' 'C28' 'C51' 'C97' 'D22' 'B10'\n",
      " 'E45' 'E52' 'A11' 'B11' 'C80' 'C89' 'F E46' 'B26' 'F E57' 'A18' 'E60'\n",
      " 'E39 E41' 'B52 B54 B56' 'C39' 'B24' 'D40' 'D38' 'C105']\n",
      "======================================================================================================================================================\n",
      "-- column name :  Embarked\n",
      "--------- nunique :  3\n",
      "['S' 'C' 'Q' nan]\n",
      "======================================================================================================================================================\n"
     ]
    }
   ],
   "source": [
    "for col in x_categorical:\n",
    "    print('-- column name : ', col)\n",
    "    print('--------- nunique : ', x[col].nunique())\n",
    "    print(x[col].unique())\n",
    "    print('='*150)"
   ]
  },
  {
   "cell_type": "code",
   "execution_count": 19,
   "metadata": {},
   "outputs": [],
   "source": [
    "skip_cols = ['PassengerId', 'Name', 'Ticket', 'Cabin', 'Fare']"
   ]
  },
  {
   "cell_type": "code",
   "execution_count": 20,
   "metadata": {},
   "outputs": [
    {
     "name": "stdout",
     "output_type": "stream",
     "text": [
      "--------------------------------------------------\n",
      "col :  Pclass\n"
     ]
    },
    {
     "data": {
      "image/png": "[encoded data removed]",
      "text/plain": [
       "<Figure size 2160x360 with 1 Axes>"
      ]
     },
     "metadata": {
      "needs_background": "light"
     },
     "output_type": "display_data"
    },
    {
     "name": "stdout",
     "output_type": "stream",
     "text": [
      "--------------------------------------------------\n",
      "col :  Sex\n"
     ]
    },
    {
     "data": {
      "image/png": "[encoded data removed]",
      "text/plain": [
       "<Figure size 2160x360 with 1 Axes>"
      ]
     },
     "metadata": {
      "needs_background": "light"
     },
     "output_type": "display_data"
    },
    {
     "name": "stdout",
     "output_type": "stream",
     "text": [
      "--------------------------------------------------\n",
      "col :  Age\n"
     ]
    },
    {
     "data": {
      "image/png": "[encoded data removed]",
      "text/plain": [
       "<Figure size 2160x360 with 1 Axes>"
      ]
     },
     "metadata": {
      "needs_background": "light"
     },
     "output_type": "display_data"
    },
    {
     "name": "stdout",
     "output_type": "stream",
     "text": [
      "--------------------------------------------------\n",
      "col :  SibSp\n"
     ]
    },
    {
     "data": {
      "image/png": "[encoded data removed]",
      "text/plain": [
       "<Figure size 2160x360 with 1 Axes>"
      ]
     },
     "metadata": {
      "needs_background": "light"
     },
     "output_type": "display_data"
    },
    {
     "name": "stdout",
     "output_type": "stream",
     "text": [
      "--------------------------------------------------\n",
      "col :  Parch\n"
     ]
    },
    {
     "data": {
      "image/png": "[encoded data removed]",
      "text/plain": [
       "<Figure size 2160x360 with 1 Axes>"
      ]
     },
     "metadata": {
      "needs_background": "light"
     },
     "output_type": "display_data"
    },
    {
     "name": "stdout",
     "output_type": "stream",
     "text": [
      "--------------------------------------------------\n",
      "col :  Embarked\n"
     ]
    },
    {
     "data": {
      "image/png": "[encoded data removed]",
      "text/plain": [
       "<Figure size 2160x360 with 1 Axes>"
      ]
     },
     "metadata": {
      "needs_background": "light"
     },
     "output_type": "display_data"
    }
   ],
   "source": [
    "for col in x.columns:\n",
    "    if col in skip_cols:\n",
    "        continue\n",
    "    \n",
    "    print('-'*50)\n",
    "    print('col : ', col)\n",
    "    \n",
    "    _ = plt.subplots(figsize=(30, 5))\n",
    "    sns.countplot(x=col, data=x, alpha=.5)\n",
    "    \n",
    "    plt.show()"
   ]
  },
  {
   "cell_type": "markdown",
   "metadata": {},
   "source": [
    " "
   ]
  },
  {
   "cell_type": "markdown",
   "metadata": {},
   "source": [
    " "
   ]
  },
  {
   "cell_type": "code",
   "execution_count": 21,
   "metadata": {},
   "outputs": [
    {
     "name": "stdout",
     "output_type": "stream",
     "text": [
      "--------------------------------------------------\n",
      "col :  SibSp\n"
     ]
    },
    {
     "data": {
      "image/png": "[encoded data removed]",
      "text/plain": [
       "<Figure size 2160x360 with 1 Axes>"
      ]
     },
     "metadata": {
      "needs_background": "light"
     },
     "output_type": "display_data"
    },
    {
     "name": "stdout",
     "output_type": "stream",
     "text": [
      "--------------------------------------------------\n",
      "col :  Parch\n"
     ]
    },
    {
     "data": {
      "image/png": "[encoded data removed]",
      "text/plain": [
       "<Figure size 2160x360 with 1 Axes>"
      ]
     },
     "metadata": {
      "needs_background": "light"
     },
     "output_type": "display_data"
    }
   ],
   "source": [
    "for col in train.columns:\n",
    "    if col in ['SibSp', 'Parch']:\n",
    "        print('-'*50)\n",
    "        print('col : ', col)\n",
    "        \n",
    "        _ = plt.subplots(figsize=(30, 5))\n",
    "        sns.countplot(x=col, data=train, alpha=.5)\n",
    "        \n",
    "        plt.show()"
   ]
  },
  {
   "cell_type": "code",
   "execution_count": 22,
   "metadata": {},
   "outputs": [
    {
     "data": {
      "image/png": "[encoded data removed]",
      "text/plain": [
       "<Figure size 2160x432 with 14 Axes>"
      ]
     },
     "metadata": {
      "needs_background": "light"
     },
     "output_type": "display_data"
    }
   ],
   "source": [
    "plt.figure(figsize=(30, 6))\n",
    "plt.subplots_adjust(hspace=.3)\n",
    "\n",
    "h, w = 2, 7\n",
    "\n",
    "loc = 0\n",
    "for col in ['SibSp', 'Parch']:\n",
    "    \n",
    "    temp_df = pd.DataFrame({'col':train[col], 'survived':train.Survived, 'count':[0 for _ in range(train.shape[0])]})\n",
    "    temp_df = temp_df.pivot_table(index='col', columns='survived', values='count', aggfunc='count')\n",
    "    temp_df.fillna(0, inplace=True)\n",
    "    temp_df = temp_df.astype(np.int16)\n",
    "    \n",
    "    for idx, unique_value in enumerate(temp_df.index):\n",
    "        loc += 1\n",
    "        \n",
    "        ax = plt.subplot(h, w, loc)\n",
    "        \n",
    "        _ = ax.bar(x=temp_df.iloc[idx].index.astype(str), height=temp_df.iloc[idx].values)\n",
    "\n",
    "        _ = ax.set_title(col+'_'+str(unique_value), fontdict={\n",
    "            'weight':'bold','size':15\n",
    "        })"
   ]
  },
  {
   "cell_type": "code",
   "execution_count": 23,
   "metadata": {},
   "outputs": [
    {
     "name": "stdout",
     "output_type": "stream",
     "text": [
      "train.SibSp.unique() :  [0, 1, 2, 3, 4, 5, 8] \n",
      "test.SibSp.unique() :  [0, 1, 2, 3, 4, 5, 8]\n"
     ]
    }
   ],
   "source": [
    "print(\n",
    "    'train.SibSp.unique() : ', sorted(list(train.SibSp.unique())),\n",
    "    '\\ntest.SibSp.unique() : ', sorted(list(test.SibSp.unique()))\n",
    "     )"
   ]
  },
  {
   "cell_type": "code",
   "execution_count": 24,
   "metadata": {},
   "outputs": [
    {
     "name": "stdout",
     "output_type": "stream",
     "text": [
      "train.Parch.unique() :  [0, 1, 2, 3, 4, 5, 6] \n",
      "test.Parch.unique() :  [0, 1, 2, 3, 4, 5, 6, 9]\n"
     ]
    }
   ],
   "source": [
    "print(\n",
    "    'train.Parch.unique() : ', sorted(list(train.Parch.unique())),\n",
    "    '\\ntest.Parch.unique() : ', sorted(list(test.Parch.unique()))\n",
    "     )"
   ]
  },
  {
   "cell_type": "code",
   "execution_count": 25,
   "metadata": {},
   "outputs": [
    {
     "data": {
      "text/plain": [
       "2"
      ]
     },
     "execution_count": 25,
     "metadata": {},
     "output_type": "execute_result"
    }
   ],
   "source": [
    "len(test[test.Parch==9])"
   ]
  },
  {
   "cell_type": "markdown",
   "metadata": {},
   "source": [
    "# **→ Sibsp, Parch 정리**"
   ]
  },
  {
   "cell_type": "markdown",
   "metadata": {},
   "source": [
    "#### ***- SibSp와 Parch는 0이 압도적으로 많고, 1과 2가 조금씩 있고 나머지는 거의 없는 수준***\n",
    "#### ***- 이런 특징과 Survived가 연관 있나 확인해 봤으나 연관성 없음***\n",
    "- ## ***SibSp, Parch 모두 CATEGORICAL Feature로 적용***"
   ]
  },
  {
   "cell_type": "markdown",
   "metadata": {},
   "source": [
    " "
   ]
  },
  {
   "cell_type": "markdown",
   "metadata": {},
   "source": [
    " "
   ]
  },
  {
   "cell_type": "code",
   "execution_count": 26,
   "metadata": {},
   "outputs": [
    {
     "data": {
      "image/png": "[encoded data removed]",
      "text/plain": [
       "<Figure size 2160x504 with 1 Axes>"
      ]
     },
     "metadata": {
      "needs_background": "light"
     },
     "output_type": "display_data"
    }
   ],
   "source": [
    "plt.figure(figsize=(30, 7))\n",
    "\n",
    "fare_value_counts = pd.DataFrame({'fare':x.Fare.value_counts().index, 'counts':x.Fare.value_counts().values}).sort_values('fare')\n",
    "\n",
    "plt.bar(fare_value_counts.fare, fare_value_counts.counts)\n",
    "plt.title('Fare')\n",
    "\n",
    "del fare_value_counts"
   ]
  },
  {
   "cell_type": "code",
   "execution_count": 27,
   "metadata": {},
   "outputs": [],
   "source": [
    "train_fare = train['Fare'].values\n",
    "train_dead_fare = train[train.Survived==0]['Fare'].values\n",
    "train_survive_fare = train[train.Survived==1]['Fare'].values"
   ]
  },
  {
   "cell_type": "code",
   "execution_count": 28,
   "metadata": {},
   "outputs": [
    {
     "data": {
      "image/png": "[encoded data removed]",
      "text/plain": [
       "<Figure size 2160x1080 with 3 Axes>"
      ]
     },
     "metadata": {
      "needs_background": "light"
     },
     "output_type": "display_data"
    }
   ],
   "source": [
    "multi_histogram((30, 15), .1, 200, 311, [train_fare, train_dead_fare, train_survive_fare], ['train_fare', 'train_dead_fare', 'train_survive_fare'], 'no')\n",
    "\n",
    "del train_fare, train_dead_fare, train_survive_fare"
   ]
  },
  {
   "cell_type": "code",
   "execution_count": 29,
   "metadata": {},
   "outputs": [
    {
     "data": {
      "text/plain": [
       "512.3292"
      ]
     },
     "execution_count": 29,
     "metadata": {},
     "output_type": "execute_result"
    }
   ],
   "source": [
    "x.Fare.max()"
   ]
  },
  {
   "cell_type": "code",
   "execution_count": 30,
   "metadata": {},
   "outputs": [],
   "source": [
    "if 515%5 != 0:\n",
    "    grade_no = int((515/5)+1)\n",
    "else:\n",
    "    grade_no = int(515/5)\n",
    "grade = 5\n",
    "grade_data_list = []\n",
    "\n",
    "for a in range(grade_no):\n",
    "    idx = a+1\n",
    "    \n",
    "    if idx == 1:\n",
    "        grade_data_list.append((train[(train.Fare < grade)]['Survived'].astype(str).values, 'under_'+str(grade)))\n",
    "    else:\n",
    "        grade_plus_5 = grade + 5\n",
    "        grade_data_list.append((train[(train.Fare >= grade) & (train.Fare < grade_plus_5)]['Survived'].astype(str).values, (grade, grade_plus_5)))\n",
    "        grade = grade_plus_5"
   ]
  },
  {
   "cell_type": "code",
   "execution_count": 31,
   "metadata": {},
   "outputs": [
    {
     "data": {
      "text/plain": [
       "103"
      ]
     },
     "execution_count": 31,
     "metadata": {},
     "output_type": "execute_result"
    }
   ],
   "source": [
    "grade_no"
   ]
  },
  {
   "cell_type": "code",
   "execution_count": 32,
   "metadata": {},
   "outputs": [
    {
     "data": {
      "image/png": "[encoded data removed]",
      "text/plain": [
       "<Figure size 2160x2520 with 103 Axes>"
      ]
     },
     "metadata": {
      "needs_background": "light"
     },
     "output_type": "display_data"
    }
   ],
   "source": [
    "multi_histogram((30, 35), .2, .5, [11, 10, 1], [ele[0] for ele in grade_data_list], [ele[1] for ele in grade_data_list], 'str')\n",
    "\n",
    "del grade_no, grade, grade_data_list"
   ]
  },
  {
   "cell_type": "code",
   "execution_count": 33,
   "metadata": {},
   "outputs": [
    {
     "data": {
      "text/plain": [
       "1    109\n",
       "0     52\n",
       "Name: Survived, dtype: int64"
      ]
     },
     "execution_count": 33,
     "metadata": {},
     "output_type": "execute_result"
    }
   ],
   "source": [
    "train[train.Fare >= 50].Survived.value_counts()"
   ]
  },
  {
   "cell_type": "code",
   "execution_count": 34,
   "metadata": {},
   "outputs": [
    {
     "data": {
      "text/plain": [
       "0    497\n",
       "1    233\n",
       "Name: Survived, dtype: int64"
      ]
     },
     "execution_count": 34,
     "metadata": {},
     "output_type": "execute_result"
    }
   ],
   "source": [
    "train[train.Fare < 50].Survived.value_counts()"
   ]
  },
  {
   "cell_type": "markdown",
   "metadata": {},
   "source": [
    "# **→ Fare 정리**"
   ]
  },
  {
   "cell_type": "markdown",
   "metadata": {},
   "source": [
    "- ## ***'<50'에 대한 yes or no BINARY Feature 추가***"
   ]
  },
  {
   "cell_type": "markdown",
   "metadata": {},
   "source": [
    " "
   ]
  },
  {
   "cell_type": "markdown",
   "metadata": {},
   "source": [
    " "
   ]
  },
  {
   "cell_type": "code",
   "execution_count": 35,
   "metadata": {},
   "outputs": [],
   "source": [
    "x['Total_people'] = x.SibSp + x.Parch + 1\n",
    "train['Total_people'] = train.SibSp + train.Parch + 1"
   ]
  },
  {
   "cell_type": "markdown",
   "metadata": {},
   "source": [
    "#### ***→ (탐색 과정은 지웠음) 일행이 있냐 없냐로 나누기는 애매함, 일행 있을 경우의 생사가 거의 똑같고 여기에 나이 영향을 특정 기준으로 붙이기도 애매함***"
   ]
  },
  {
   "cell_type": "markdown",
   "metadata": {},
   "source": [
    "# **→ Total_people 정리**"
   ]
  },
  {
   "cell_type": "markdown",
   "metadata": {},
   "source": [
    "- ## ***CAGORICAL Feature로 적용***"
   ]
  },
  {
   "cell_type": "markdown",
   "metadata": {},
   "source": [
    " "
   ]
  },
  {
   "cell_type": "markdown",
   "metadata": {},
   "source": [
    " "
   ]
  },
  {
   "cell_type": "code",
   "execution_count": 36,
   "metadata": {},
   "outputs": [],
   "source": [
    "x['Avg_fare'] = x.Fare / x.Total_people\n",
    "train['Avg_fare'] = train.Fare / train.Total_people"
   ]
  },
  {
   "cell_type": "markdown",
   "metadata": {},
   "source": [
    "# **→ Avg_fare 정리**\n",
    "- ## ***COTINUOUS Feature로 적용***"
   ]
  },
  {
   "cell_type": "markdown",
   "metadata": {},
   "source": [
    " "
   ]
  },
  {
   "cell_type": "markdown",
   "metadata": {},
   "source": [
    " "
   ]
  },
  {
   "cell_type": "code",
   "execution_count": 37,
   "metadata": {},
   "outputs": [
    {
     "data": {
      "image/png": "[encoded data removed]",
      "text/plain": [
       "<Figure size 2160x504 with 1 Axes>"
      ]
     },
     "metadata": {
      "needs_background": "light"
     },
     "output_type": "display_data"
    }
   ],
   "source": [
    "plt.figure(figsize=(30, 7))\n",
    "\n",
    "avg_fare_value_counts = x.Avg_fare.value_counts().sort_index()\n",
    "\n",
    "plt.bar(avg_fare_value_counts.index, avg_fare_value_counts.values)\n",
    "plt.title('avg_fare')\n",
    "\n",
    "del avg_fare_value_counts"
   ]
  },
  {
   "cell_type": "code",
   "execution_count": 38,
   "metadata": {},
   "outputs": [],
   "source": [
    "train_avg_fare = train['Avg_fare'].values\n",
    "train_dead_avg_fare = train[train.Survived==0]['Avg_fare'].values\n",
    "train_survive_avg_fare = train[train.Survived==1]['Avg_fare'].values"
   ]
  },
  {
   "cell_type": "code",
   "execution_count": 39,
   "metadata": {},
   "outputs": [
    {
     "data": {
      "image/png": "[encoded data removed]",
      "text/plain": [
       "<Figure size 2160x1080 with 3 Axes>"
      ]
     },
     "metadata": {
      "needs_background": "light"
     },
     "output_type": "display_data"
    }
   ],
   "source": [
    "multi_histogram((30, 15), .1, 200, 311, [train_avg_fare, train_dead_avg_fare, train_survive_avg_fare],\n",
    "                ['train_avg_fare', 'train_dead_avg_fare', 'train_survive_avg_fare'], 'no')\n",
    "\n",
    "del train_avg_fare, train_dead_avg_fare, train_survive_avg_fare"
   ]
  },
  {
   "cell_type": "code",
   "execution_count": 40,
   "metadata": {},
   "outputs": [
    {
     "data": {
      "text/plain": [
       "512.3292"
      ]
     },
     "execution_count": 40,
     "metadata": {},
     "output_type": "execute_result"
    }
   ],
   "source": [
    "x.Avg_fare.max()"
   ]
  },
  {
   "cell_type": "code",
   "execution_count": 41,
   "metadata": {},
   "outputs": [],
   "source": [
    "if 515%5 != 0:\n",
    "    grade_no = int((515/5)+1)\n",
    "else:\n",
    "    grade_no = int(515/5)\n",
    "grade = 5\n",
    "grade_data_list = []\n",
    "\n",
    "for a in range(grade_no):\n",
    "    idx = a+1\n",
    "    \n",
    "    if idx == 1:\n",
    "        grade_data_list.append((train[(train.Avg_fare < grade)]['Survived'].astype(str).values, 'under_'+str(grade)))\n",
    "    else:\n",
    "        grade_plus_5 = grade + 5\n",
    "        grade_data_list.append((train[(train.Avg_fare >= grade) & (train.Avg_fare < grade_plus_5)]['Survived'].astype(str).values, (grade, grade_plus_5)))\n",
    "        grade = grade_plus_5"
   ]
  },
  {
   "cell_type": "code",
   "execution_count": 42,
   "metadata": {},
   "outputs": [
    {
     "data": {
      "text/plain": [
       "103"
      ]
     },
     "execution_count": 42,
     "metadata": {},
     "output_type": "execute_result"
    }
   ],
   "source": [
    "grade_no"
   ]
  },
  {
   "cell_type": "code",
   "execution_count": 43,
   "metadata": {},
   "outputs": [
    {
     "data": {
      "image/png": "[encoded data removed]",
      "text/plain": [
       "<Figure size 2160x2520 with 103 Axes>"
      ]
     },
     "metadata": {
      "needs_background": "light"
     },
     "output_type": "display_data"
    }
   ],
   "source": [
    "multi_histogram((30, 35), .2, .5, [11, 10, 1], [ele[0] for ele in grade_data_list], [ele[1] for ele in grade_data_list], 'str')\n",
    "\n",
    "del grade_no, grade, grade_data_list"
   ]
  },
  {
   "cell_type": "code",
   "execution_count": 44,
   "metadata": {},
   "outputs": [
    {
     "data": {
      "text/plain": [
       "0.6221198156682027"
      ]
     },
     "execution_count": 44,
     "metadata": {},
     "output_type": "execute_result"
    }
   ],
   "source": [
    "train[train.Avg_fare >= 25].Survived.value_counts()[1] / train[train.Avg_fare >= 25].Survived.value_counts().values.sum()"
   ]
  },
  {
   "cell_type": "code",
   "execution_count": 45,
   "metadata": {},
   "outputs": [
    {
     "data": {
      "text/plain": [
       "0.30712166172106825"
      ]
     },
     "execution_count": 45,
     "metadata": {},
     "output_type": "execute_result"
    }
   ],
   "source": [
    "train[train.Avg_fare < 25].Survived.value_counts()[1] / train[train.Avg_fare < 25].Survived.value_counts().values.sum()"
   ]
  },
  {
   "cell_type": "code",
   "execution_count": 46,
   "metadata": {},
   "outputs": [
    {
     "data": {
      "text/plain": [
       "0.6024096385542169"
      ]
     },
     "execution_count": 46,
     "metadata": {},
     "output_type": "execute_result"
    }
   ],
   "source": [
    "train[train.Avg_fare >= 15].Survived.value_counts()[1] / train[train.Avg_fare >= 15].Survived.value_counts().values.sum()"
   ]
  },
  {
   "cell_type": "code",
   "execution_count": 47,
   "metadata": {},
   "outputs": [
    {
     "data": {
      "text/plain": [
       "0.29906542056074764"
      ]
     },
     "execution_count": 47,
     "metadata": {},
     "output_type": "execute_result"
    }
   ],
   "source": [
    "train[train.Avg_fare < 15].Survived.value_counts()[1] / train[train.Avg_fare < 15].Survived.value_counts().values.sum()"
   ]
  },
  {
   "cell_type": "code",
   "execution_count": 48,
   "metadata": {},
   "outputs": [
    {
     "data": {
      "text/plain": [
       "0.3149981539471345"
      ]
     },
     "execution_count": 48,
     "metadata": {},
     "output_type": "execute_result"
    }
   ],
   "source": [
    "0.6221198156682027 - 0.30712166172106825"
   ]
  },
  {
   "cell_type": "code",
   "execution_count": 49,
   "metadata": {},
   "outputs": [
    {
     "data": {
      "text/plain": [
       "0.3033442179934693"
      ]
     },
     "execution_count": 49,
     "metadata": {},
     "output_type": "execute_result"
    }
   ],
   "source": [
    "0.6024096385542169 - 0.29906542056074764"
   ]
  },
  {
   "cell_type": "markdown",
   "metadata": {},
   "source": [
    "# **→ Avg_fare 정리**"
   ]
  },
  {
   "cell_type": "markdown",
   "metadata": {},
   "source": [
    "- ## ***'<25'에 대한 yes or no BINARY Feature 추가***"
   ]
  },
  {
   "cell_type": "markdown",
   "metadata": {},
   "source": [
    " "
   ]
  },
  {
   "cell_type": "markdown",
   "metadata": {},
   "source": [
    " "
   ]
  },
  {
   "cell_type": "code",
   "execution_count": 50,
   "metadata": {},
   "outputs": [],
   "source": [
    "pclass_survived = sorted([(train[train.Pclass==p]['Survived'].astype(str).values, 'Pclass_'+str(p)) for p in train.Pclass.unique()], key=lambda x: x[1])"
   ]
  },
  {
   "cell_type": "code",
   "execution_count": 51,
   "metadata": {},
   "outputs": [
    {
     "data": {
      "image/png": "[encoded data removed]",
      "text/plain": [
       "<Figure size 2160x216 with 3 Axes>"
      ]
     },
     "metadata": {
      "needs_background": "light"
     },
     "output_type": "display_data"
    }
   ],
   "source": [
    "multi_histogram((30, 3), .1, .8, 131, [ele[0] for ele in pclass_survived], [ele[1] for ele in pclass_survived], 'str')\n",
    "\n",
    "del pclass_survived"
   ]
  },
  {
   "cell_type": "code",
   "execution_count": 52,
   "metadata": {},
   "outputs": [
    {
     "data": {
      "text/plain": [
       "array([3, 2, 1], dtype=int64)"
      ]
     },
     "execution_count": 52,
     "metadata": {},
     "output_type": "execute_result"
    }
   ],
   "source": [
    "test.Pclass.unique()"
   ]
  },
  {
   "cell_type": "markdown",
   "metadata": {},
   "source": [
    "# **→ Pclass 정리**"
   ]
  },
  {
   "cell_type": "markdown",
   "metadata": {},
   "source": [
    "## ***- CATEGORICAL Feature로 적용***"
   ]
  },
  {
   "cell_type": "markdown",
   "metadata": {},
   "source": [
    " "
   ]
  },
  {
   "cell_type": "markdown",
   "metadata": {},
   "source": [
    " "
   ]
  },
  {
   "cell_type": "code",
   "execution_count": 53,
   "metadata": {},
   "outputs": [],
   "source": [
    "embarked_survived = [(train[train.Embarked==e]['Survived'].astype(str).values, 'Embarked_'+str(e)) for e in train.Embarked.unique() if e is not np.nan]"
   ]
  },
  {
   "cell_type": "code",
   "execution_count": 54,
   "metadata": {},
   "outputs": [
    {
     "data": {
      "image/png": "[encoded data removed]",
      "text/plain": [
       "<Figure size 2160x216 with 3 Axes>"
      ]
     },
     "metadata": {
      "needs_background": "light"
     },
     "output_type": "display_data"
    }
   ],
   "source": [
    "multi_histogram((30, 3), .1, .8, 131, [ele[0] for ele in embarked_survived], [ele[1] for ele in embarked_survived], 'str')\n",
    "\n",
    "del embarked_survived"
   ]
  },
  {
   "cell_type": "code",
   "execution_count": 55,
   "metadata": {},
   "outputs": [
    {
     "data": {
      "text/plain": [
       "array(['Q', 'S', 'C'], dtype=object)"
      ]
     },
     "execution_count": 55,
     "metadata": {},
     "output_type": "execute_result"
    }
   ],
   "source": [
    "test.Embarked.unique()"
   ]
  },
  {
   "cell_type": "markdown",
   "metadata": {},
   "source": [
    "# **→ Embarked 정리**"
   ]
  },
  {
   "cell_type": "markdown",
   "metadata": {},
   "source": [
    "## ***- CATEGORICAL Feature로 적용***"
   ]
  },
  {
   "cell_type": "markdown",
   "metadata": {},
   "source": [
    " "
   ]
  },
  {
   "cell_type": "markdown",
   "metadata": {},
   "source": [
    " "
   ]
  },
  {
   "cell_type": "code",
   "execution_count": 56,
   "metadata": {},
   "outputs": [],
   "source": [
    "if 80%10 != 0:\n",
    "    grade_no = int((80/10)+1)\n",
    "else:\n",
    "    grade_no = int(80/10)\n",
    "grade = 10\n",
    "grade_data_list = []\n",
    "\n",
    "for a in range(grade_no):\n",
    "    idx = a+1\n",
    "    \n",
    "    if idx == 1:\n",
    "        grade_data_list.append((train[(train.Age < grade)]['Survived'].astype(str).values, 'under_'+str(grade)))\n",
    "    elif idx == grade_no:\n",
    "        grade_data_list.append((train[(train.Age >= grade)]['Survived'].astype(str).values, 'over_'+str(grade)))\n",
    "    else:\n",
    "        grade_plus_10 = grade + 10\n",
    "        grade_data_list.append((train[(train.Age >= grade) & (train.Age < grade_plus_10)]['Survived'].astype(str).values, (grade, grade_plus_10)))\n",
    "        grade = grade_plus_10"
   ]
  },
  {
   "cell_type": "code",
   "execution_count": 57,
   "metadata": {},
   "outputs": [
    {
     "data": {
      "text/plain": [
       "8"
      ]
     },
     "execution_count": 57,
     "metadata": {},
     "output_type": "execute_result"
    }
   ],
   "source": [
    "grade_no"
   ]
  },
  {
   "cell_type": "code",
   "execution_count": 58,
   "metadata": {},
   "outputs": [
    {
     "data": {
      "image/png": "[encoded data removed]",
      "text/plain": [
       "<Figure size 2160x216 with 8 Axes>"
      ]
     },
     "metadata": {
      "needs_background": "light"
     },
     "output_type": "display_data"
    }
   ],
   "source": [
    "multi_histogram((30, 3), .1, .8, 181, [ele[0] for ele in grade_data_list], [ele[1] for ele in grade_data_list], 'str')\n",
    "\n",
    "del grade_no, grade, grade_data_list"
   ]
  },
  {
   "cell_type": "code",
   "execution_count": 59,
   "metadata": {},
   "outputs": [],
   "source": [
    "if 80%5 != 0:\n",
    "    grade_no = int((80/5)+1)\n",
    "else:\n",
    "    grade_no = int(80/5)\n",
    "grade = 5\n",
    "grade_data_list = []\n",
    "\n",
    "for a in range(grade_no):\n",
    "    idx = a+1\n",
    "    \n",
    "    if idx == 1:\n",
    "        grade_data_list.append((train[(train.Age < grade)]['Survived'].astype(str).values, 'under_'+str(grade)))\n",
    "    elif idx == grade_no:\n",
    "        grade_data_list.append((train[(train.Age >= grade)]['Survived'].astype(str).values, 'over_'+str(grade)))\n",
    "    else:\n",
    "        grade_plus_5 = grade + 5\n",
    "        grade_data_list.append((train[(train.Age >= grade) & (train.Age < grade_plus_5)]['Survived'].astype(str).values, (grade, grade_plus_5)))\n",
    "        grade = grade_plus_5"
   ]
  },
  {
   "cell_type": "code",
   "execution_count": 60,
   "metadata": {},
   "outputs": [
    {
     "data": {
      "image/png": "[encoded data removed]",
      "text/plain": [
       "<Figure size 2160x576 with 16 Axes>"
      ]
     },
     "metadata": {
      "needs_background": "light"
     },
     "output_type": "display_data"
    }
   ],
   "source": [
    "multi_histogram((30, 8), .3, .8, [3, 8, 1],\n",
    "                [ele[0] for ele in grade_data_list], [ele[1] for ele in grade_data_list],\n",
    "                'str')\n",
    "\n",
    "del grade_no, grade, grade_data_list"
   ]
  },
  {
   "cell_type": "code",
   "execution_count": 61,
   "metadata": {},
   "outputs": [
    {
     "data": {
      "text/plain": [
       "0.38650306748466257"
      ]
     },
     "execution_count": 61,
     "metadata": {},
     "output_type": "execute_result"
    }
   ],
   "source": [
    "train[train.Age >= 10].Survived.value_counts()[1] / train[train.Age >= 10].Survived.value_counts().values.sum()"
   ]
  },
  {
   "cell_type": "code",
   "execution_count": 62,
   "metadata": {},
   "outputs": [
    {
     "data": {
      "text/plain": [
       "0.6129032258064516"
      ]
     },
     "execution_count": 62,
     "metadata": {},
     "output_type": "execute_result"
    }
   ],
   "source": [
    "train[train.Age < 10].Survived.value_counts()[1] / train[train.Age < 10].Survived.value_counts().values.sum()"
   ]
  },
  {
   "cell_type": "code",
   "execution_count": 63,
   "metadata": {},
   "outputs": [
    {
     "data": {
      "text/plain": [
       "0.39020771513353114"
      ]
     },
     "execution_count": 63,
     "metadata": {},
     "output_type": "execute_result"
    }
   ],
   "source": [
    "train[train.Age >= 5].Survived.value_counts()[1] / train[train.Age >= 5].Survived.value_counts().values.sum()"
   ]
  },
  {
   "cell_type": "code",
   "execution_count": 64,
   "metadata": {},
   "outputs": [
    {
     "data": {
      "text/plain": [
       "0.675"
      ]
     },
     "execution_count": 64,
     "metadata": {},
     "output_type": "execute_result"
    }
   ],
   "source": [
    "train[train.Age < 5].Survived.value_counts()[1] / train[train.Age < 5].Survived.value_counts().values.sum()"
   ]
  },
  {
   "cell_type": "code",
   "execution_count": 65,
   "metadata": {},
   "outputs": [
    {
     "data": {
      "text/plain": [
       "0.22640015832178906"
      ]
     },
     "execution_count": 65,
     "metadata": {},
     "output_type": "execute_result"
    }
   ],
   "source": [
    "0.6129032258064516 - 0.38650306748466257"
   ]
  },
  {
   "cell_type": "code",
   "execution_count": 66,
   "metadata": {},
   "outputs": [
    {
     "data": {
      "text/plain": [
       "0.2847922848664689"
      ]
     },
     "execution_count": 66,
     "metadata": {},
     "output_type": "execute_result"
    }
   ],
   "source": [
    "0.675 - 0.39020771513353114"
   ]
  },
  {
   "cell_type": "markdown",
   "metadata": {},
   "source": [
    "# **→ Age 정리**"
   ]
  },
  {
   "cell_type": "markdown",
   "metadata": {},
   "source": [
    "- ## ***'<5'에 대한 yes or no BINARY Feature 추가***"
   ]
  },
  {
   "cell_type": "markdown",
   "metadata": {},
   "source": [
    " "
   ]
  },
  {
   "cell_type": "markdown",
   "metadata": {},
   "source": [
    " "
   ]
  },
  {
   "cell_type": "code",
   "execution_count": 67,
   "metadata": {},
   "outputs": [],
   "source": [
    "pattern_alphabet = re.compile('[a-zA-Z]')"
   ]
  },
  {
   "cell_type": "code",
   "execution_count": 68,
   "metadata": {},
   "outputs": [],
   "source": [
    "ticket_str = [ele for ele in x.Ticket if len(pattern_alphabet.findall(ele)) != 0]"
   ]
  },
  {
   "cell_type": "code",
   "execution_count": 69,
   "metadata": {},
   "outputs": [
    {
     "data": {
      "text/plain": [
       "['A/5 21171',\n",
       " 'PC 17599',\n",
       " 'STON/O2. 3101282',\n",
       " 'PP 9549',\n",
       " 'A/5. 2151',\n",
       " 'PC 17601',\n",
       " 'PC 17569',\n",
       " 'C.A. 24579',\n",
       " 'PC 17604',\n",
       " 'A./5. 2152',\n",
       " 'SC/Paris 2123',\n",
       " 'S.C./A.4. 23567',\n",
       " 'A/4. 39886',\n",
       " 'PC 17572',\n",
       " 'C.A. 31026',\n",
       " 'C.A. 34651',\n",
       " 'CA 2144',\n",
       " 'PC 17605',\n",
       " 'C.A. 29395',\n",
       " 'S.P. 3464',\n",
       " 'C.A. 33111',\n",
       " 'CA 2144',\n",
       " 'S.O.C. 14879',\n",
       " 'SO/C 14885',\n",
       " 'W./C. 6608',\n",
       " 'SOTON/OQ 392086',\n",
       " 'W.E.P. 5734',\n",
       " 'C.A. 2315',\n",
       " 'PC 17754',\n",
       " 'PC 17759',\n",
       " 'STON/O 2. 3101294',\n",
       " 'PC 17558',\n",
       " 'S.O.C. 14879',\n",
       " 'A4. 54510',\n",
       " 'C 17369',\n",
       " 'SOTON/O.Q. 3101307',\n",
       " 'A/5. 3337',\n",
       " 'C.A. 29178',\n",
       " 'SC/PARIS 2133',\n",
       " 'PC 17593',\n",
       " 'STON/O2. 3101279',\n",
       " 'C.A. 33112',\n",
       " 'W./C. 6608',\n",
       " 'S.O.P. 1166',\n",
       " 'A.5. 11206',\n",
       " 'A/5. 851',\n",
       " 'Fa 265302',\n",
       " 'PC 17597',\n",
       " 'SOTON/OQ 392090',\n",
       " 'CA. 2343',\n",
       " 'C.A. 33595',\n",
       " 'PC 17318',\n",
       " 'STON/O 2. 3101280',\n",
       " 'PC 17595',\n",
       " 'LINE',\n",
       " 'CA. 2343',\n",
       " 'SC/PARIS 2131',\n",
       " 'PC 17610',\n",
       " 'PC 17569',\n",
       " 'CA. 2343',\n",
       " 'A/5 3540',\n",
       " 'SOTON/O.Q. 3101311',\n",
       " 'F.C.C. 13528',\n",
       " 'A/5 21174',\n",
       " 'STON/O2. 3101283',\n",
       " 'W/C 14208',\n",
       " 'SOTON/OQ 392089',\n",
       " 'PP 4348',\n",
       " 'SW/PP 751',\n",
       " 'A/5 21173',\n",
       " 'C.A. 29566',\n",
       " 'W./C. 6609',\n",
       " 'C.A. 31921',\n",
       " 'SCO/W 1585',\n",
       " 'W./C. 14263',\n",
       " 'STON/O 2. 3101275',\n",
       " 'A/5. 3336',\n",
       " 'PC 17585',\n",
       " 'PC 17755',\n",
       " 'C.A. 17248',\n",
       " 'PC 17582',\n",
       " 'PC 17760',\n",
       " 'LINE',\n",
       " 'PC 17596',\n",
       " 'C.A. 2673',\n",
       " 'A/5. 10482',\n",
       " 'SC/Paris 2163',\n",
       " 'PC 17612',\n",
       " 'PC 17558',\n",
       " 'LINE',\n",
       " 'A/5 2466',\n",
       " 'PC 17758',\n",
       " 'P/PP 3381',\n",
       " 'PC 17485',\n",
       " 'PC 17608',\n",
       " 'F.C.C. 13529',\n",
       " 'A/5 21172',\n",
       " 'CA. 2343',\n",
       " 'PC 17760',\n",
       " 'PC 17582',\n",
       " 'PC 17611',\n",
       " 'C.A. 37671',\n",
       " 'SC/PARIS 2167',\n",
       " 'SOTON/O.Q. 3101310',\n",
       " 'C 7076',\n",
       " 'PC 17477',\n",
       " 'PC 17760',\n",
       " 'PC 17604',\n",
       " 'C 7077',\n",
       " 'PC 17757',\n",
       " 'STON/O 2. 3101293',\n",
       " 'S.O.C. 14879',\n",
       " 'CA 2144',\n",
       " 'SC 1748',\n",
       " 'PP 9549',\n",
       " 'STON/O 2. 3101289',\n",
       " 'STON/O2. 3101279',\n",
       " 'STON/O 2. 3101269',\n",
       " 'A/5. 13032',\n",
       " 'A/4. 34244',\n",
       " 'SOTON/O.Q. 392078',\n",
       " 'SC/AH 3085',\n",
       " 'STON/O 2. 3101274',\n",
       " 'W./C. 6608',\n",
       " 'C.A. 18723',\n",
       " 'F.C.C. 13529',\n",
       " 'C.A. 34651',\n",
       " 'A/5 2817',\n",
       " 'F.C.C. 13531',\n",
       " 'A/S 2816',\n",
       " 'SOTON/O.Q. 3101306',\n",
       " 'C.A. 34651',\n",
       " 'SC/AH Basle 541',\n",
       " 'CA 2144',\n",
       " 'A/5 3594',\n",
       " 'A.5. 18509',\n",
       " 'C.A. 37671',\n",
       " 'SOTON/OQ 3101317',\n",
       " 'PC 17609',\n",
       " 'A/4 45380',\n",
       " 'C.A. 6212',\n",
       " 'PC 17758',\n",
       " 'C 4001',\n",
       " 'SOTON/OQ 3101316',\n",
       " 'PC 17473',\n",
       " 'PC 17603',\n",
       " 'C.A. 34260',\n",
       " 'W./C. 14258',\n",
       " 'PC 17483',\n",
       " 'F.C.C. 13529',\n",
       " 'PC 17761',\n",
       " 'WE/P 5735',\n",
       " 'PC 17761',\n",
       " 'SC/PARIS 2146',\n",
       " 'C.A. 33112',\n",
       " 'PC 17757',\n",
       " 'SOTON/OQ 392082',\n",
       " 'SOTON/O.Q. 392087',\n",
       " 'A/4 48871',\n",
       " 'S.W./PP 752',\n",
       " 'PC 17474',\n",
       " 'A/4. 20589',\n",
       " 'STON/O 2. 3101286',\n",
       " 'A./5. 3235',\n",
       " 'STON/O 2. 3101273',\n",
       " 'A/5 3902',\n",
       " 'SC/AH 29037',\n",
       " 'LINE',\n",
       " 'PC 17485',\n",
       " 'SC/Paris 2123',\n",
       " 'PC 17582',\n",
       " 'SOTON/O.Q. 3101305',\n",
       " 'A/5. 3336',\n",
       " 'STON/O 2. 3101292',\n",
       " 'C.A. 31921',\n",
       " 'PC 17477',\n",
       " 'PC 17572',\n",
       " 'S.O./P.P. 751',\n",
       " 'CA. 2314',\n",
       " 'S.O.C. 14879',\n",
       " 'PC 17611',\n",
       " 'STON/O 2. 3101285',\n",
       " 'S.O.C. 14879',\n",
       " 'A/5 3536',\n",
       " 'F.C. 12750',\n",
       " 'C.A. 24580',\n",
       " 'CA 2144',\n",
       " 'PC 17755',\n",
       " 'PC 17572',\n",
       " 'CA 2144',\n",
       " 'SC/Paris 2123',\n",
       " 'PC 17757',\n",
       " 'PC 17475',\n",
       " 'PC 17476',\n",
       " 'PC 17482',\n",
       " 'PC 17757',\n",
       " 'STON/O2. 3101271',\n",
       " 'W./C. 6608',\n",
       " 'PC 17755',\n",
       " 'PC 17608',\n",
       " 'STON/O 2. 3101288',\n",
       " 'WE/P 5735',\n",
       " 'C.A. 2673',\n",
       " 'SOTON/O2 3101272',\n",
       " 'S.O./P.P. 3',\n",
       " 'W./C. 6607',\n",
       " 'SOTON/O.Q. 3101312',\n",
       " 'C.A. 2315',\n",
       " 'PC 17593',\n",
       " 'CA. 2343',\n",
       " 'PC 17600',\n",
       " 'C.A. 31921',\n",
       " 'A/4 48871',\n",
       " 'STON/O2. 3101290',\n",
       " 'S.C./PARIS 2079',\n",
       " 'C 7075',\n",
       " 'S.C./PARIS 2079',\n",
       " 'PC 17756',\n",
       " 'SOTON/O2 3101287',\n",
       " 'S.O./P.P. 3',\n",
       " 'C.A. 5547',\n",
       " 'CA. 2343',\n",
       " 'PC 17592',\n",
       " 'CA. 2343',\n",
       " 'SC/PARIS 2149',\n",
       " 'PC 17590',\n",
       " 'P/PP 3381',\n",
       " 'C.A./SOTON 34068',\n",
       " 'SOTON/OQ 392076',\n",
       " 'W./C. 6607',\n",
       " 'A/4 48871',\n",
       " 'W.E.P. 5734',\n",
       " 'SC/PARIS 2167',\n",
       " 'STON/O2. 3101270',\n",
       " 'PC 17603',\n",
       " 'C 17368',\n",
       " 'PC 17598',\n",
       " 'PC 17597',\n",
       " 'PC 17608',\n",
       " 'A/5. 3337',\n",
       " 'SC/AH 3085',\n",
       " 'C.A. 31029',\n",
       " 'C.A. 2315',\n",
       " 'W./C. 6607',\n",
       " 'SOTON/O.Q. 3101263',\n",
       " 'STON/O 2. 3101291',\n",
       " 'PC 17594',\n",
       " 'C.A. 37671',\n",
       " 'SC/PARIS 2168',\n",
       " 'SC/A.3 2861',\n",
       " 'PC 17608',\n",
       " 'PC 17608',\n",
       " 'F.C.C. 13534',\n",
       " 'PC 17562',\n",
       " 'PC 17483',\n",
       " 'A/4 31416',\n",
       " 'F.C. 12750',\n",
       " 'STON/O 2. 3101268',\n",
       " 'A./5. 3338',\n",
       " 'C 4001',\n",
       " 'PC 17531',\n",
       " 'PC 17483',\n",
       " 'PP 9549',\n",
       " 'SC/AH 29037',\n",
       " 'C.A. 33595',\n",
       " 'STON/OQ. 369943',\n",
       " 'SOTON/OQ 392083',\n",
       " 'CA 2144',\n",
       " 'CA 2144',\n",
       " 'PC 17608',\n",
       " 'SC/A4 23568',\n",
       " 'S.O./P.P. 752',\n",
       " 'PC 17483',\n",
       " 'SOTON/O.Q. 3101315',\n",
       " 'PC 17591',\n",
       " 'W./C. 6608',\n",
       " 'S.O./P.P. 251',\n",
       " 'C.A. 33112',\n",
       " 'PC 17756',\n",
       " 'PC 17756',\n",
       " 'PC 17558',\n",
       " 'S.O./P.P. 2',\n",
       " 'A/4 48873',\n",
       " 'CA. 2343',\n",
       " 'A/5. 851',\n",
       " 'C.A. 31030',\n",
       " 'PC 17757',\n",
       " 'C.A. 34050',\n",
       " 'F.C. 12998',\n",
       " 'PC 17613',\n",
       " 'C 4001',\n",
       " 'SOTON/O.Q. 3101308',\n",
       " 'S.O.C. 14879',\n",
       " 'SC/PARIS 2148',\n",
       " 'W./C. 14266',\n",
       " 'PC 17606',\n",
       " 'C.A. 6212',\n",
       " 'PC 17599',\n",
       " 'PC 17761',\n",
       " 'W./C. 6607',\n",
       " 'F.C.C. 13534',\n",
       " 'C.A. 34651',\n",
       " 'SOTON/O2 3101284',\n",
       " 'C.A. 42795',\n",
       " 'AQ/4 3130',\n",
       " 'C.A. 34644',\n",
       " 'C.A. 49867',\n",
       " 'A. 2. 39186',\n",
       " 'SC 14888',\n",
       " 'CA 31352',\n",
       " 'W./C. 14260',\n",
       " 'SOTON/O.Q. 3101315',\n",
       " 'A/5 21175',\n",
       " 'SOTON/O.Q. 3101314',\n",
       " 'A/5 1478',\n",
       " 'PC 17607',\n",
       " 'SC/Paris 2123',\n",
       " 'S.O./P.P. 2',\n",
       " 'LP 1588',\n",
       " 'PC 17760',\n",
       " 'AQ/3. 30631',\n",
       " 'PC 17569',\n",
       " 'C.A. 31029',\n",
       " 'SOTON/O.Q. 3101309',\n",
       " 'PC 17585',\n",
       " 'C.A. 33112',\n",
       " 'PC 17580',\n",
       " 'C.A. 31029',\n",
       " 'C.A. 15185',\n",
       " 'CA. 2343',\n",
       " 'PC 17755',\n",
       " 'A/5. 851',\n",
       " 'F.C.C. 13528',\n",
       " 'PC 17759',\n",
       " 'F.C.C. 13540',\n",
       " 'S.O.C. 14879',\n",
       " 'C.A. 2315',\n",
       " 'CA. 2343',\n",
       " 'S.C./PARIS 2079',\n",
       " 'CA 31352',\n",
       " 'CA. 2343',\n",
       " 'SC/PARIS 2147',\n",
       " 'PC 17608',\n",
       " 'SC/PARIS 2159',\n",
       " 'PC 17592',\n",
       " 'C.A. 2673',\n",
       " 'C.A. 30769',\n",
       " 'SC/PARIS 2166',\n",
       " 'SOTON/O.Q. 3101315',\n",
       " 'A.5. 3236',\n",
       " 'PC 17758',\n",
       " 'SOTON/O.Q. 3101262']"
      ]
     },
     "execution_count": 69,
     "metadata": {},
     "output_type": "execute_result"
    }
   ],
   "source": [
    "ticket_str"
   ]
  },
  {
   "cell_type": "code",
   "execution_count": 70,
   "metadata": {},
   "outputs": [],
   "source": [
    "pattern_space = re.compile('[ ]')"
   ]
  },
  {
   "cell_type": "code",
   "execution_count": 71,
   "metadata": {},
   "outputs": [],
   "source": [
    "ticket_num_space = [ele for ele in x.Ticket if len(pattern_alphabet.findall(ele)) == 0 and len(pattern_space.findall(ele)) != 0]"
   ]
  },
  {
   "cell_type": "code",
   "execution_count": 72,
   "metadata": {},
   "outputs": [
    {
     "name": "stdout",
     "output_type": "stream",
     "text": [
      "[]\n"
     ]
    }
   ],
   "source": [
    "## 즉 Ticket no 가 숫자로만 돼 있으면 공백은 무조건 없다.\n",
    "\n",
    "print(ticket_num_space)\n",
    "\n",
    "del ticket_num_space, ticket_str"
   ]
  },
  {
   "cell_type": "code",
   "execution_count": 73,
   "metadata": {},
   "outputs": [],
   "source": [
    "pattern_slash = re.compile('[/]')"
   ]
  },
  {
   "cell_type": "code",
   "execution_count": 74,
   "metadata": {},
   "outputs": [],
   "source": [
    "ticket_type_list = {'num':[], 'str1':[], 'str2':[]}\n",
    "\n",
    "for ele in train.Ticket:\n",
    "    if len(pattern_space.findall(ele)) == 0:\n",
    "        ticket_type_list['num'].append(ele)\n",
    "    else:\n",
    "        if len(pattern_slash.findall(ele)) != 0:\n",
    "            ticket_type_list['str2'].append(ele)\n",
    "        else:\n",
    "            ticket_type_list['str1'].append(ele)"
   ]
  },
  {
   "cell_type": "code",
   "execution_count": 75,
   "metadata": {},
   "outputs": [],
   "source": [
    "data_title = [(train[train.Ticket.isin(ticket_type_list[key])].Survived.astype(str), key) for key in ticket_type_list.keys()]"
   ]
  },
  {
   "cell_type": "code",
   "execution_count": 76,
   "metadata": {},
   "outputs": [
    {
     "data": {
      "image/png": "[encoded data removed]",
      "text/plain": [
       "<Figure size 2160x216 with 3 Axes>"
      ]
     },
     "metadata": {
      "needs_background": "light"
     },
     "output_type": "display_data"
    }
   ],
   "source": [
    "multi_histogram((30, 3), .1, .8, 131, [ele[0] for ele in data_title], [ele[1] for ele in data_title], 'str')\n",
    "\n",
    "del pattern_alphabet, pattern_slash, pattern_space, ticket_type_list, data_title"
   ]
  },
  {
   "cell_type": "markdown",
   "metadata": {},
   "source": [
    "# **→ Ticket 정리**"
   ]
  },
  {
   "cell_type": "markdown",
   "metadata": {},
   "source": [
    "## ***- 패턴이나 분류 기준을 찾을 수 없는 듯 보이므로 삭제***"
   ]
  },
  {
   "cell_type": "markdown",
   "metadata": {},
   "source": [
    " "
   ]
  },
  {
   "cell_type": "markdown",
   "metadata": {},
   "source": [
    " "
   ]
  },
  {
   "cell_type": "code",
   "execution_count": 77,
   "metadata": {},
   "outputs": [
    {
     "data": {
      "text/html": [
       "<div>\n",
       "<style scoped>\n",
       "    .dataframe tbody tr th:only-of-type {\n",
       "        vertical-align: middle;\n",
       "    }\n",
       "\n",
       "    .dataframe tbody tr th {\n",
       "        vertical-align: top;\n",
       "    }\n",
       "\n",
       "    .dataframe thead th {\n",
       "        text-align: right;\n",
       "    }\n",
       "</style>\n",
       "<table border=\"1\" class=\"dataframe\">\n",
       "  <thead>\n",
       "    <tr style=\"text-align: right;\">\n",
       "      <th></th>\n",
       "      <th>Ticket</th>\n",
       "      <th>Pclass</th>\n",
       "      <th>Cabin</th>\n",
       "      <th>Total_people</th>\n",
       "      <th>Avg_fare</th>\n",
       "      <th>Fare</th>\n",
       "    </tr>\n",
       "  </thead>\n",
       "  <tbody>\n",
       "    <tr>\n",
       "      <th>0</th>\n",
       "      <td>A/5 21171</td>\n",
       "      <td>3</td>\n",
       "      <td>NaN</td>\n",
       "      <td>2</td>\n",
       "      <td>3.625000</td>\n",
       "      <td>7.2500</td>\n",
       "    </tr>\n",
       "    <tr>\n",
       "      <th>1</th>\n",
       "      <td>PC 17599</td>\n",
       "      <td>1</td>\n",
       "      <td>C85</td>\n",
       "      <td>2</td>\n",
       "      <td>35.641650</td>\n",
       "      <td>71.2833</td>\n",
       "    </tr>\n",
       "    <tr>\n",
       "      <th>2</th>\n",
       "      <td>STON/O2. 3101282</td>\n",
       "      <td>3</td>\n",
       "      <td>NaN</td>\n",
       "      <td>1</td>\n",
       "      <td>7.925000</td>\n",
       "      <td>7.9250</td>\n",
       "    </tr>\n",
       "    <tr>\n",
       "      <th>3</th>\n",
       "      <td>113803</td>\n",
       "      <td>1</td>\n",
       "      <td>C123</td>\n",
       "      <td>2</td>\n",
       "      <td>26.550000</td>\n",
       "      <td>53.1000</td>\n",
       "    </tr>\n",
       "    <tr>\n",
       "      <th>4</th>\n",
       "      <td>373450</td>\n",
       "      <td>3</td>\n",
       "      <td>NaN</td>\n",
       "      <td>1</td>\n",
       "      <td>8.050000</td>\n",
       "      <td>8.0500</td>\n",
       "    </tr>\n",
       "    <tr>\n",
       "      <th>5</th>\n",
       "      <td>330877</td>\n",
       "      <td>3</td>\n",
       "      <td>NaN</td>\n",
       "      <td>1</td>\n",
       "      <td>8.458300</td>\n",
       "      <td>8.4583</td>\n",
       "    </tr>\n",
       "    <tr>\n",
       "      <th>6</th>\n",
       "      <td>17463</td>\n",
       "      <td>1</td>\n",
       "      <td>E46</td>\n",
       "      <td>1</td>\n",
       "      <td>51.862500</td>\n",
       "      <td>51.8625</td>\n",
       "    </tr>\n",
       "    <tr>\n",
       "      <th>7</th>\n",
       "      <td>349909</td>\n",
       "      <td>3</td>\n",
       "      <td>NaN</td>\n",
       "      <td>5</td>\n",
       "      <td>4.215000</td>\n",
       "      <td>21.0750</td>\n",
       "    </tr>\n",
       "    <tr>\n",
       "      <th>8</th>\n",
       "      <td>347742</td>\n",
       "      <td>3</td>\n",
       "      <td>NaN</td>\n",
       "      <td>3</td>\n",
       "      <td>3.711100</td>\n",
       "      <td>11.1333</td>\n",
       "    </tr>\n",
       "    <tr>\n",
       "      <th>9</th>\n",
       "      <td>237736</td>\n",
       "      <td>2</td>\n",
       "      <td>NaN</td>\n",
       "      <td>2</td>\n",
       "      <td>15.035400</td>\n",
       "      <td>30.0708</td>\n",
       "    </tr>\n",
       "    <tr>\n",
       "      <th>10</th>\n",
       "      <td>PP 9549</td>\n",
       "      <td>3</td>\n",
       "      <td>G6</td>\n",
       "      <td>3</td>\n",
       "      <td>5.566667</td>\n",
       "      <td>16.7000</td>\n",
       "    </tr>\n",
       "    <tr>\n",
       "      <th>11</th>\n",
       "      <td>113783</td>\n",
       "      <td>1</td>\n",
       "      <td>C103</td>\n",
       "      <td>1</td>\n",
       "      <td>26.550000</td>\n",
       "      <td>26.5500</td>\n",
       "    </tr>\n",
       "    <tr>\n",
       "      <th>12</th>\n",
       "      <td>A/5. 2151</td>\n",
       "      <td>3</td>\n",
       "      <td>NaN</td>\n",
       "      <td>1</td>\n",
       "      <td>8.050000</td>\n",
       "      <td>8.0500</td>\n",
       "    </tr>\n",
       "    <tr>\n",
       "      <th>13</th>\n",
       "      <td>347082</td>\n",
       "      <td>3</td>\n",
       "      <td>NaN</td>\n",
       "      <td>7</td>\n",
       "      <td>4.467857</td>\n",
       "      <td>31.2750</td>\n",
       "    </tr>\n",
       "    <tr>\n",
       "      <th>14</th>\n",
       "      <td>350406</td>\n",
       "      <td>3</td>\n",
       "      <td>NaN</td>\n",
       "      <td>1</td>\n",
       "      <td>7.854200</td>\n",
       "      <td>7.8542</td>\n",
       "    </tr>\n",
       "    <tr>\n",
       "      <th>15</th>\n",
       "      <td>248706</td>\n",
       "      <td>2</td>\n",
       "      <td>NaN</td>\n",
       "      <td>1</td>\n",
       "      <td>16.000000</td>\n",
       "      <td>16.0000</td>\n",
       "    </tr>\n",
       "    <tr>\n",
       "      <th>16</th>\n",
       "      <td>382652</td>\n",
       "      <td>3</td>\n",
       "      <td>NaN</td>\n",
       "      <td>6</td>\n",
       "      <td>4.854167</td>\n",
       "      <td>29.1250</td>\n",
       "    </tr>\n",
       "    <tr>\n",
       "      <th>17</th>\n",
       "      <td>244373</td>\n",
       "      <td>2</td>\n",
       "      <td>NaN</td>\n",
       "      <td>1</td>\n",
       "      <td>13.000000</td>\n",
       "      <td>13.0000</td>\n",
       "    </tr>\n",
       "    <tr>\n",
       "      <th>18</th>\n",
       "      <td>345763</td>\n",
       "      <td>3</td>\n",
       "      <td>NaN</td>\n",
       "      <td>2</td>\n",
       "      <td>9.000000</td>\n",
       "      <td>18.0000</td>\n",
       "    </tr>\n",
       "    <tr>\n",
       "      <th>19</th>\n",
       "      <td>2649</td>\n",
       "      <td>3</td>\n",
       "      <td>NaN</td>\n",
       "      <td>1</td>\n",
       "      <td>7.225000</td>\n",
       "      <td>7.2250</td>\n",
       "    </tr>\n",
       "    <tr>\n",
       "      <th>20</th>\n",
       "      <td>239865</td>\n",
       "      <td>2</td>\n",
       "      <td>NaN</td>\n",
       "      <td>1</td>\n",
       "      <td>26.000000</td>\n",
       "      <td>26.0000</td>\n",
       "    </tr>\n",
       "    <tr>\n",
       "      <th>21</th>\n",
       "      <td>248698</td>\n",
       "      <td>2</td>\n",
       "      <td>D56</td>\n",
       "      <td>1</td>\n",
       "      <td>13.000000</td>\n",
       "      <td>13.0000</td>\n",
       "    </tr>\n",
       "    <tr>\n",
       "      <th>22</th>\n",
       "      <td>330923</td>\n",
       "      <td>3</td>\n",
       "      <td>NaN</td>\n",
       "      <td>1</td>\n",
       "      <td>8.029200</td>\n",
       "      <td>8.0292</td>\n",
       "    </tr>\n",
       "    <tr>\n",
       "      <th>23</th>\n",
       "      <td>113788</td>\n",
       "      <td>1</td>\n",
       "      <td>A6</td>\n",
       "      <td>1</td>\n",
       "      <td>35.500000</td>\n",
       "      <td>35.5000</td>\n",
       "    </tr>\n",
       "    <tr>\n",
       "      <th>24</th>\n",
       "      <td>349909</td>\n",
       "      <td>3</td>\n",
       "      <td>NaN</td>\n",
       "      <td>5</td>\n",
       "      <td>4.215000</td>\n",
       "      <td>21.0750</td>\n",
       "    </tr>\n",
       "    <tr>\n",
       "      <th>25</th>\n",
       "      <td>347077</td>\n",
       "      <td>3</td>\n",
       "      <td>NaN</td>\n",
       "      <td>7</td>\n",
       "      <td>4.483929</td>\n",
       "      <td>31.3875</td>\n",
       "    </tr>\n",
       "    <tr>\n",
       "      <th>26</th>\n",
       "      <td>2631</td>\n",
       "      <td>3</td>\n",
       "      <td>NaN</td>\n",
       "      <td>1</td>\n",
       "      <td>7.225000</td>\n",
       "      <td>7.2250</td>\n",
       "    </tr>\n",
       "    <tr>\n",
       "      <th>27</th>\n",
       "      <td>19950</td>\n",
       "      <td>1</td>\n",
       "      <td>C23 C25 C27</td>\n",
       "      <td>6</td>\n",
       "      <td>43.833333</td>\n",
       "      <td>263.0000</td>\n",
       "    </tr>\n",
       "    <tr>\n",
       "      <th>28</th>\n",
       "      <td>330959</td>\n",
       "      <td>3</td>\n",
       "      <td>NaN</td>\n",
       "      <td>1</td>\n",
       "      <td>7.879200</td>\n",
       "      <td>7.8792</td>\n",
       "    </tr>\n",
       "    <tr>\n",
       "      <th>29</th>\n",
       "      <td>349216</td>\n",
       "      <td>3</td>\n",
       "      <td>NaN</td>\n",
       "      <td>1</td>\n",
       "      <td>7.895800</td>\n",
       "      <td>7.8958</td>\n",
       "    </tr>\n",
       "    <tr>\n",
       "      <th>...</th>\n",
       "      <td>...</td>\n",
       "      <td>...</td>\n",
       "      <td>...</td>\n",
       "      <td>...</td>\n",
       "      <td>...</td>\n",
       "      <td>...</td>\n",
       "    </tr>\n",
       "    <tr>\n",
       "      <th>1279</th>\n",
       "      <td>364858</td>\n",
       "      <td>3</td>\n",
       "      <td>NaN</td>\n",
       "      <td>1</td>\n",
       "      <td>7.750000</td>\n",
       "      <td>7.7500</td>\n",
       "    </tr>\n",
       "    <tr>\n",
       "      <th>1280</th>\n",
       "      <td>349909</td>\n",
       "      <td>3</td>\n",
       "      <td>NaN</td>\n",
       "      <td>5</td>\n",
       "      <td>4.215000</td>\n",
       "      <td>21.0750</td>\n",
       "    </tr>\n",
       "    <tr>\n",
       "      <th>1281</th>\n",
       "      <td>12749</td>\n",
       "      <td>1</td>\n",
       "      <td>B24</td>\n",
       "      <td>1</td>\n",
       "      <td>93.500000</td>\n",
       "      <td>93.5000</td>\n",
       "    </tr>\n",
       "    <tr>\n",
       "      <th>1282</th>\n",
       "      <td>PC 17592</td>\n",
       "      <td>1</td>\n",
       "      <td>D28</td>\n",
       "      <td>2</td>\n",
       "      <td>19.700000</td>\n",
       "      <td>39.4000</td>\n",
       "    </tr>\n",
       "    <tr>\n",
       "      <th>1283</th>\n",
       "      <td>C.A. 2673</td>\n",
       "      <td>3</td>\n",
       "      <td>NaN</td>\n",
       "      <td>3</td>\n",
       "      <td>6.750000</td>\n",
       "      <td>20.2500</td>\n",
       "    </tr>\n",
       "    <tr>\n",
       "      <th>1284</th>\n",
       "      <td>C.A. 30769</td>\n",
       "      <td>2</td>\n",
       "      <td>NaN</td>\n",
       "      <td>1</td>\n",
       "      <td>10.500000</td>\n",
       "      <td>10.5000</td>\n",
       "    </tr>\n",
       "    <tr>\n",
       "      <th>1285</th>\n",
       "      <td>315153</td>\n",
       "      <td>3</td>\n",
       "      <td>NaN</td>\n",
       "      <td>5</td>\n",
       "      <td>4.405000</td>\n",
       "      <td>22.0250</td>\n",
       "    </tr>\n",
       "    <tr>\n",
       "      <th>1286</th>\n",
       "      <td>13695</td>\n",
       "      <td>1</td>\n",
       "      <td>C31</td>\n",
       "      <td>2</td>\n",
       "      <td>30.000000</td>\n",
       "      <td>60.0000</td>\n",
       "    </tr>\n",
       "    <tr>\n",
       "      <th>1287</th>\n",
       "      <td>371109</td>\n",
       "      <td>3</td>\n",
       "      <td>NaN</td>\n",
       "      <td>1</td>\n",
       "      <td>7.250000</td>\n",
       "      <td>7.2500</td>\n",
       "    </tr>\n",
       "    <tr>\n",
       "      <th>1288</th>\n",
       "      <td>13567</td>\n",
       "      <td>1</td>\n",
       "      <td>B41</td>\n",
       "      <td>3</td>\n",
       "      <td>26.400000</td>\n",
       "      <td>79.2000</td>\n",
       "    </tr>\n",
       "    <tr>\n",
       "      <th>1289</th>\n",
       "      <td>347065</td>\n",
       "      <td>3</td>\n",
       "      <td>NaN</td>\n",
       "      <td>1</td>\n",
       "      <td>7.775000</td>\n",
       "      <td>7.7750</td>\n",
       "    </tr>\n",
       "    <tr>\n",
       "      <th>1290</th>\n",
       "      <td>21332</td>\n",
       "      <td>3</td>\n",
       "      <td>NaN</td>\n",
       "      <td>1</td>\n",
       "      <td>7.733300</td>\n",
       "      <td>7.7333</td>\n",
       "    </tr>\n",
       "    <tr>\n",
       "      <th>1291</th>\n",
       "      <td>36928</td>\n",
       "      <td>1</td>\n",
       "      <td>C7</td>\n",
       "      <td>1</td>\n",
       "      <td>164.866700</td>\n",
       "      <td>164.8667</td>\n",
       "    </tr>\n",
       "    <tr>\n",
       "      <th>1292</th>\n",
       "      <td>28664</td>\n",
       "      <td>2</td>\n",
       "      <td>NaN</td>\n",
       "      <td>2</td>\n",
       "      <td>10.500000</td>\n",
       "      <td>21.0000</td>\n",
       "    </tr>\n",
       "    <tr>\n",
       "      <th>1293</th>\n",
       "      <td>112378</td>\n",
       "      <td>1</td>\n",
       "      <td>NaN</td>\n",
       "      <td>2</td>\n",
       "      <td>29.700000</td>\n",
       "      <td>59.4000</td>\n",
       "    </tr>\n",
       "    <tr>\n",
       "      <th>1294</th>\n",
       "      <td>113059</td>\n",
       "      <td>1</td>\n",
       "      <td>NaN</td>\n",
       "      <td>1</td>\n",
       "      <td>47.100000</td>\n",
       "      <td>47.1000</td>\n",
       "    </tr>\n",
       "    <tr>\n",
       "      <th>1295</th>\n",
       "      <td>17765</td>\n",
       "      <td>1</td>\n",
       "      <td>D40</td>\n",
       "      <td>2</td>\n",
       "      <td>13.860400</td>\n",
       "      <td>27.7208</td>\n",
       "    </tr>\n",
       "    <tr>\n",
       "      <th>1296</th>\n",
       "      <td>SC/PARIS 2166</td>\n",
       "      <td>2</td>\n",
       "      <td>D38</td>\n",
       "      <td>1</td>\n",
       "      <td>13.862500</td>\n",
       "      <td>13.8625</td>\n",
       "    </tr>\n",
       "    <tr>\n",
       "      <th>1297</th>\n",
       "      <td>28666</td>\n",
       "      <td>2</td>\n",
       "      <td>NaN</td>\n",
       "      <td>2</td>\n",
       "      <td>5.250000</td>\n",
       "      <td>10.5000</td>\n",
       "    </tr>\n",
       "    <tr>\n",
       "      <th>1298</th>\n",
       "      <td>113503</td>\n",
       "      <td>1</td>\n",
       "      <td>C80</td>\n",
       "      <td>3</td>\n",
       "      <td>70.500000</td>\n",
       "      <td>211.5000</td>\n",
       "    </tr>\n",
       "    <tr>\n",
       "      <th>1299</th>\n",
       "      <td>334915</td>\n",
       "      <td>3</td>\n",
       "      <td>NaN</td>\n",
       "      <td>1</td>\n",
       "      <td>7.720800</td>\n",
       "      <td>7.7208</td>\n",
       "    </tr>\n",
       "    <tr>\n",
       "      <th>1300</th>\n",
       "      <td>SOTON/O.Q. 3101315</td>\n",
       "      <td>3</td>\n",
       "      <td>NaN</td>\n",
       "      <td>3</td>\n",
       "      <td>4.591667</td>\n",
       "      <td>13.7750</td>\n",
       "    </tr>\n",
       "    <tr>\n",
       "      <th>1301</th>\n",
       "      <td>365237</td>\n",
       "      <td>3</td>\n",
       "      <td>NaN</td>\n",
       "      <td>1</td>\n",
       "      <td>7.750000</td>\n",
       "      <td>7.7500</td>\n",
       "    </tr>\n",
       "    <tr>\n",
       "      <th>1302</th>\n",
       "      <td>19928</td>\n",
       "      <td>1</td>\n",
       "      <td>C78</td>\n",
       "      <td>2</td>\n",
       "      <td>45.000000</td>\n",
       "      <td>90.0000</td>\n",
       "    </tr>\n",
       "    <tr>\n",
       "      <th>1303</th>\n",
       "      <td>347086</td>\n",
       "      <td>3</td>\n",
       "      <td>NaN</td>\n",
       "      <td>1</td>\n",
       "      <td>7.775000</td>\n",
       "      <td>7.7750</td>\n",
       "    </tr>\n",
       "    <tr>\n",
       "      <th>1304</th>\n",
       "      <td>A.5. 3236</td>\n",
       "      <td>3</td>\n",
       "      <td>NaN</td>\n",
       "      <td>1</td>\n",
       "      <td>8.050000</td>\n",
       "      <td>8.0500</td>\n",
       "    </tr>\n",
       "    <tr>\n",
       "      <th>1305</th>\n",
       "      <td>PC 17758</td>\n",
       "      <td>1</td>\n",
       "      <td>C105</td>\n",
       "      <td>1</td>\n",
       "      <td>108.900000</td>\n",
       "      <td>108.9000</td>\n",
       "    </tr>\n",
       "    <tr>\n",
       "      <th>1306</th>\n",
       "      <td>SOTON/O.Q. 3101262</td>\n",
       "      <td>3</td>\n",
       "      <td>NaN</td>\n",
       "      <td>1</td>\n",
       "      <td>7.250000</td>\n",
       "      <td>7.2500</td>\n",
       "    </tr>\n",
       "    <tr>\n",
       "      <th>1307</th>\n",
       "      <td>359309</td>\n",
       "      <td>3</td>\n",
       "      <td>NaN</td>\n",
       "      <td>1</td>\n",
       "      <td>8.050000</td>\n",
       "      <td>8.0500</td>\n",
       "    </tr>\n",
       "    <tr>\n",
       "      <th>1308</th>\n",
       "      <td>2668</td>\n",
       "      <td>3</td>\n",
       "      <td>NaN</td>\n",
       "      <td>3</td>\n",
       "      <td>7.452767</td>\n",
       "      <td>22.3583</td>\n",
       "    </tr>\n",
       "  </tbody>\n",
       "</table>\n",
       "<p>1309 rows × 6 columns</p>\n",
       "</div>"
      ],
      "text/plain": [
       "                  Ticket  Pclass        Cabin  Total_people    Avg_fare  \\\n",
       "0              A/5 21171       3          NaN             2    3.625000   \n",
       "1               PC 17599       1          C85             2   35.641650   \n",
       "2       STON/O2. 3101282       3          NaN             1    7.925000   \n",
       "3                 113803       1         C123             2   26.550000   \n",
       "4                 373450       3          NaN             1    8.050000   \n",
       "5                 330877       3          NaN             1    8.458300   \n",
       "6                  17463       1          E46             1   51.862500   \n",
       "7                 349909       3          NaN             5    4.215000   \n",
       "8                 347742       3          NaN             3    3.711100   \n",
       "9                 237736       2          NaN             2   15.035400   \n",
       "10               PP 9549       3           G6             3    5.566667   \n",
       "11                113783       1         C103             1   26.550000   \n",
       "12             A/5. 2151       3          NaN             1    8.050000   \n",
       "13                347082       3          NaN             7    4.467857   \n",
       "14                350406       3          NaN             1    7.854200   \n",
       "15                248706       2          NaN             1   16.000000   \n",
       "16                382652       3          NaN             6    4.854167   \n",
       "17                244373       2          NaN             1   13.000000   \n",
       "18                345763       3          NaN             2    9.000000   \n",
       "19                  2649       3          NaN             1    7.225000   \n",
       "20                239865       2          NaN             1   26.000000   \n",
       "21                248698       2          D56             1   13.000000   \n",
       "22                330923       3          NaN             1    8.029200   \n",
       "23                113788       1           A6             1   35.500000   \n",
       "24                349909       3          NaN             5    4.215000   \n",
       "25                347077       3          NaN             7    4.483929   \n",
       "26                  2631       3          NaN             1    7.225000   \n",
       "27                 19950       1  C23 C25 C27             6   43.833333   \n",
       "28                330959       3          NaN             1    7.879200   \n",
       "29                349216       3          NaN             1    7.895800   \n",
       "...                  ...     ...          ...           ...         ...   \n",
       "1279              364858       3          NaN             1    7.750000   \n",
       "1280              349909       3          NaN             5    4.215000   \n",
       "1281               12749       1          B24             1   93.500000   \n",
       "1282            PC 17592       1          D28             2   19.700000   \n",
       "1283           C.A. 2673       3          NaN             3    6.750000   \n",
       "1284          C.A. 30769       2          NaN             1   10.500000   \n",
       "1285              315153       3          NaN             5    4.405000   \n",
       "1286               13695       1          C31             2   30.000000   \n",
       "1287              371109       3          NaN             1    7.250000   \n",
       "1288               13567       1          B41             3   26.400000   \n",
       "1289              347065       3          NaN             1    7.775000   \n",
       "1290               21332       3          NaN             1    7.733300   \n",
       "1291               36928       1           C7             1  164.866700   \n",
       "1292               28664       2          NaN             2   10.500000   \n",
       "1293              112378       1          NaN             2   29.700000   \n",
       "1294              113059       1          NaN             1   47.100000   \n",
       "1295               17765       1          D40             2   13.860400   \n",
       "1296       SC/PARIS 2166       2          D38             1   13.862500   \n",
       "1297               28666       2          NaN             2    5.250000   \n",
       "1298              113503       1          C80             3   70.500000   \n",
       "1299              334915       3          NaN             1    7.720800   \n",
       "1300  SOTON/O.Q. 3101315       3          NaN             3    4.591667   \n",
       "1301              365237       3          NaN             1    7.750000   \n",
       "1302               19928       1          C78             2   45.000000   \n",
       "1303              347086       3          NaN             1    7.775000   \n",
       "1304           A.5. 3236       3          NaN             1    8.050000   \n",
       "1305            PC 17758       1         C105             1  108.900000   \n",
       "1306  SOTON/O.Q. 3101262       3          NaN             1    7.250000   \n",
       "1307              359309       3          NaN             1    8.050000   \n",
       "1308                2668       3          NaN             3    7.452767   \n",
       "\n",
       "          Fare  \n",
       "0       7.2500  \n",
       "1      71.2833  \n",
       "2       7.9250  \n",
       "3      53.1000  \n",
       "4       8.0500  \n",
       "5       8.4583  \n",
       "6      51.8625  \n",
       "7      21.0750  \n",
       "8      11.1333  \n",
       "9      30.0708  \n",
       "10     16.7000  \n",
       "11     26.5500  \n",
       "12      8.0500  \n",
       "13     31.2750  \n",
       "14      7.8542  \n",
       "15     16.0000  \n",
       "16     29.1250  \n",
       "17     13.0000  \n",
       "18     18.0000  \n",
       "19      7.2250  \n",
       "20     26.0000  \n",
       "21     13.0000  \n",
       "22      8.0292  \n",
       "23     35.5000  \n",
       "24     21.0750  \n",
       "25     31.3875  \n",
       "26      7.2250  \n",
       "27    263.0000  \n",
       "28      7.8792  \n",
       "29      7.8958  \n",
       "...        ...  \n",
       "1279    7.7500  \n",
       "1280   21.0750  \n",
       "1281   93.5000  \n",
       "1282   39.4000  \n",
       "1283   20.2500  \n",
       "1284   10.5000  \n",
       "1285   22.0250  \n",
       "1286   60.0000  \n",
       "1287    7.2500  \n",
       "1288   79.2000  \n",
       "1289    7.7750  \n",
       "1290    7.7333  \n",
       "1291  164.8667  \n",
       "1292   21.0000  \n",
       "1293   59.4000  \n",
       "1294   47.1000  \n",
       "1295   27.7208  \n",
       "1296   13.8625  \n",
       "1297   10.5000  \n",
       "1298  211.5000  \n",
       "1299    7.7208  \n",
       "1300   13.7750  \n",
       "1301    7.7500  \n",
       "1302   90.0000  \n",
       "1303    7.7750  \n",
       "1304    8.0500  \n",
       "1305  108.9000  \n",
       "1306    7.2500  \n",
       "1307    8.0500  \n",
       "1308   22.3583  \n",
       "\n",
       "[1309 rows x 6 columns]"
      ]
     },
     "execution_count": 77,
     "metadata": {},
     "output_type": "execute_result"
    }
   ],
   "source": [
    "x[['Ticket', 'Pclass', 'Cabin', 'Total_people', 'Avg_fare', 'Fare']]"
   ]
  },
  {
   "cell_type": "markdown",
   "metadata": {},
   "source": [
    "### ***→ Cabin 개수와 Total_people 과는 관련이 없어 보임***"
   ]
  },
  {
   "cell_type": "code",
   "execution_count": 78,
   "metadata": {},
   "outputs": [],
   "source": [
    "pattern_alphabet = re.compile('[a-zA-Z]')"
   ]
  },
  {
   "cell_type": "code",
   "execution_count": 79,
   "metadata": {},
   "outputs": [
    {
     "data": {
      "text/plain": [
       "['C85',\n",
       " 'C123',\n",
       " 'E46',\n",
       " 'G6',\n",
       " 'C103',\n",
       " 'D56',\n",
       " 'A6',\n",
       " 'C23 C25 C27',\n",
       " 'B78',\n",
       " 'D33',\n",
       " 'B30',\n",
       " 'C52',\n",
       " 'B28',\n",
       " 'C83',\n",
       " 'F33',\n",
       " 'F G73',\n",
       " 'C23 C25 C27',\n",
       " 'E31',\n",
       " 'A5',\n",
       " 'D10 D12',\n",
       " 'D26',\n",
       " 'C110',\n",
       " 'B58 B60',\n",
       " 'E101',\n",
       " 'D26',\n",
       " 'F E69',\n",
       " 'D47',\n",
       " 'C123',\n",
       " 'B86',\n",
       " 'F2',\n",
       " 'C2',\n",
       " 'E33',\n",
       " 'B19',\n",
       " 'A7',\n",
       " 'C49',\n",
       " 'F4',\n",
       " 'A32',\n",
       " 'F2',\n",
       " 'B4',\n",
       " 'B80',\n",
       " 'G6',\n",
       " 'A31',\n",
       " 'D36',\n",
       " 'D15',\n",
       " 'C93',\n",
       " 'C83',\n",
       " 'C78',\n",
       " 'D35',\n",
       " 'G6',\n",
       " 'C87',\n",
       " 'B77',\n",
       " 'E67',\n",
       " 'B94',\n",
       " 'C125',\n",
       " 'C99',\n",
       " 'C118',\n",
       " 'D7',\n",
       " 'A19',\n",
       " 'B49',\n",
       " 'D',\n",
       " 'C22 C26',\n",
       " 'C106',\n",
       " 'B58 B60',\n",
       " 'E101',\n",
       " 'C22 C26',\n",
       " 'C65',\n",
       " 'E36',\n",
       " 'C54',\n",
       " 'B57 B59 B63 B66',\n",
       " 'C7',\n",
       " 'E34',\n",
       " 'C32',\n",
       " 'D',\n",
       " 'B18',\n",
       " 'C124',\n",
       " 'C91',\n",
       " 'C2',\n",
       " 'E40',\n",
       " 'T',\n",
       " 'F2',\n",
       " 'C23 C25 C27',\n",
       " 'F33',\n",
       " 'C128',\n",
       " 'E33',\n",
       " 'D37',\n",
       " 'B35',\n",
       " 'E50',\n",
       " 'C82',\n",
       " 'B96 B98',\n",
       " 'D36',\n",
       " 'G6',\n",
       " 'C78',\n",
       " 'E10',\n",
       " 'C52',\n",
       " 'E44',\n",
       " 'B96 B98',\n",
       " 'C23 C25 C27',\n",
       " 'A34',\n",
       " 'C104',\n",
       " 'C111',\n",
       " 'C92',\n",
       " 'E38',\n",
       " 'D21',\n",
       " 'E12',\n",
       " 'E63',\n",
       " 'D',\n",
       " 'A14',\n",
       " 'B49',\n",
       " 'C93',\n",
       " 'B37',\n",
       " 'C30',\n",
       " 'D20',\n",
       " 'C22 C26',\n",
       " 'B79',\n",
       " 'C65',\n",
       " 'E25',\n",
       " 'D46',\n",
       " 'F33',\n",
       " 'B73',\n",
       " 'B18',\n",
       " 'C95',\n",
       " 'B38',\n",
       " 'B39',\n",
       " 'B22',\n",
       " 'C86',\n",
       " 'C70',\n",
       " 'A16',\n",
       " 'E67',\n",
       " 'C101',\n",
       " 'E25',\n",
       " 'E44',\n",
       " 'C68',\n",
       " 'A10',\n",
       " 'E68',\n",
       " 'B41',\n",
       " 'D20',\n",
       " 'A20',\n",
       " 'C125',\n",
       " 'F4',\n",
       " 'D19',\n",
       " 'D50',\n",
       " 'D9',\n",
       " 'A23',\n",
       " 'B50',\n",
       " 'B35',\n",
       " 'D33',\n",
       " 'A26',\n",
       " 'D48',\n",
       " 'E58',\n",
       " 'C126',\n",
       " 'B71',\n",
       " 'B51 B53 B55',\n",
       " 'D49',\n",
       " 'B5',\n",
       " 'B20',\n",
       " 'C68',\n",
       " 'F G63',\n",
       " 'C62 C64',\n",
       " 'E24',\n",
       " 'E24',\n",
       " 'C90',\n",
       " 'C124',\n",
       " 'C126',\n",
       " 'F G73',\n",
       " 'C45',\n",
       " 'E101',\n",
       " 'E8',\n",
       " 'B5',\n",
       " 'B101',\n",
       " 'D45',\n",
       " 'C46',\n",
       " 'B57 B59 B63 B66',\n",
       " 'B22',\n",
       " 'D30',\n",
       " 'E121',\n",
       " 'B77',\n",
       " 'B96 B98',\n",
       " 'D11',\n",
       " 'E77',\n",
       " 'F38',\n",
       " 'B3',\n",
       " 'B20',\n",
       " 'D6',\n",
       " 'B82 B84',\n",
       " 'D17',\n",
       " 'B96 B98',\n",
       " 'A36',\n",
       " 'E8',\n",
       " 'B102',\n",
       " 'B69',\n",
       " 'E121',\n",
       " 'B28',\n",
       " 'E49',\n",
       " 'C47',\n",
       " 'C92',\n",
       " 'D28',\n",
       " 'E17',\n",
       " 'D17',\n",
       " 'A24',\n",
       " 'D35',\n",
       " 'B51 B53 B55',\n",
       " 'C50',\n",
       " 'B42',\n",
       " 'C148',\n",
       " 'B45',\n",
       " 'E31',\n",
       " 'B57 B59 B63 B66',\n",
       " 'B36',\n",
       " 'A21',\n",
       " 'C78',\n",
       " 'D34',\n",
       " 'D19',\n",
       " 'A9',\n",
       " 'D15',\n",
       " 'C31',\n",
       " 'C23 C25 C27',\n",
       " 'F G63',\n",
       " 'B61',\n",
       " 'B57 B59 B63 B66',\n",
       " 'C53',\n",
       " 'C23 C25 C27',\n",
       " 'D43',\n",
       " 'C130',\n",
       " 'C132',\n",
       " 'C101',\n",
       " 'C55 C57',\n",
       " 'B71',\n",
       " 'C46',\n",
       " 'C116',\n",
       " 'F',\n",
       " 'A29',\n",
       " 'C55 C57',\n",
       " 'G6',\n",
       " 'C6',\n",
       " 'C28',\n",
       " 'C51',\n",
       " 'B57 B59 B63 B66',\n",
       " 'E46',\n",
       " 'C54',\n",
       " 'C97',\n",
       " 'D22',\n",
       " 'B10',\n",
       " 'C116',\n",
       " 'F4',\n",
       " 'E45',\n",
       " 'E52',\n",
       " 'D30',\n",
       " 'B58 B60',\n",
       " 'E34',\n",
       " 'C62 C64',\n",
       " 'A11',\n",
       " 'B11',\n",
       " 'C80',\n",
       " 'F33',\n",
       " 'C85',\n",
       " 'D37',\n",
       " 'C86',\n",
       " 'E34',\n",
       " 'D21',\n",
       " 'C89',\n",
       " 'C6',\n",
       " 'C89',\n",
       " 'B45',\n",
       " 'F E46',\n",
       " 'A34',\n",
       " 'D',\n",
       " 'B26',\n",
       " 'C22 C26',\n",
       " 'B69',\n",
       " 'C32',\n",
       " 'B78',\n",
       " 'F E57',\n",
       " 'F2',\n",
       " 'F4',\n",
       " 'A18',\n",
       " 'C106',\n",
       " 'B51 B53 B55',\n",
       " 'D10 D12',\n",
       " 'E60',\n",
       " 'C101',\n",
       " 'E50',\n",
       " 'E39 E41',\n",
       " 'B52 B54 B56',\n",
       " 'A34',\n",
       " 'C39',\n",
       " 'B24',\n",
       " 'D28',\n",
       " 'C31',\n",
       " 'B41',\n",
       " 'C7',\n",
       " 'D40',\n",
       " 'D38',\n",
       " 'C80',\n",
       " 'C78',\n",
       " 'C105']"
      ]
     },
     "execution_count": 79,
     "metadata": {},
     "output_type": "execute_result"
    }
   ],
   "source": [
    "[ele for ele in x.Cabin.fillna(-99).astype(str) if len(pattern_alphabet.findall(ele)) != 0]"
   ]
  },
  {
   "cell_type": "code",
   "execution_count": 80,
   "metadata": {},
   "outputs": [],
   "source": [
    "pattern_space = re.compile('[ ]')"
   ]
  },
  {
   "cell_type": "code",
   "execution_count": 81,
   "metadata": {},
   "outputs": [
    {
     "name": "stdout",
     "output_type": "stream",
     "text": [
      "[]\n",
      "[]\n"
     ]
    }
   ],
   "source": [
    "print([ele for ele in x.Cabin.fillna(-99).astype(str) if len(pattern_alphabet.findall(ele)) == 0 and len(pattern_space.findall(ele)) != 0])\n",
    "print([ele for ele in x.Cabin.fillna(-99).astype(str) if len(pattern_alphabet.findall(ele)) == 0 and ele != '-99'])"
   ]
  },
  {
   "cell_type": "markdown",
   "metadata": {},
   "source": [
    "### ***→ 숫자로만 된 방이 여러 개인 경우는 없고, 알파벳이 포함되지 않은 것은 전부 nan인 경우임***"
   ]
  },
  {
   "cell_type": "markdown",
   "metadata": {},
   "source": [
    " "
   ]
  },
  {
   "cell_type": "markdown",
   "metadata": {},
   "source": [
    "# **- Cabin 분석 접근법**\n",
    "\n",
    "#### **1. 방 개수(공백으로 구분) 별로 survived 탐색 => 유의미 한 관계 안 보임**\n",
    "#### **2. 방 한 개인 사람, 방 여러 개고 알파벳이 다 같은 방인 사람, 방 여러 개고 알파벳이 서로 다른 방인 사람 나눠서 survived 탐색**\n",
    "#### **3. 방 한 개인 사람, 방 여러 개고 알파벳 다 같은 방인 사람을 알파벳 별로, 방 여러 개고 알파벳이 서로 다른 사람(가능하면 케이스 별로 나눠 보기) 나눠서 survived 탐색**"
   ]
  },
  {
   "cell_type": "code",
   "execution_count": 82,
   "metadata": {},
   "outputs": [
    {
     "data": {
      "text/plain": [
       "{1, 2, 3, 4}"
      ]
     },
     "execution_count": 82,
     "metadata": {},
     "output_type": "execute_result"
    }
   ],
   "source": [
    "cabin_num = set()\n",
    "\n",
    "for ele in train.Cabin:\n",
    "    if ele is not np.nan:\n",
    "        room_num = len(ele.split())\n",
    "        cabin_num.add(room_num)\n",
    "\n",
    "cabin_num"
   ]
  },
  {
   "cell_type": "code",
   "execution_count": 83,
   "metadata": {},
   "outputs": [],
   "source": [
    "cabin_dic = {}\n",
    "for ele in cabin_num:\n",
    "    cabin_dic[ele] = []\n",
    "\n",
    "for ele in train.Cabin:\n",
    "    if ele is not np.nan:\n",
    "        for room_num in cabin_dic.keys():\n",
    "            if room_num == len(ele.split()):\n",
    "                cabin_dic[room_num].append(ele)\n",
    "\n",
    "data_title = [(train[train.Cabin.isin(cabin_dic[key])].Survived.astype(str), key) for key in cabin_dic.keys()]"
   ]
  },
  {
   "cell_type": "code",
   "execution_count": 84,
   "metadata": {},
   "outputs": [
    {
     "data": {
      "image/png": "[encoded data removed]",
      "text/plain": [
       "<Figure size 2160x216 with 4 Axes>"
      ]
     },
     "metadata": {
      "needs_background": "light"
     },
     "output_type": "display_data"
    }
   ],
   "source": [
    "multi_histogram((30, 3), .1, .6, 141, [ele[0] for ele in data_title], ['seperate by # of room_'+str(ele[1]) for ele in data_title], 'str')\n",
    "\n",
    "del cabin_num, cabin_dic, data_title"
   ]
  },
  {
   "cell_type": "markdown",
   "metadata": {},
   "source": [
    "### ***Cabin 분석 접근법 1***\n",
    "### ***→ invalid***"
   ]
  },
  {
   "cell_type": "markdown",
   "metadata": {},
   "source": [
    " "
   ]
  },
  {
   "cell_type": "code",
   "execution_count": 85,
   "metadata": {},
   "outputs": [],
   "source": [
    "cabin_dic = {'one_room':[], 'same_alphabets':[], 'different_alphabets':[]}\n",
    "\n",
    "for ele in train.Cabin:\n",
    "    if ele is not np.nan:\n",
    "        if len(pattern_space.findall(ele)) == 0:\n",
    "            cabin_dic['one_room'].append(ele)\n",
    "        else:\n",
    "            result = pattern_alphabet.findall(ele)\n",
    "            if all(x == result[0] for x in result):\n",
    "                cabin_dic['same_alphabets'].append(ele)\n",
    "            else:\n",
    "                cabin_dic['different_alphabets'].append(ele)\n",
    "\n",
    "data_title = [(train[train.Cabin.isin(cabin_dic[key])].Survived.astype(str), key) for key in cabin_dic.keys()]"
   ]
  },
  {
   "cell_type": "code",
   "execution_count": 86,
   "metadata": {},
   "outputs": [
    {
     "data": {
      "image/png": "[encoded data removed]",
      "text/plain": [
       "<Figure size 2160x216 with 3 Axes>"
      ]
     },
     "metadata": {
      "needs_background": "light"
     },
     "output_type": "display_data"
    }
   ],
   "source": [
    "multi_histogram((30, 3), .1, .6, (131), [ele[0] for ele in data_title], ['single/multiple room and same/different alphabets_\"'+str(ele[1])+'\"' for ele in data_title], 'str')\n",
    "\n",
    "del cabin_dic, data_title"
   ]
  },
  {
   "cell_type": "markdown",
   "metadata": {},
   "source": [
    "### ***Cabin 분석 접근법 2***\n",
    "- ### ***한 일행이 방을 여러 개로 배정 받은 경우 죽을 확률이 높음***\n",
    "***(아마도 같은 일행이니까 서로 구하려고 하는데 방 간 거리가 떨어져 있어 더 죽지 않았을지...)***\n",
    "### ***→ 하지만 위 케이스 개수가 고작 4개.....***"
   ]
  },
  {
   "cell_type": "markdown",
   "metadata": {},
   "source": [
    " "
   ]
  },
  {
   "cell_type": "markdown",
   "metadata": {},
   "source": [
    " "
   ]
  },
  {
   "cell_type": "code",
   "execution_count": 87,
   "metadata": {},
   "outputs": [
    {
     "data": {
      "text/plain": [
       "{'A', 'B', 'C', 'D', 'E', 'F', 'G', 'T'}"
      ]
     },
     "execution_count": 87,
     "metadata": {},
     "output_type": "execute_result"
    }
   ],
   "source": [
    "multi_room_alphabets = set()\n",
    "for ele in train.Cabin.unique():\n",
    "    if ele is not np.nan and len(pattern_space.findall(ele)) == 0:\n",
    "        multi_room_alphabets.update(pattern_alphabet.findall(ele))\n",
    "\n",
    "multi_room_alphabets"
   ]
  },
  {
   "cell_type": "code",
   "execution_count": 88,
   "metadata": {},
   "outputs": [],
   "source": [
    "cabin_dic = defaultdict(list)\n",
    "\n",
    "for ele in train.Cabin:\n",
    "    if ele is not np.nan:\n",
    "        if len(pattern_space.findall(ele)) == 0:\n",
    "            cabin_dic['one_room'].append(ele)\n",
    "        else:\n",
    "            result = pattern_alphabet.findall(ele)\n",
    "            if all(x == result[0] for x in result):\n",
    "                for alphabet in multi_room_alphabets:\n",
    "                    if result[0] == alphabet:\n",
    "                        cabin_dic[alphabet].append(ele)\n",
    "            else:\n",
    "                cabin_dic['different_alphabets'].append(ele)\n",
    "\n",
    "data_title = [(train[train.Cabin.isin(cabin_dic[key])].Survived.astype(str), key) for key in cabin_dic.keys()]"
   ]
  },
  {
   "cell_type": "code",
   "execution_count": 89,
   "metadata": {},
   "outputs": [
    {
     "data": {
      "text/plain": [
       "dict_keys(['one_room', 'C', 'different_alphabets', 'D', 'B'])"
      ]
     },
     "execution_count": 89,
     "metadata": {},
     "output_type": "execute_result"
    }
   ],
   "source": [
    "cabin_dic.keys()"
   ]
  },
  {
   "cell_type": "code",
   "execution_count": 90,
   "metadata": {},
   "outputs": [
    {
     "data": {
      "image/png": "[encoded data removed]",
      "text/plain": [
       "<Figure size 2160x432 with 5 Axes>"
      ]
     },
     "metadata": {
      "needs_background": "light"
     },
     "output_type": "display_data"
    }
   ],
   "source": [
    "multi_histogram((30, 6), .2, .4, [2, 5, 1], [ele[0] for ele in data_title], [str(ele[1]) for ele in data_title], 'str')\n",
    "\n",
    "del cabin_dic, data_title"
   ]
  },
  {
   "cell_type": "code",
   "execution_count": 91,
   "metadata": {},
   "outputs": [
    {
     "data": {
      "text/plain": [
       "array([nan, 'B45', 'E31', 'B57 B59 B63 B66', 'B36', 'A21', 'C78', 'D34',\n",
       "       'D19', 'A9', 'D15', 'C31', 'C23 C25 C27', 'F G63', 'B61', 'C53',\n",
       "       'D43', 'C130', 'C132', 'C101', 'C55 C57', 'B71', 'C46', 'C116',\n",
       "       'F', 'A29', 'G6', 'C6', 'C28', 'C51', 'E46', 'C54', 'C97', 'D22',\n",
       "       'B10', 'F4', 'E45', 'E52', 'D30', 'B58 B60', 'E34', 'C62 C64',\n",
       "       'A11', 'B11', 'C80', 'F33', 'C85', 'D37', 'C86', 'D21', 'C89',\n",
       "       'F E46', 'A34', 'D', 'B26', 'C22 C26', 'B69', 'C32', 'B78',\n",
       "       'F E57', 'F2', 'A18', 'C106', 'B51 B53 B55', 'D10 D12', 'E60',\n",
       "       'E50', 'E39 E41', 'B52 B54 B56', 'C39', 'B24', 'D28', 'B41', 'C7',\n",
       "       'D40', 'D38', 'C105'], dtype=object)"
      ]
     },
     "execution_count": 91,
     "metadata": {},
     "output_type": "execute_result"
    }
   ],
   "source": [
    "test.Cabin.unique()"
   ]
  },
  {
   "cell_type": "markdown",
   "metadata": {},
   "source": [
    "### ***Cabin 분석 접근법 3***\n",
    "- ### ***접근법 3까지 봤을 때, 접근법 2의 방식이 의미 있는 것으로 보임***\n",
    "***결측치가 많으므로 일반화시켜서(D는 살고 죽는 게 반반이지만 다른 것과 묶어서) 방 여러 개고 전부 같은 알파벳 방인 사람들을 같은 클래스로 분류***"
   ]
  },
  {
   "cell_type": "markdown",
   "metadata": {},
   "source": [
    " "
   ]
  },
  {
   "cell_type": "markdown",
   "metadata": {},
   "source": [
    "# **→ Cabin 정리**"
   ]
  },
  {
   "cell_type": "markdown",
   "metadata": {},
   "source": [
    "## ***- 구간 분할(방 하나인 사람 / 방 여러 개고 전부 같은 알파벳인 사람 / 방 여러 개고 서로 다른 알파벳인 사람)해 CATEGORICAL Feature로 변경***"
   ]
  },
  {
   "cell_type": "markdown",
   "metadata": {},
   "source": [
    " "
   ]
  },
  {
   "cell_type": "markdown",
   "metadata": {},
   "source": [
    " "
   ]
  },
  {
   "cell_type": "code",
   "execution_count": 92,
   "metadata": {},
   "outputs": [
    {
     "data": {
      "text/plain": [
       "0"
      ]
     },
     "execution_count": 92,
     "metadata": {},
     "output_type": "execute_result"
    }
   ],
   "source": [
    "x.Name.isna().sum()"
   ]
  },
  {
   "cell_type": "code",
   "execution_count": 93,
   "metadata": {},
   "outputs": [],
   "source": [
    "x.Name = x.Name.apply(lambda x : x.lower())\n",
    "train.Name = train.Name.apply(lambda x : x.lower())\n",
    "test.Name = test.Name.apply(lambda x : x.lower())"
   ]
  },
  {
   "cell_type": "code",
   "execution_count": 94,
   "metadata": {},
   "outputs": [
    {
     "data": {
      "text/plain": [
       "0                              braund, mr. owen harris\n",
       "1    cumings, mrs. john bradley (florence briggs th...\n",
       "2                               heikkinen, miss. laina\n",
       "3         futrelle, mrs. jacques heath (lily may peel)\n",
       "4                             allen, mr. william henry\n",
       "5                                     moran, mr. james\n",
       "6                              mccarthy, mr. timothy j\n",
       "7                       palsson, master. gosta leonard\n",
       "8    johnson, mrs. oscar w (elisabeth vilhelmina berg)\n",
       "9                  nasser, mrs. nicholas (adele achem)\n",
       "Name: Name, dtype: object"
      ]
     },
     "execution_count": 94,
     "metadata": {},
     "output_type": "execute_result"
    }
   ],
   "source": [
    "x.Name.head(10)"
   ]
  },
  {
   "cell_type": "markdown",
   "metadata": {},
   "source": [
    " "
   ]
  },
  {
   "cell_type": "code",
   "execution_count": 95,
   "metadata": {},
   "outputs": [
    {
     "data": {
      "text/plain": [
       "1    23\n",
       "0    17\n",
       "Name: Survived, dtype: int64"
      ]
     },
     "execution_count": 95,
     "metadata": {},
     "output_type": "execute_result"
    }
   ],
   "source": [
    "train.loc[train.Name.map(lambda name : name if 'master' in name else np.nan).dropna().index].Survived.value_counts()"
   ]
  },
  {
   "cell_type": "code",
   "execution_count": 96,
   "metadata": {},
   "outputs": [
    {
     "data": {
      "text/plain": [
       "1    23\n",
       "0    17\n",
       "Name: Survived, dtype: int64"
      ]
     },
     "execution_count": 96,
     "metadata": {},
     "output_type": "execute_result"
    }
   ],
   "source": [
    "train.loc[train.Name.map(lambda name : name if 'master.' in name else np.nan).dropna().index].Survived.value_counts()"
   ]
  },
  {
   "cell_type": "code",
   "execution_count": 97,
   "metadata": {},
   "outputs": [
    {
     "data": {
      "text/plain": [
       "Series([], Name: Name, dtype: object)"
      ]
     },
     "execution_count": 97,
     "metadata": {},
     "output_type": "execute_result"
    }
   ],
   "source": [
    "x.loc[x.Name.map(lambda name : name if 'master ' in name else np.nan).dropna().index].Name"
   ]
  },
  {
   "cell_type": "markdown",
   "metadata": {},
   "source": [
    "### **→ 'master.' 로**"
   ]
  },
  {
   "cell_type": "markdown",
   "metadata": {},
   "source": [
    " "
   ]
  },
  {
   "cell_type": "code",
   "execution_count": 98,
   "metadata": {},
   "outputs": [
    {
     "data": {
      "text/plain": [
       "1    102\n",
       "0     27\n",
       "Name: Survived, dtype: int64"
      ]
     },
     "execution_count": 98,
     "metadata": {},
     "output_type": "execute_result"
    }
   ],
   "source": [
    "train.loc[train.Name.map(lambda name : name if 'mrs' in name else np.nan).dropna().index].Survived.value_counts()"
   ]
  },
  {
   "cell_type": "code",
   "execution_count": 99,
   "metadata": {},
   "outputs": [
    {
     "data": {
      "text/plain": [
       "1    99\n",
       "0    26\n",
       "Name: Survived, dtype: int64"
      ]
     },
     "execution_count": 99,
     "metadata": {},
     "output_type": "execute_result"
    }
   ],
   "source": [
    "train.loc[train.Name.map(lambda name : name if 'mrs.' in name else np.nan).dropna().index].Survived.value_counts()"
   ]
  },
  {
   "cell_type": "code",
   "execution_count": 100,
   "metadata": {},
   "outputs": [
    {
     "name": "stdout",
     "output_type": "stream",
     "text": [
      "yrois, miss. henriette (\"mrs harbeck\")\n",
      "phillips, miss. kate florence (\"mrs kate louise phillips marshall\")\n",
      "duff gordon, lady. (lucille christiana sutherland) (\"mrs morgan\")\n",
      "mayne, mlle. berthe antonine (\"mrs de villiers\")\n"
     ]
    }
   ],
   "source": [
    "for name in x.loc[x.Name.map(lambda name : name if 'mrs ' in name else np.nan).dropna().index].Name:\n",
    "    print(name)"
   ]
  },
  {
   "cell_type": "markdown",
   "metadata": {},
   "source": [
    "### **→ 'mrs.' 로**"
   ]
  },
  {
   "cell_type": "markdown",
   "metadata": {},
   "source": [
    " "
   ]
  },
  {
   "cell_type": "code",
   "execution_count": 101,
   "metadata": {},
   "outputs": [
    {
     "data": {
      "text/plain": [
       "1    1\n",
       "Name: Survived, dtype: int64"
      ]
     },
     "execution_count": 101,
     "metadata": {},
     "output_type": "execute_result"
    }
   ],
   "source": [
    "train.loc[train.Name.map(lambda name : name if 'lady.' in name else np.nan).dropna().index].Survived.value_counts()"
   ]
  },
  {
   "cell_type": "code",
   "execution_count": 102,
   "metadata": {},
   "outputs": [
    {
     "data": {
      "text/plain": [
       "Series([], Name: Name, dtype: object)"
      ]
     },
     "execution_count": 102,
     "metadata": {},
     "output_type": "execute_result"
    }
   ],
   "source": [
    "x.loc[x.Name.map(lambda name : name if 'lady ' in name else np.nan).dropna().index].Name"
   ]
  },
  {
   "cell_type": "markdown",
   "metadata": {},
   "source": [
    "### **→ 'lady.' 로**"
   ]
  },
  {
   "cell_type": "markdown",
   "metadata": {},
   "source": [
    " "
   ]
  },
  {
   "cell_type": "code",
   "execution_count": 103,
   "metadata": {},
   "outputs": [
    {
     "data": {
      "text/plain": [
       "1    1\n",
       "Name: Survived, dtype: int64"
      ]
     },
     "execution_count": 103,
     "metadata": {},
     "output_type": "execute_result"
    }
   ],
   "source": [
    "train.loc[train.Name.map(lambda name : name if 'sir.' in name else np.nan).dropna().index].Survived.value_counts()"
   ]
  },
  {
   "cell_type": "code",
   "execution_count": 104,
   "metadata": {},
   "outputs": [
    {
     "data": {
      "text/plain": [
       "Series([], Name: Name, dtype: object)"
      ]
     },
     "execution_count": 104,
     "metadata": {},
     "output_type": "execute_result"
    }
   ],
   "source": [
    "x.loc[x.Name.map(lambda name : name if 'sir ' in name else np.nan).dropna().index].Name"
   ]
  },
  {
   "cell_type": "markdown",
   "metadata": {},
   "source": [
    "### **→ 'sir.' 로**"
   ]
  },
  {
   "cell_type": "markdown",
   "metadata": {},
   "source": [
    " "
   ]
  },
  {
   "cell_type": "code",
   "execution_count": 105,
   "metadata": {},
   "outputs": [
    {
     "data": {
      "text/plain": [
       "1    127\n",
       "0     55\n",
       "Name: Survived, dtype: int64"
      ]
     },
     "execution_count": 105,
     "metadata": {},
     "output_type": "execute_result"
    }
   ],
   "source": [
    "train.loc[train.Name.map(lambda name : name if 'miss' in name else np.nan).dropna().index].Survived.value_counts()"
   ]
  },
  {
   "cell_type": "code",
   "execution_count": 106,
   "metadata": {},
   "outputs": [
    {
     "data": {
      "text/plain": [
       "1    127\n",
       "0     55\n",
       "Name: Survived, dtype: int64"
      ]
     },
     "execution_count": 106,
     "metadata": {},
     "output_type": "execute_result"
    }
   ],
   "source": [
    "train.loc[train.Name.map(lambda name : name if 'miss.' in name else np.nan).dropna().index].Survived.value_counts()"
   ]
  },
  {
   "cell_type": "code",
   "execution_count": 107,
   "metadata": {},
   "outputs": [
    {
     "data": {
      "text/plain": [
       "Series([], Name: Name, dtype: object)"
      ]
     },
     "execution_count": 107,
     "metadata": {},
     "output_type": "execute_result"
    }
   ],
   "source": [
    "x.loc[x.Name.map(lambda name : name if 'miss ' in name else np.nan).dropna().index].Name"
   ]
  },
  {
   "cell_type": "markdown",
   "metadata": {},
   "source": [
    "### **→ 'miss.' 로**"
   ]
  },
  {
   "cell_type": "markdown",
   "metadata": {},
   "source": [
    " "
   ]
  },
  {
   "cell_type": "code",
   "execution_count": 108,
   "metadata": {},
   "outputs": [
    {
     "data": {
      "text/plain": [
       "0    463\n",
       "1    184\n",
       "Name: Survived, dtype: int64"
      ]
     },
     "execution_count": 108,
     "metadata": {},
     "output_type": "execute_result"
    }
   ],
   "source": [
    "train.loc[train.Name.map(lambda name : name if 'mr' in name else np.nan).dropna().index].Survived.value_counts()"
   ]
  },
  {
   "cell_type": "code",
   "execution_count": 109,
   "metadata": {},
   "outputs": [
    {
     "data": {
      "text/plain": [
       "0    436\n",
       "1     81\n",
       "Name: Survived, dtype: int64"
      ]
     },
     "execution_count": 109,
     "metadata": {},
     "output_type": "execute_result"
    }
   ],
   "source": [
    "train.loc[train.Name.map(lambda name : name if 'mr.' in name else np.nan).dropna().index].Survived.value_counts()"
   ]
  },
  {
   "cell_type": "code",
   "execution_count": 110,
   "metadata": {},
   "outputs": [
    {
     "name": "stdout",
     "output_type": "stream",
     "text": [
      "romaine, mr. charles hallace (\"mr c rolmane\")\n",
      "duff gordon, sir. cosmo edmund (\"mr morgan\")\n",
      "homer, mr. harry (\"mr e haven\")\n",
      "morley, mr. henry samuel (\"mr henry marshall\")\n",
      "lindeberg-lind, mr. erik gustaf (mr edward lingrey\")\"\n",
      "rosenshine, mr. george (mr george thorne\")\"\n"
     ]
    }
   ],
   "source": [
    "for name in x.loc[x.Name.map(lambda name : name if 'mr ' in name else np.nan).dropna().index].Name:\n",
    "    print(name)"
   ]
  },
  {
   "cell_type": "markdown",
   "metadata": {},
   "source": [
    "### **→ 'mr.' 로**"
   ]
  },
  {
   "cell_type": "markdown",
   "metadata": {},
   "source": [
    " "
   ]
  },
  {
   "cell_type": "code",
   "execution_count": 111,
   "metadata": {},
   "outputs": [
    {
     "data": {
      "text/plain": [
       "1    17\n",
       "0    15\n",
       "Name: Survived, dtype: int64"
      ]
     },
     "execution_count": 111,
     "metadata": {},
     "output_type": "execute_result"
    }
   ],
   "source": [
    "train.loc[train.Name.map(lambda name : name if 'dr' in name else np.nan).dropna().index].Survived.value_counts()"
   ]
  },
  {
   "cell_type": "code",
   "execution_count": 112,
   "metadata": {},
   "outputs": [
    {
     "data": {
      "text/plain": [
       "0    4\n",
       "1    3\n",
       "Name: Survived, dtype: int64"
      ]
     },
     "execution_count": 112,
     "metadata": {},
     "output_type": "execute_result"
    }
   ],
   "source": [
    "train.loc[train.Name.map(lambda name : name if 'dr.' in name else np.nan).dropna().index].Survived.value_counts()"
   ]
  },
  {
   "cell_type": "code",
   "execution_count": 113,
   "metadata": {},
   "outputs": [
    {
     "data": {
      "text/plain": [
       "Series([], Name: Name, dtype: object)"
      ]
     },
     "execution_count": 113,
     "metadata": {},
     "output_type": "execute_result"
    }
   ],
   "source": [
    "x.loc[x.Name.map(lambda name : name if 'dr ' in name else np.nan).dropna().index].Name"
   ]
  },
  {
   "cell_type": "markdown",
   "metadata": {},
   "source": [
    "### **→ 'dr.' 로**"
   ]
  },
  {
   "cell_type": "markdown",
   "metadata": {},
   "source": [
    " "
   ]
  },
  {
   "cell_type": "code",
   "execution_count": 114,
   "metadata": {},
   "outputs": [
    {
     "data": {
      "text/plain": [
       "0    6\n",
       "1    5\n",
       "Name: Survived, dtype: int64"
      ]
     },
     "execution_count": 114,
     "metadata": {},
     "output_type": "execute_result"
    }
   ],
   "source": [
    "train.loc[train.Name.map(lambda name : name if 'ms' in name else np.nan).dropna().index].Survived.value_counts()"
   ]
  },
  {
   "cell_type": "code",
   "execution_count": 115,
   "metadata": {},
   "outputs": [
    {
     "data": {
      "text/plain": [
       "1    1\n",
       "Name: Survived, dtype: int64"
      ]
     },
     "execution_count": 115,
     "metadata": {},
     "output_type": "execute_result"
    }
   ],
   "source": [
    "train.loc[train.Name.map(lambda name : name if 'ms.' in name else np.nan).dropna().index].Survived.value_counts()"
   ]
  },
  {
   "cell_type": "code",
   "execution_count": 116,
   "metadata": {},
   "outputs": [
    {
     "data": {
      "text/plain": [
       "Series([], Name: Name, dtype: object)"
      ]
     },
     "execution_count": 116,
     "metadata": {},
     "output_type": "execute_result"
    }
   ],
   "source": [
    "x.loc[x.Name.map(lambda name : name if 'ms ' in name else np.nan).dropna().index].Name"
   ]
  },
  {
   "cell_type": "markdown",
   "metadata": {},
   "source": [
    "### **→ 'ms.' 로**"
   ]
  },
  {
   "cell_type": "markdown",
   "metadata": {},
   "source": [
    " "
   ]
  },
  {
   "cell_type": "code",
   "execution_count": 117,
   "metadata": {},
   "outputs": [
    {
     "data": {
      "text/plain": [
       "30                               uruchurtu, don. manuel e\n",
       "149                     byles, rev. thomas roussel davids\n",
       "150                            bateman, rev. robert james\n",
       "249                         carter, rev. ernest courtenay\n",
       "369                         aubart, mme. leontine pauline\n",
       "449                        peuchen, major. arthur godfrey\n",
       "536                     butt, major. archibald willingham\n",
       "626                        kirkland, rev. charles leonard\n",
       "641                                  sagesser, mlle. emma\n",
       "647                   simonius-blumer, col. oberst alfons\n",
       "694                                       weir, col. john\n",
       "710      mayne, mlle. berthe antonine (\"mrs de villiers\")\n",
       "745                          crosby, capt. edward gifford\n",
       "759     rothes, the countess. of (lucy noel martha dye...\n",
       "822                       reuchlin, jonkheer. john george\n",
       "848                                     harper, rev. john\n",
       "886                                 montvila, rev. juozas\n",
       "1022                            gracie, col. archibald iv\n",
       "1040                               lahtinen, rev. william\n",
       "1055                        peruschitz, rev. joseph maria\n",
       "1093                               astor, col. john jacob\n",
       "1305                         oliva y ocana, dona. fermina\n",
       "Name: Name, dtype: object"
      ]
     },
     "execution_count": 117,
     "metadata": {},
     "output_type": "execute_result"
    }
   ],
   "source": [
    "# 'master.', 'mrs.', 'lady.', 'sir.', 'miss.', 'mr.', 'dr.', 'ms.'\n",
    "x.loc[x.Name.map(lambda name : name if ('master.' not in name) and ('mrs.' not in name) and ('lady.' not in name) and ('sir.' not in name) and\n",
    "                 ('miss.' not in name) and ('mr.' not in name) and ('dr.' not in name) and ('ms.' not in name) else np.nan).dropna().index].Name"
   ]
  },
  {
   "cell_type": "code",
   "execution_count": 118,
   "metadata": {},
   "outputs": [
    {
     "data": {
      "text/plain": [
       "0    11\n",
       "1     6\n",
       "Name: Survived, dtype: int64"
      ]
     },
     "execution_count": 118,
     "metadata": {},
     "output_type": "execute_result"
    }
   ],
   "source": [
    "index = train.loc[train.Name.map(lambda name : name if ('master.' not in name) and ('mrs.' not in name) and ('lady.' not in name) and ('sir.' not in name) and\n",
    "                 ('miss.' not in name) and ('mr.' not in name) and ('dr.' not in name) and ('ms.' not in name) else np.nan).dropna().index].index\n",
    "\n",
    "train.loc[index].Survived.value_counts()"
   ]
  },
  {
   "cell_type": "markdown",
   "metadata": {},
   "source": [
    " "
   ]
  },
  {
   "cell_type": "code",
   "execution_count": 119,
   "metadata": {},
   "outputs": [],
   "source": [
    "list_ = []\n",
    "for name in x.Name:\n",
    "    if 'mrs.' in name:\n",
    "        list_.append(1)\n",
    "    elif ('master.' in name) or ('miss.' in name) or ('ms.' in name):\n",
    "        list_.append(0)\n",
    "    else:\n",
    "        list_.append(np.nan)\n",
    "\n",
    "x['Married'] = pd.Series(list_)\n",
    "\n",
    "for idx, name in enumerate(x.Name):\n",
    "    if 'dr.' in name:\n",
    "        if (x.SibSp[idx]==0) and (x.Parch[idx]==0):\n",
    "            x.Married[idx] = 0\n",
    "        else:\n",
    "            x.Married[idx] = 1\n",
    "\n",
    "list_ = [name for name in x.Name if ('mr.' not in name) and ('mrs.' not in name) and ('master.' not in name) and ('miss.' not in name)\n",
    "         and ('ms.' not in name) and ('dr.' not in name)]\n",
    "\n",
    "index_ = x[x.Name.isin(list_) & (x.SibSp==0) & (x.Parch==0)].index\n",
    "\n",
    "x.loc[index_, 'Married'] = 0\n",
    "\n",
    "del list_, index_\n",
    "\n",
    "for idx, name in enumerate(x.Name):\n",
    "    if ('mr.' in name) or ('mr ' in name):\n",
    "        age = x.Age[idx]\n",
    "        if (age >= 10) and (age < 20):\n",
    "            x.Married[idx] = 0\n",
    "        else:\n",
    "            if (x.SibSp[idx]==0) and (x.Parch[idx]==0):\n",
    "                x.Married[idx] = 0\n",
    "            else:\n",
    "                x.Married[idx] = 1"
   ]
  },
  {
   "cell_type": "code",
   "execution_count": 120,
   "metadata": {},
   "outputs": [
    {
     "name": "stdout",
     "output_type": "stream",
     "text": [
      "carter, rev. ernest courtenay\n",
      "duff gordon, lady. (lucille christiana sutherland) (\"mrs morgan\")\n",
      "crosby, capt. edward gifford\n",
      "harper, rev. john\n",
      "lahtinen, rev. william\n",
      "astor, col. john jacob\n"
     ]
    }
   ],
   "source": [
    "for name in x[x.Married.isna()].Name:\n",
    "    print(name)"
   ]
  },
  {
   "cell_type": "code",
   "execution_count": 121,
   "metadata": {},
   "outputs": [
    {
     "data": {
      "text/html": [
       "<div>\n",
       "<style scoped>\n",
       "    .dataframe tbody tr th:only-of-type {\n",
       "        vertical-align: middle;\n",
       "    }\n",
       "\n",
       "    .dataframe tbody tr th {\n",
       "        vertical-align: top;\n",
       "    }\n",
       "\n",
       "    .dataframe thead th {\n",
       "        text-align: right;\n",
       "    }\n",
       "</style>\n",
       "<table border=\"1\" class=\"dataframe\">\n",
       "  <thead>\n",
       "    <tr style=\"text-align: right;\">\n",
       "      <th></th>\n",
       "      <th>SibSp</th>\n",
       "      <th>Parch</th>\n",
       "      <th>Age</th>\n",
       "      <th>Name</th>\n",
       "    </tr>\n",
       "  </thead>\n",
       "  <tbody>\n",
       "    <tr>\n",
       "      <th>249</th>\n",
       "      <td>1</td>\n",
       "      <td>0</td>\n",
       "      <td>54.0</td>\n",
       "      <td>carter, rev. ernest courtenay</td>\n",
       "    </tr>\n",
       "    <tr>\n",
       "      <th>556</th>\n",
       "      <td>1</td>\n",
       "      <td>0</td>\n",
       "      <td>48.0</td>\n",
       "      <td>duff gordon, lady. (lucille christiana sutherl...</td>\n",
       "    </tr>\n",
       "    <tr>\n",
       "      <th>745</th>\n",
       "      <td>1</td>\n",
       "      <td>1</td>\n",
       "      <td>70.0</td>\n",
       "      <td>crosby, capt. edward gifford</td>\n",
       "    </tr>\n",
       "    <tr>\n",
       "      <th>848</th>\n",
       "      <td>0</td>\n",
       "      <td>1</td>\n",
       "      <td>28.0</td>\n",
       "      <td>harper, rev. john</td>\n",
       "    </tr>\n",
       "    <tr>\n",
       "      <th>1040</th>\n",
       "      <td>1</td>\n",
       "      <td>1</td>\n",
       "      <td>30.0</td>\n",
       "      <td>lahtinen, rev. william</td>\n",
       "    </tr>\n",
       "    <tr>\n",
       "      <th>1093</th>\n",
       "      <td>1</td>\n",
       "      <td>0</td>\n",
       "      <td>47.0</td>\n",
       "      <td>astor, col. john jacob</td>\n",
       "    </tr>\n",
       "  </tbody>\n",
       "</table>\n",
       "</div>"
      ],
      "text/plain": [
       "      SibSp  Parch   Age                                               Name\n",
       "249       1      0  54.0                      carter, rev. ernest courtenay\n",
       "556       1      0  48.0  duff gordon, lady. (lucille christiana sutherl...\n",
       "745       1      1  70.0                       crosby, capt. edward gifford\n",
       "848       0      1  28.0                                  harper, rev. john\n",
       "1040      1      1  30.0                             lahtinen, rev. william\n",
       "1093      1      0  47.0                             astor, col. john jacob"
      ]
     },
     "execution_count": 121,
     "metadata": {},
     "output_type": "execute_result"
    }
   ],
   "source": [
    "x.loc[x[x.Married.isna()].index][['SibSp', 'Parch', 'Age', 'Name']]"
   ]
  },
  {
   "cell_type": "code",
   "execution_count": 122,
   "metadata": {},
   "outputs": [
    {
     "data": {
      "text/plain": [
       "6"
      ]
     },
     "execution_count": 122,
     "metadata": {},
     "output_type": "execute_result"
    }
   ],
   "source": [
    "x[(x.Married.isna()) & (x.SibSp=='0')] = 0\n",
    "x[(x.Married.isna()) & (x.SibSp=='1')] = 1\n",
    "\n",
    "x.Married.isna().sum()"
   ]
  },
  {
   "cell_type": "code",
   "execution_count": 123,
   "metadata": {},
   "outputs": [],
   "source": [
    "temp = x[:len(train)]\n",
    "temp['Survived'] = train.Survived"
   ]
  },
  {
   "cell_type": "code",
   "execution_count": 124,
   "metadata": {},
   "outputs": [
    {
     "data": {
      "text/plain": [
       "0    435\n",
       "1    221\n",
       "Name: Survived, dtype: int64"
      ]
     },
     "execution_count": 124,
     "metadata": {},
     "output_type": "execute_result"
    }
   ],
   "source": [
    "temp[temp.Married == 0].Survived.value_counts()"
   ]
  },
  {
   "cell_type": "code",
   "execution_count": 125,
   "metadata": {},
   "outputs": [
    {
     "data": {
      "text/plain": [
       "1    120\n",
       "0    111\n",
       "Name: Survived, dtype: int64"
      ]
     },
     "execution_count": 125,
     "metadata": {},
     "output_type": "execute_result"
    }
   ],
   "source": [
    "temp[temp.Married == 1].Survived.value_counts()"
   ]
  },
  {
   "cell_type": "code",
   "execution_count": 126,
   "metadata": {},
   "outputs": [
    {
     "data": {
      "text/plain": [
       "0    85\n",
       "1    21\n",
       "Name: Survived, dtype: int64"
      ]
     },
     "execution_count": 126,
     "metadata": {},
     "output_type": "execute_result"
    }
   ],
   "source": [
    "temp[(temp.Married == 1) & (temp.Sex == 'male')].Survived.value_counts()"
   ]
  },
  {
   "cell_type": "code",
   "execution_count": 127,
   "metadata": {},
   "outputs": [
    {
     "data": {
      "text/plain": [
       "1    99\n",
       "0    26\n",
       "Name: Survived, dtype: int64"
      ]
     },
     "execution_count": 127,
     "metadata": {},
     "output_type": "execute_result"
    }
   ],
   "source": [
    "temp[(temp.Married == 1) & (temp.Sex == 'female')].Survived.value_counts()"
   ]
  },
  {
   "cell_type": "code",
   "execution_count": 128,
   "metadata": {},
   "outputs": [],
   "source": [
    "del temp"
   ]
  },
  {
   "cell_type": "markdown",
   "metadata": {},
   "source": [
    "# **→ Name 정리**"
   ]
  },
  {
   "cell_type": "markdown",
   "metadata": {},
   "source": [
    "## ***- 위 과정대로 Married로 변환한 후, 결혼 안 한 사람 / 결혼한 남자 / 결혼한 여자로 CATEGORICAL Feature 추가***\n",
    "## ***- Name, Married 삭제***"
   ]
  },
  {
   "cell_type": "markdown",
   "metadata": {},
   "source": [
    " "
   ]
  },
  {
   "cell_type": "markdown",
   "metadata": {},
   "source": [
    " "
   ]
  },
  {
   "cell_type": "markdown",
   "metadata": {},
   "source": [
    "# **→ PassengerId 정리**"
   ]
  },
  {
   "cell_type": "markdown",
   "metadata": {},
   "source": [
    "## ***- 삭제***"
   ]
  },
  {
   "cell_type": "markdown",
   "metadata": {},
   "source": [
    " "
   ]
  },
  {
   "cell_type": "markdown",
   "metadata": {},
   "source": [
    " "
   ]
  },
  {
   "cell_type": "markdown",
   "metadata": {},
   "source": [
    " "
   ]
  },
  {
   "cell_type": "markdown",
   "metadata": {},
   "source": [
    "# ■ Feature Engineering"
   ]
  },
  {
   "cell_type": "markdown",
   "metadata": {},
   "source": [
    " "
   ]
  },
  {
   "cell_type": "code",
   "execution_count": 129,
   "metadata": {},
   "outputs": [],
   "source": [
    "x = pd.concat([train[['PassengerId', 'Pclass', 'Name', 'Sex', 'Age', 'SibSp', 'Parch', 'Ticket', 'Fare', 'Cabin',\n",
    "                      'Embarked']], test])\n",
    "\n",
    "x.reset_index(drop=True, inplace=True)\n",
    "\n",
    "na_sentinel = -99"
   ]
  },
  {
   "cell_type": "markdown",
   "metadata": {},
   "source": [
    " "
   ]
  },
  {
   "cell_type": "markdown",
   "metadata": {},
   "source": [
    "- ### Total_people, Avg_fare 추가"
   ]
  },
  {
   "cell_type": "code",
   "execution_count": 130,
   "metadata": {},
   "outputs": [],
   "source": [
    "x['Total_people'] = x.SibSp + x.Parch + 1\n",
    "train['Total_people'] = train.SibSp + train.Parch + 1\n",
    "test['Total_people'] = test.SibSp + test.Parch + 1"
   ]
  },
  {
   "cell_type": "code",
   "execution_count": 131,
   "metadata": {},
   "outputs": [],
   "source": [
    "x['Avg_fare'] = x.Fare / x.Total_people\n",
    "train['Avg_fare'] = train.Fare / train.Total_people\n",
    "test['Avg_fare'] = test.Fare / test.Total_people"
   ]
  },
  {
   "cell_type": "code",
   "execution_count": 132,
   "metadata": {},
   "outputs": [],
   "source": [
    "x['Total_people'] = x['Total_people'].astype(str)\n",
    "train['Total_people'] = train['Total_people'].astype(str)\n",
    "test['Total_people'] = test['Total_people'].astype(str)"
   ]
  },
  {
   "cell_type": "code",
   "execution_count": 133,
   "metadata": {},
   "outputs": [
    {
     "name": "stdout",
     "output_type": "stream",
     "text": [
      "1308    3\n",
      "Name: Total_people, dtype: object\n",
      "890    1\n",
      "Name: Total_people, dtype: object\n",
      "417    3\n",
      "Name: Total_people, dtype: object\n"
     ]
    }
   ],
   "source": [
    "for df in [x, train, test]:\n",
    "    print(df.Total_people.tail(1))"
   ]
  },
  {
   "cell_type": "code",
   "execution_count": 134,
   "metadata": {},
   "outputs": [
    {
     "name": "stdout",
     "output_type": "stream",
     "text": [
      "1     790\n",
      "11     11\n",
      "2     235\n",
      "3     159\n",
      "4      43\n",
      "5      22\n",
      "6      25\n",
      "7      16\n",
      "8       8\n",
      "Name: Total_people, dtype: int64\n",
      "1     537\n",
      "11      7\n",
      "2     161\n",
      "3     102\n",
      "4      29\n",
      "5      15\n",
      "6      22\n",
      "7      12\n",
      "8       6\n",
      "Name: Total_people, dtype: int64\n",
      "1     253\n",
      "11      4\n",
      "2      74\n",
      "3      57\n",
      "4      14\n",
      "5       7\n",
      "6       3\n",
      "7       4\n",
      "8       2\n",
      "Name: Total_people, dtype: int64\n"
     ]
    }
   ],
   "source": [
    "for df in [x, train, test]:\n",
    "    print(df.Total_people.value_counts().sort_index())"
   ]
  },
  {
   "cell_type": "markdown",
   "metadata": {},
   "source": [
    " "
   ]
  },
  {
   "cell_type": "markdown",
   "metadata": {},
   "source": [
    "- ### SibSp 처리"
   ]
  },
  {
   "cell_type": "code",
   "execution_count": 135,
   "metadata": {},
   "outputs": [
    {
     "data": {
      "text/plain": [
       "0"
      ]
     },
     "execution_count": 135,
     "metadata": {},
     "output_type": "execute_result"
    }
   ],
   "source": [
    "x.SibSp.isna().sum()"
   ]
  },
  {
   "cell_type": "code",
   "execution_count": 136,
   "metadata": {},
   "outputs": [],
   "source": [
    "x.SibSp = x.SibSp.astype(str)\n",
    "train.SibSp = train.SibSp.astype(str)\n",
    "test.SibSp = test.SibSp.astype(str)"
   ]
  },
  {
   "cell_type": "code",
   "execution_count": 137,
   "metadata": {},
   "outputs": [
    {
     "name": "stdout",
     "output_type": "stream",
     "text": [
      "1308    1\n",
      "Name: SibSp, dtype: object\n",
      "890    0\n",
      "Name: SibSp, dtype: object\n",
      "417    1\n",
      "Name: SibSp, dtype: object\n"
     ]
    }
   ],
   "source": [
    "for df in [x, train, test]:\n",
    "    print(df.SibSp.tail(1))"
   ]
  },
  {
   "cell_type": "code",
   "execution_count": 138,
   "metadata": {},
   "outputs": [
    {
     "name": "stdout",
     "output_type": "stream",
     "text": [
      "0    891\n",
      "1    319\n",
      "2     42\n",
      "3     20\n",
      "4     22\n",
      "5      6\n",
      "8      9\n",
      "Name: SibSp, dtype: int64\n",
      "0    608\n",
      "1    209\n",
      "2     28\n",
      "3     16\n",
      "4     18\n",
      "5      5\n",
      "8      7\n",
      "Name: SibSp, dtype: int64\n",
      "0    283\n",
      "1    110\n",
      "2     14\n",
      "3      4\n",
      "4      4\n",
      "5      1\n",
      "8      2\n",
      "Name: SibSp, dtype: int64\n"
     ]
    }
   ],
   "source": [
    "for df in [x, train, test]:\n",
    "    print(df.SibSp.value_counts().sort_index())"
   ]
  },
  {
   "cell_type": "markdown",
   "metadata": {},
   "source": [
    " "
   ]
  },
  {
   "cell_type": "markdown",
   "metadata": {},
   "source": [
    "- ### Parch 처리"
   ]
  },
  {
   "cell_type": "code",
   "execution_count": 139,
   "metadata": {},
   "outputs": [
    {
     "data": {
      "text/plain": [
       "0"
      ]
     },
     "execution_count": 139,
     "metadata": {},
     "output_type": "execute_result"
    }
   ],
   "source": [
    "x.Parch.isna().sum()"
   ]
  },
  {
   "cell_type": "code",
   "execution_count": 140,
   "metadata": {},
   "outputs": [],
   "source": [
    "x.Parch = x.Parch.astype(str)\n",
    "train.Parch = train.Parch.astype(str)\n",
    "test.Parch = test.Parch.astype(str)"
   ]
  },
  {
   "cell_type": "code",
   "execution_count": 141,
   "metadata": {},
   "outputs": [
    {
     "name": "stdout",
     "output_type": "stream",
     "text": [
      "1308    1\n",
      "Name: Parch, dtype: object\n",
      "890    0\n",
      "Name: Parch, dtype: object\n",
      "417    1\n",
      "Name: Parch, dtype: object\n"
     ]
    }
   ],
   "source": [
    "for df in [x, train, test]:\n",
    "    print(df.Parch.tail(1))"
   ]
  },
  {
   "cell_type": "code",
   "execution_count": 142,
   "metadata": {},
   "outputs": [
    {
     "name": "stdout",
     "output_type": "stream",
     "text": [
      "0    1002\n",
      "1     170\n",
      "2     113\n",
      "3       8\n",
      "4       6\n",
      "5       6\n",
      "6       2\n",
      "9       2\n",
      "Name: Parch, dtype: int64\n",
      "0    678\n",
      "1    118\n",
      "2     80\n",
      "3      5\n",
      "4      4\n",
      "5      5\n",
      "6      1\n",
      "Name: Parch, dtype: int64\n",
      "0    324\n",
      "1     52\n",
      "2     33\n",
      "3      3\n",
      "4      2\n",
      "5      1\n",
      "6      1\n",
      "9      2\n",
      "Name: Parch, dtype: int64\n"
     ]
    }
   ],
   "source": [
    "for df in [x, train, test]:\n",
    "    print(df.Parch.value_counts().sort_index())"
   ]
  },
  {
   "cell_type": "markdown",
   "metadata": {},
   "source": [
    " "
   ]
  },
  {
   "cell_type": "markdown",
   "metadata": {},
   "source": [
    "- ### Fare 처리"
   ]
  },
  {
   "cell_type": "code",
   "execution_count": 143,
   "metadata": {},
   "outputs": [
    {
     "name": "stdout",
     "output_type": "stream",
     "text": [
      "x.Fare.isna().sum() :  1 \n",
      "train.Fare.isna().sum() :  0 \n",
      "test.Fare.isna().sum() :  1\n"
     ]
    }
   ],
   "source": [
    "print('x.Fare.isna().sum() : ', x.Fare.isna().sum(),\n",
    "      '\\ntrain.Fare.isna().sum() : ', train.Fare.isna().sum(),\n",
    "      '\\ntest.Fare.isna().sum() : ', test.Fare.isna().sum()\n",
    "     )"
   ]
  },
  {
   "cell_type": "code",
   "execution_count": 144,
   "metadata": {},
   "outputs": [],
   "source": [
    "x.Fare.fillna(-99, inplace=True)\n",
    "train.Fare.fillna(-99, inplace=True)\n",
    "test.Fare.fillna(-99, inplace=True)"
   ]
  },
  {
   "cell_type": "code",
   "execution_count": 145,
   "metadata": {},
   "outputs": [
    {
     "name": "stdout",
     "output_type": "stream",
     "text": [
      "x.Fare.isna().sum() :  0 \n",
      "train.Fare.isna().sum() :  0 \n",
      "test.Fare.isna().sum() :  0\n"
     ]
    }
   ],
   "source": [
    "print('x.Fare.isna().sum() : ', x.Fare.isna().sum(),\n",
    "      '\\ntrain.Fare.isna().sum() : ', train.Fare.isna().sum(),\n",
    "      '\\ntest.Fare.isna().sum() : ', test.Fare.isna().sum()\n",
    "     )"
   ]
  },
  {
   "cell_type": "code",
   "execution_count": 146,
   "metadata": {},
   "outputs": [],
   "source": [
    "func = lambda value : value if value == -99 else\\\n",
    "                        (0 if value < 50 else 1)"
   ]
  },
  {
   "cell_type": "code",
   "execution_count": 147,
   "metadata": {},
   "outputs": [],
   "source": [
    "x['Fare_grade'] = x.Fare.map(func).astype(int).astype(str)\n",
    "train['Fare_grade'] = train.Fare.map(func).astype(int).astype(str)\n",
    "test['Fare_grade'] = test.Fare.map(func).astype(int).astype(str)"
   ]
  },
  {
   "cell_type": "code",
   "execution_count": 148,
   "metadata": {},
   "outputs": [
    {
     "name": "stdout",
     "output_type": "stream",
     "text": [
      "1308    0\n",
      "Name: Fare_grade, dtype: object\n",
      "890    0\n",
      "Name: Fare_grade, dtype: object\n",
      "417    0\n",
      "Name: Fare_grade, dtype: object\n"
     ]
    }
   ],
   "source": [
    "for df in [x, train, test]:\n",
    "    print(df.Fare_grade.tail(1))"
   ]
  },
  {
   "cell_type": "code",
   "execution_count": 149,
   "metadata": {},
   "outputs": [
    {
     "name": "stdout",
     "output_type": "stream",
     "text": [
      "-99       1\n",
      "0      1066\n",
      "1       242\n",
      "Name: Fare_grade, dtype: int64\n",
      "0    730\n",
      "1    161\n",
      "Name: Fare_grade, dtype: int64\n",
      "-99      1\n",
      "0      336\n",
      "1       81\n",
      "Name: Fare_grade, dtype: int64\n"
     ]
    }
   ],
   "source": [
    "for df in [x, train, test]:\n",
    "    print(df.Fare_grade.value_counts().sort_index())"
   ]
  },
  {
   "cell_type": "markdown",
   "metadata": {},
   "source": [
    " "
   ]
  },
  {
   "cell_type": "markdown",
   "metadata": {},
   "source": [
    "- ### Avg_fare 처리\n"
   ]
  },
  {
   "cell_type": "code",
   "execution_count": 150,
   "metadata": {},
   "outputs": [
    {
     "name": "stdout",
     "output_type": "stream",
     "text": [
      "x.Avg_fare.isna().sum() :  1 \n",
      "train.Avg_fare.isna().sum() :  0 \n",
      "test.Avg_fare.isna().sum() :  1\n"
     ]
    }
   ],
   "source": [
    "print('x.Avg_fare.isna().sum() : ', x.Avg_fare.isna().sum(),\n",
    "      '\\ntrain.Avg_fare.isna().sum() : ', train.Avg_fare.isna().sum(),\n",
    "      '\\ntest.Avg_fare.isna().sum() : ', test.Avg_fare.isna().sum()\n",
    "     )"
   ]
  },
  {
   "cell_type": "code",
   "execution_count": 151,
   "metadata": {},
   "outputs": [],
   "source": [
    "x.Avg_fare.fillna(-99, inplace=True)\n",
    "train.Avg_fare.fillna(-99, inplace=True)\n",
    "test.Avg_fare.fillna(-99, inplace=True)"
   ]
  },
  {
   "cell_type": "code",
   "execution_count": 152,
   "metadata": {},
   "outputs": [
    {
     "name": "stdout",
     "output_type": "stream",
     "text": [
      "x.Avg_fare.isna().sum() :  0 \n",
      "train.Avg_fare.isna().sum() :  0 \n",
      "test.Avg_fare.isna().sum() :  0\n"
     ]
    }
   ],
   "source": [
    "print('x.Avg_fare.isna().sum() : ', x.Fare.isna().sum(),\n",
    "      '\\ntrain.Avg_fare.isna().sum() : ', train.Fare.isna().sum(),\n",
    "      '\\ntest.Avg_fare.isna().sum() : ', test.Fare.isna().sum()\n",
    "     )"
   ]
  },
  {
   "cell_type": "code",
   "execution_count": 153,
   "metadata": {},
   "outputs": [],
   "source": [
    "func = lambda value : value if value == -99 else\\\n",
    "                        (0 if value < 25 else 1)"
   ]
  },
  {
   "cell_type": "code",
   "execution_count": 154,
   "metadata": {},
   "outputs": [],
   "source": [
    "x['Avg_fare_grade'] = x.Avg_fare.map(func).astype(int).astype(str)\n",
    "train['Avg_fare_grade'] = train.Avg_fare.map(func).astype(int).astype(str)\n",
    "test['Avg_fare_grade'] = test.Avg_fare.map(func).astype(int).astype(str)"
   ]
  },
  {
   "cell_type": "code",
   "execution_count": 155,
   "metadata": {},
   "outputs": [
    {
     "name": "stdout",
     "output_type": "stream",
     "text": [
      "1308    0\n",
      "Name: Avg_fare_grade, dtype: object\n",
      "890    0\n",
      "Name: Avg_fare_grade, dtype: object\n",
      "417    0\n",
      "Name: Avg_fare_grade, dtype: object\n"
     ]
    }
   ],
   "source": [
    "for df in [x, train, test]:\n",
    "    print(df.Avg_fare_grade.tail(1))"
   ]
  },
  {
   "cell_type": "code",
   "execution_count": 156,
   "metadata": {},
   "outputs": [
    {
     "name": "stdout",
     "output_type": "stream",
     "text": [
      "-99      1\n",
      "0      984\n",
      "1      324\n",
      "Name: Avg_fare_grade, dtype: int64\n",
      "0    674\n",
      "1    217\n",
      "Name: Avg_fare_grade, dtype: int64\n",
      "-99      1\n",
      "0      310\n",
      "1      107\n",
      "Name: Avg_fare_grade, dtype: int64\n"
     ]
    }
   ],
   "source": [
    "for df in [x, train, test]:\n",
    "    print(df.Avg_fare_grade.value_counts().sort_index())"
   ]
  },
  {
   "cell_type": "markdown",
   "metadata": {},
   "source": [
    " "
   ]
  },
  {
   "cell_type": "markdown",
   "metadata": {},
   "source": [
    "- ### Pclass 처리"
   ]
  },
  {
   "cell_type": "code",
   "execution_count": 157,
   "metadata": {},
   "outputs": [
    {
     "data": {
      "text/plain": [
       "0"
      ]
     },
     "execution_count": 157,
     "metadata": {},
     "output_type": "execute_result"
    }
   ],
   "source": [
    "x.Pclass.isna().sum()"
   ]
  },
  {
   "cell_type": "code",
   "execution_count": 158,
   "metadata": {},
   "outputs": [],
   "source": [
    "x.Pclass = x.Pclass.astype(str)"
   ]
  },
  {
   "cell_type": "code",
   "execution_count": 159,
   "metadata": {},
   "outputs": [
    {
     "data": {
      "text/plain": [
       "1308    3\n",
       "Name: Pclass, dtype: object"
      ]
     },
     "execution_count": 159,
     "metadata": {},
     "output_type": "execute_result"
    }
   ],
   "source": [
    "x.Pclass.tail(1)"
   ]
  },
  {
   "cell_type": "code",
   "execution_count": 160,
   "metadata": {},
   "outputs": [
    {
     "data": {
      "text/plain": [
       "1    323\n",
       "2    277\n",
       "3    709\n",
       "Name: Pclass, dtype: int64"
      ]
     },
     "execution_count": 160,
     "metadata": {},
     "output_type": "execute_result"
    }
   ],
   "source": [
    "x.Pclass.value_counts().sort_index()"
   ]
  },
  {
   "cell_type": "markdown",
   "metadata": {},
   "source": [
    " "
   ]
  },
  {
   "cell_type": "markdown",
   "metadata": {},
   "source": [
    "- ### Embarked 처리"
   ]
  },
  {
   "cell_type": "code",
   "execution_count": 161,
   "metadata": {},
   "outputs": [
    {
     "data": {
      "text/plain": [
       "2"
      ]
     },
     "execution_count": 161,
     "metadata": {},
     "output_type": "execute_result"
    }
   ],
   "source": [
    "x.Embarked.isna().sum()"
   ]
  },
  {
   "cell_type": "code",
   "execution_count": 162,
   "metadata": {},
   "outputs": [],
   "source": [
    "x.Embarked = x.Embarked.factorize(na_sentinel=na_sentinel)[0].astype(str)\n",
    "train.Embarked = train.Embarked.factorize(na_sentinel=na_sentinel)[0].astype(str)\n",
    "test.Embarked = test.Embarked.factorize(na_sentinel=na_sentinel)[0].astype(str)"
   ]
  },
  {
   "cell_type": "code",
   "execution_count": 163,
   "metadata": {},
   "outputs": [
    {
     "name": "stdout",
     "output_type": "stream",
     "text": [
      "1308    1\n",
      "Name: Embarked, dtype: object\n",
      "890    2\n",
      "Name: Embarked, dtype: object\n",
      "417    2\n",
      "Name: Embarked, dtype: object\n"
     ]
    }
   ],
   "source": [
    "for df in [x, train, test]:\n",
    "    print(df.Embarked.tail(1))"
   ]
  },
  {
   "cell_type": "code",
   "execution_count": 164,
   "metadata": {},
   "outputs": [
    {
     "name": "stdout",
     "output_type": "stream",
     "text": [
      "-99      2\n",
      "0      914\n",
      "1      270\n",
      "2      123\n",
      "Name: Embarked, dtype: int64\n",
      "-99      2\n",
      "0      644\n",
      "1      168\n",
      "2       77\n",
      "Name: Embarked, dtype: int64\n",
      "0     46\n",
      "1    270\n",
      "2    102\n",
      "Name: Embarked, dtype: int64\n"
     ]
    }
   ],
   "source": [
    "for df in [x, train, test]:\n",
    "    print(df.Embarked.value_counts().sort_index())"
   ]
  },
  {
   "cell_type": "code",
   "execution_count": 165,
   "metadata": {},
   "outputs": [
    {
     "data": {
      "text/plain": [
       "61     1\n",
       "829    1\n",
       "Name: Survived, dtype: int64"
      ]
     },
     "execution_count": 165,
     "metadata": {},
     "output_type": "execute_result"
    }
   ],
   "source": [
    "train[train.Embarked=='-99'].Survived"
   ]
  },
  {
   "cell_type": "code",
   "execution_count": 166,
   "metadata": {},
   "outputs": [
    {
     "name": "stdout",
     "output_type": "stream",
     "text": [
      "0    427\n",
      "1    217\n",
      "Name: Survived, dtype: int64\n",
      "0    75\n",
      "1    93\n",
      "Name: Survived, dtype: int64\n",
      "0    47\n",
      "1    30\n",
      "Name: Survived, dtype: int64\n"
     ]
    }
   ],
   "source": [
    "for embarked in ['0', '1', '2']:\n",
    "    print(train[train.Embarked==embarked].Survived.value_counts().sort_index())"
   ]
  },
  {
   "cell_type": "code",
   "execution_count": 167,
   "metadata": {},
   "outputs": [],
   "source": [
    "x.Embarked.loc[x[x.Embarked=='-99'].index] = '1'\n",
    "train.Embarked.loc[train[train.Embarked=='-99'].index] = '1'"
   ]
  },
  {
   "cell_type": "code",
   "execution_count": 168,
   "metadata": {},
   "outputs": [
    {
     "name": "stdout",
     "output_type": "stream",
     "text": [
      "0    914\n",
      "1    272\n",
      "2    123\n",
      "Name: Embarked, dtype: int64\n",
      "0    644\n",
      "1    170\n",
      "2     77\n",
      "Name: Embarked, dtype: int64\n",
      "0     46\n",
      "1    270\n",
      "2    102\n",
      "Name: Embarked, dtype: int64\n"
     ]
    }
   ],
   "source": [
    "for df in [x, train, test]:\n",
    "    print(df.Embarked.value_counts().sort_index())"
   ]
  },
  {
   "cell_type": "markdown",
   "metadata": {},
   "source": [
    " "
   ]
  },
  {
   "cell_type": "markdown",
   "metadata": {},
   "source": [
    "- ### Age 처리"
   ]
  },
  {
   "cell_type": "code",
   "execution_count": 169,
   "metadata": {},
   "outputs": [
    {
     "data": {
      "text/plain": [
       "263"
      ]
     },
     "execution_count": 169,
     "metadata": {},
     "output_type": "execute_result"
    }
   ],
   "source": [
    "x.Age.isna().sum()"
   ]
  },
  {
   "cell_type": "code",
   "execution_count": 170,
   "metadata": {},
   "outputs": [],
   "source": [
    "x.Age.fillna(-99, inplace=True)\n",
    "train.Age.fillna(-99, inplace=True)\n",
    "test.Age.fillna(-99, inplace=True)"
   ]
  },
  {
   "cell_type": "code",
   "execution_count": 171,
   "metadata": {},
   "outputs": [],
   "source": [
    "func = lambda value : value if value == -99 else\\\n",
    "                        (0 if value < 5 else 1)"
   ]
  },
  {
   "cell_type": "code",
   "execution_count": 172,
   "metadata": {},
   "outputs": [],
   "source": [
    "x['Age_grade'] = x.Age.map(func).astype(int).astype(str)\n",
    "train['Age_grade'] = train.Age.map(func).astype(int).astype(str)\n",
    "test['Age_grade'] = test.Age.map(func).astype(int).astype(str)"
   ]
  },
  {
   "cell_type": "code",
   "execution_count": 173,
   "metadata": {},
   "outputs": [
    {
     "name": "stdout",
     "output_type": "stream",
     "text": [
      "1308    -99\n",
      "Name: Age_grade, dtype: object\n",
      "890    1\n",
      "Name: Age_grade, dtype: object\n",
      "417    -99\n",
      "Name: Age_grade, dtype: object\n"
     ]
    }
   ],
   "source": [
    "for df in [x, train, test]:\n",
    "    print(df.Age_grade.tail(1))"
   ]
  },
  {
   "cell_type": "code",
   "execution_count": 174,
   "metadata": {},
   "outputs": [
    {
     "name": "stdout",
     "output_type": "stream",
     "text": [
      "-99    263\n",
      "0       51\n",
      "1      995\n",
      "Name: Age_grade, dtype: int64\n",
      "-99    177\n",
      "0       40\n",
      "1      674\n",
      "Name: Age_grade, dtype: int64\n",
      "-99     86\n",
      "0       11\n",
      "1      321\n",
      "Name: Age_grade, dtype: int64\n"
     ]
    }
   ],
   "source": [
    "for df in [x, train, test]:\n",
    "    print(df.Age_grade.value_counts().sort_index())"
   ]
  },
  {
   "cell_type": "markdown",
   "metadata": {},
   "source": [
    " "
   ]
  },
  {
   "cell_type": "markdown",
   "metadata": {},
   "source": [
    "- ### Ticket 처리"
   ]
  },
  {
   "cell_type": "code",
   "execution_count": 175,
   "metadata": {},
   "outputs": [],
   "source": [
    "x.drop('Ticket', axis=1, inplace=True)\n",
    "train.drop('Ticket', axis=1, inplace=True)\n",
    "test.drop('Ticket', axis=1, inplace=True)"
   ]
  },
  {
   "cell_type": "markdown",
   "metadata": {},
   "source": [
    " "
   ]
  },
  {
   "cell_type": "markdown",
   "metadata": {},
   "source": [
    "- ### PassengerId 처리"
   ]
  },
  {
   "cell_type": "code",
   "execution_count": 176,
   "metadata": {},
   "outputs": [],
   "source": [
    "x.drop('PassengerId', axis=1, inplace=True)\n",
    "train.drop('PassengerId', axis=1, inplace=True)\n",
    "test.drop('PassengerId', axis=1, inplace=True)"
   ]
  },
  {
   "cell_type": "markdown",
   "metadata": {},
   "source": [
    " "
   ]
  },
  {
   "cell_type": "markdown",
   "metadata": {},
   "source": [
    "- ### Cabin 처리"
   ]
  },
  {
   "cell_type": "code",
   "execution_count": 177,
   "metadata": {},
   "outputs": [],
   "source": [
    "pattern_alphabet = re.compile('[a-zA-Z]')\n",
    "pattern_space = re.compile('[ ]')\n",
    "\n",
    "cabin_dic = {'one_room':[], 'same_alphabets':[], 'different_alphabets':[]}\n",
    "\n",
    "for ele in x.Cabin:\n",
    "    if ele is not np.nan:\n",
    "        if len(pattern_space.findall(ele)) == 0:\n",
    "            cabin_dic['one_room'].append(ele)\n",
    "        else:\n",
    "            result = pattern_alphabet.findall(ele)\n",
    "            if all(x == result[0] for x in result):\n",
    "                cabin_dic['same_alphabets'].append(ele)\n",
    "            else:\n",
    "                cabin_dic['different_alphabets'].append(ele)\n",
    "\n",
    "for df in [x, train, test]:\n",
    "    no = 0\n",
    "    for type_ in cabin_dic:\n",
    "        index = df[df.Cabin.isin(cabin_dic[type_])].index\n",
    "        df.loc[index, 'Cabin'] = no\n",
    "        no += 1"
   ]
  },
  {
   "cell_type": "code",
   "execution_count": 178,
   "metadata": {},
   "outputs": [
    {
     "name": "stdout",
     "output_type": "stream",
     "text": [
      "x.Cabin.unique() :  [nan 0 1 2] \n",
      "train.Cabin.unique() :  [nan 0 1 2] \n",
      "test.Cabin.unique() [nan 0 1 2]\n"
     ]
    }
   ],
   "source": [
    "print(\n",
    "    'x.Cabin.unique() : ', x.Cabin.unique(),\n",
    "    '\\ntrain.Cabin.unique() : ',train.Cabin.unique(),\n",
    "    '\\ntest.Cabin.unique()', test.Cabin.unique()\n",
    ")"
   ]
  },
  {
   "cell_type": "code",
   "execution_count": 179,
   "metadata": {},
   "outputs": [],
   "source": [
    "x.Cabin.fillna(-99, inplace=True)\n",
    "train.Cabin.fillna(-99, inplace=True)\n",
    "test.Cabin.fillna(-99, inplace=True)\n",
    "\n",
    "x.Cabin = x.Cabin.astype(str)\n",
    "train.Cabin = train.Cabin.astype(str)\n",
    "test.Cabin = test.Cabin.astype(str)"
   ]
  },
  {
   "cell_type": "code",
   "execution_count": 180,
   "metadata": {},
   "outputs": [
    {
     "name": "stdout",
     "output_type": "stream",
     "text": [
      "x.Cabin.unique() :  ['-99' '0' '1' '2'] \n",
      "train.Cabin.unique() :  ['-99' '0' '1' '2'] \n",
      "test.Cabin.unique() ['-99' '0' '1' '2']\n"
     ]
    }
   ],
   "source": [
    "print(\n",
    "    'x.Cabin.unique() : ', x.Cabin.unique(),\n",
    "    '\\ntrain.Cabin.unique() : ',train.Cabin.unique(),\n",
    "    '\\ntest.Cabin.unique()', test.Cabin.unique()\n",
    ")"
   ]
  },
  {
   "cell_type": "markdown",
   "metadata": {},
   "source": [
    " "
   ]
  },
  {
   "cell_type": "markdown",
   "metadata": {},
   "source": [
    "- ### Sex 처리"
   ]
  },
  {
   "cell_type": "code",
   "execution_count": 181,
   "metadata": {},
   "outputs": [
    {
     "data": {
      "text/plain": [
       "0"
      ]
     },
     "execution_count": 181,
     "metadata": {},
     "output_type": "execute_result"
    }
   ],
   "source": [
    "x.Sex.isna().sum()"
   ]
  },
  {
   "cell_type": "code",
   "execution_count": 182,
   "metadata": {},
   "outputs": [
    {
     "data": {
      "text/plain": [
       "male      843\n",
       "female    466\n",
       "Name: Sex, dtype: int64"
      ]
     },
     "execution_count": 182,
     "metadata": {},
     "output_type": "execute_result"
    }
   ],
   "source": [
    "x.Sex.value_counts()"
   ]
  },
  {
   "cell_type": "code",
   "execution_count": 183,
   "metadata": {},
   "outputs": [],
   "source": [
    "x.Sex = x.Sex.factorize()[0].astype(str)"
   ]
  },
  {
   "cell_type": "code",
   "execution_count": 184,
   "metadata": {},
   "outputs": [
    {
     "data": {
      "text/plain": [
       "0    843\n",
       "1    466\n",
       "Name: Sex, dtype: int64"
      ]
     },
     "execution_count": 184,
     "metadata": {},
     "output_type": "execute_result"
    }
   ],
   "source": [
    "x.Sex.value_counts()"
   ]
  },
  {
   "cell_type": "code",
   "execution_count": 185,
   "metadata": {},
   "outputs": [
    {
     "data": {
      "text/plain": [
       "0    0\n",
       "Name: Sex, dtype: object"
      ]
     },
     "execution_count": 185,
     "metadata": {},
     "output_type": "execute_result"
    }
   ],
   "source": [
    "x.Sex.head(1)"
   ]
  },
  {
   "cell_type": "markdown",
   "metadata": {},
   "source": [
    " "
   ]
  },
  {
   "cell_type": "markdown",
   "metadata": {},
   "source": [
    "- ### Name 처리"
   ]
  },
  {
   "cell_type": "code",
   "execution_count": 186,
   "metadata": {},
   "outputs": [],
   "source": [
    "x.Name = x.Name.apply(lambda x : x.lower())\n",
    "train.Name = train.Name.apply(lambda x : x.lower())\n",
    "test.Name = test.Name.apply(lambda x : x.lower())"
   ]
  },
  {
   "cell_type": "code",
   "execution_count": 187,
   "metadata": {},
   "outputs": [
    {
     "name": "stdout",
     "output_type": "stream",
     "text": [
      "Wall time: 21.1 s\n"
     ]
    }
   ],
   "source": [
    "%%time\n",
    "list_ = []\n",
    "for name in x.Name:\n",
    "    if 'mrs.' in name:\n",
    "        list_.append(1)\n",
    "    elif ('master.' in name) or ('miss.' in name) or ('ms.' in name):\n",
    "        list_.append(0)\n",
    "    else:\n",
    "        list_.append(np.nan)\n",
    "\n",
    "x['Married'] = pd.Series(list_)\n",
    "\n",
    "for idx, name in enumerate(x.Name):\n",
    "    if 'dr.' in name:\n",
    "        if (x.SibSp[idx]==0) and (x.Parch[idx]==0):\n",
    "            x.Married.loc[idx] = 0\n",
    "        else:\n",
    "            x.Married.loc[idx] = 1\n",
    "\n",
    "list_ = [name for name in x.Name if ('mr.' not in name) and ('mrs.' not in name) and ('master.' not in name) and ('miss.' not in name)\n",
    "         and ('ms.' not in name) and ('dr.' not in name)]\n",
    "\n",
    "index_ = x[x.Name.isin(list_) & (x.SibSp==0) & (x.Parch==0)].index\n",
    "\n",
    "x.loc[index_, 'Married'] = 0\n",
    "\n",
    "del list_, index_\n",
    "\n",
    "for idx, name in enumerate(x.Name):\n",
    "    if 'mr.' in name:\n",
    "        age = x.Age[idx]\n",
    "        if (age >= 10) and (age < 20):\n",
    "            x.Married.loc[idx] = 0\n",
    "        else:\n",
    "            if (x.SibSp[idx]==0) and (x.Parch[idx]==0):\n",
    "                x.Married.loc[idx] = 0\n",
    "            else:\n",
    "                x.Married.loc[idx] = 1\n",
    "\n",
    "x.loc[x[(x.Married.isna()) & (x.SibSp=='0')].index, 'Married'] = 0\n",
    "x.loc[x[(x.Married.isna()) & (x.SibSp=='1')].index, 'Married'] = 1"
   ]
  },
  {
   "cell_type": "code",
   "execution_count": 188,
   "metadata": {},
   "outputs": [
    {
     "data": {
      "text/plain": [
       "0"
      ]
     },
     "execution_count": 188,
     "metadata": {},
     "output_type": "execute_result"
    }
   ],
   "source": [
    "x.Married.isna().sum()"
   ]
  },
  {
   "cell_type": "code",
   "execution_count": 189,
   "metadata": {},
   "outputs": [
    {
     "data": {
      "text/plain": [
       "1.0    899\n",
       "0.0    410\n",
       "Name: Married, dtype: int64"
      ]
     },
     "execution_count": 189,
     "metadata": {},
     "output_type": "execute_result"
    }
   ],
   "source": [
    "x.Married.value_counts()"
   ]
  },
  {
   "cell_type": "code",
   "execution_count": 190,
   "metadata": {},
   "outputs": [],
   "source": [
    "x.Married = x.Married.astype(int).astype(str)\n",
    "\n",
    "x.drop('Name', axis=1, inplace=True)"
   ]
  },
  {
   "cell_type": "code",
   "execution_count": 191,
   "metadata": {},
   "outputs": [
    {
     "data": {
      "text/plain": [
       "1    899\n",
       "0    410\n",
       "Name: Married, dtype: int64"
      ]
     },
     "execution_count": 191,
     "metadata": {},
     "output_type": "execute_result"
    }
   ],
   "source": [
    "x.Married.value_counts()"
   ]
  },
  {
   "cell_type": "code",
   "execution_count": 192,
   "metadata": {},
   "outputs": [],
   "source": [
    "# sex '0'이 남자\n",
    "# '1'은 결혼한 남자, '2'는 결혼한 여자\n",
    "x.loc[x[x.Married=='0'].index, 'Married'] = '0'\n",
    "x.loc[x[(x.Married=='1') & (x.Sex=='0')].index, 'Married'] = '1'\n",
    "x.loc[x[(x.Married=='1') & (x.Sex=='1')].index, 'Married'] = '2'"
   ]
  },
  {
   "cell_type": "markdown",
   "metadata": {},
   "source": [
    " "
   ]
  },
  {
   "cell_type": "markdown",
   "metadata": {},
   "source": [
    "- ### Columns order sorting"
   ]
  },
  {
   "cell_type": "code",
   "execution_count": 193,
   "metadata": {},
   "outputs": [],
   "source": [
    "x = x[['Age', 'Fare', 'Avg_fare', 'Age_grade', 'Fare_grade', 'Avg_fare_grade',\n",
    "      'Pclass', 'Sex', 'SibSp', 'Parch', 'Cabin', 'Embarked', 'Total_people', 'Married']]"
   ]
  },
  {
   "cell_type": "markdown",
   "metadata": {},
   "source": [
    " "
   ]
  },
  {
   "cell_type": "markdown",
   "metadata": {},
   "source": [
    "- ### Scaling"
   ]
  },
  {
   "cell_type": "code",
   "execution_count": 194,
   "metadata": {},
   "outputs": [],
   "source": [
    "scaler = StandardScaler()\n",
    "continuous_scale = scaler.fit_transform(x.iloc[:, :3].values)"
   ]
  },
  {
   "cell_type": "code",
   "execution_count": 195,
   "metadata": {},
   "outputs": [
    {
     "data": {
      "text/plain": [
       "(1309, 3)"
      ]
     },
     "execution_count": 195,
     "metadata": {},
     "output_type": "execute_result"
    }
   ],
   "source": [
    "continuous_scale.shape"
   ]
  },
  {
   "cell_type": "markdown",
   "metadata": {},
   "source": [
    " "
   ]
  },
  {
   "cell_type": "markdown",
   "metadata": {},
   "source": [
    "- ### One-hot-encoding"
   ]
  },
  {
   "cell_type": "code",
   "execution_count": 196,
   "metadata": {},
   "outputs": [],
   "source": [
    "categorical_onehot = pd.get_dummies(x.iloc[:, 3:])"
   ]
  },
  {
   "cell_type": "code",
   "execution_count": 197,
   "metadata": {},
   "outputs": [],
   "source": [
    "x = pd.concat([pd.DataFrame(data=continuous_scale, columns=['Age', 'Fare', 'Avg_fare']), categorical_onehot], axis=1)"
   ]
  },
  {
   "cell_type": "code",
   "execution_count": 198,
   "metadata": {},
   "outputs": [],
   "source": [
    "for idx in range(continuous_scale.shape[1], len(x.columns)):\n",
    "    x.iloc[:, idx] = x.iloc[:, idx].astype(str)"
   ]
  },
  {
   "cell_type": "markdown",
   "metadata": {},
   "source": [
    " "
   ]
  },
  {
   "cell_type": "markdown",
   "metadata": {},
   "source": [
    "- ### FAMD"
   ]
  },
  {
   "cell_type": "code",
   "execution_count": 199,
   "metadata": {},
   "outputs": [],
   "source": [
    "famd = FAMD(n_components=3, random_state=0)\n",
    "\n",
    "x_famd = famd.fit_transform(x)"
   ]
  },
  {
   "cell_type": "markdown",
   "metadata": {},
   "source": [
    " "
   ]
  },
  {
   "cell_type": "markdown",
   "metadata": {},
   "source": [
    "- ### Clustering"
   ]
  },
  {
   "cell_type": "code",
   "execution_count": 200,
   "metadata": {},
   "outputs": [],
   "source": [
    "def SSE(data_, k_):\n",
    "    sse = []\n",
    "    \n",
    "    for i in range(1, k_+1):\n",
    "        km = KMeans(n_clusters=i, random_state=0)\n",
    "        km.fit(data_)\n",
    "        sse.append(km.inertia_)\n",
    "    \n",
    "    plt.figure(figsize=(25, 5))\n",
    "    plt.plot(range(1, k_+1), sse, marker='o')\n",
    "    plt.xlabel('# of clusters')\n",
    "    plt.ylabel('SSE')\n",
    "    plt.show()"
   ]
  },
  {
   "cell_type": "code",
   "execution_count": 201,
   "metadata": {},
   "outputs": [
    {
     "data": {
      "image/png": "[encoded data removed]",
      "text/plain": [
       "<Figure size 1800x360 with 1 Axes>"
      ]
     },
     "metadata": {
      "needs_background": "light"
     },
     "output_type": "display_data"
    }
   ],
   "source": [
    "SSE(x.values, 20)"
   ]
  },
  {
   "cell_type": "code",
   "execution_count": 202,
   "metadata": {},
   "outputs": [],
   "source": [
    "km = KMeans(n_clusters=5, random_state=0)\n",
    "\n",
    "cluster_distances = km.fit_transform(x.values)"
   ]
  },
  {
   "cell_type": "code",
   "execution_count": 203,
   "metadata": {},
   "outputs": [
    {
     "data": {
      "text/plain": [
       "(1309, 5)"
      ]
     },
     "execution_count": 203,
     "metadata": {},
     "output_type": "execute_result"
    }
   ],
   "source": [
    "cluster_distances.shape"
   ]
  },
  {
   "cell_type": "markdown",
   "metadata": {},
   "source": [
    " "
   ]
  },
  {
   "cell_type": "markdown",
   "metadata": {},
   "source": [
    "- ### 마무리"
   ]
  },
  {
   "cell_type": "code",
   "execution_count": 204,
   "metadata": {},
   "outputs": [
    {
     "data": {
      "text/plain": [
       "Age                   0\n",
       "Fare                  0\n",
       "Avg_fare              0\n",
       "Age_grade_-99         0\n",
       "Age_grade_0           0\n",
       "Age_grade_1           0\n",
       "Fare_grade_-99        0\n",
       "Fare_grade_0          0\n",
       "Fare_grade_1          0\n",
       "Avg_fare_grade_-99    0\n",
       "Avg_fare_grade_0      0\n",
       "Avg_fare_grade_1      0\n",
       "Pclass_1              0\n",
       "Pclass_2              0\n",
       "Pclass_3              0\n",
       "Sex_0                 0\n",
       "Sex_1                 0\n",
       "SibSp_0               0\n",
       "SibSp_1               0\n",
       "SibSp_2               0\n",
       "SibSp_3               0\n",
       "SibSp_4               0\n",
       "SibSp_5               0\n",
       "SibSp_8               0\n",
       "Parch_0               0\n",
       "Parch_1               0\n",
       "Parch_2               0\n",
       "Parch_3               0\n",
       "Parch_4               0\n",
       "Parch_5               0\n",
       "Parch_6               0\n",
       "Parch_9               0\n",
       "Cabin_-99             0\n",
       "Cabin_0               0\n",
       "Cabin_1               0\n",
       "Cabin_2               0\n",
       "Embarked_0            0\n",
       "Embarked_1            0\n",
       "Embarked_2            0\n",
       "Total_people_1        0\n",
       "Total_people_11       0\n",
       "Total_people_2        0\n",
       "Total_people_3        0\n",
       "Total_people_4        0\n",
       "Total_people_5        0\n",
       "Total_people_6        0\n",
       "Total_people_7        0\n",
       "Total_people_8        0\n",
       "Married_0             0\n",
       "Married_1             0\n",
       "Married_2             0\n",
       "dtype: int64"
      ]
     },
     "execution_count": 204,
     "metadata": {},
     "output_type": "execute_result"
    }
   ],
   "source": [
    "x.isna().sum()"
   ]
  },
  {
   "cell_type": "code",
   "execution_count": 205,
   "metadata": {},
   "outputs": [],
   "source": [
    "x = pd.concat([x, pd.DataFrame(data=x_famd.values, columns=['factor1', 'factor2', 'factor3'])], axis=1)\n",
    "x = pd.concat([x, pd.DataFrame(data=cluster_distances, columns=['cluster_distance1', 'cluster_distance2', 'cluster_distance3', 'cluster_distance4', 'cluster_distance5'])], axis=1)"
   ]
  },
  {
   "cell_type": "code",
   "execution_count": 206,
   "metadata": {},
   "outputs": [
    {
     "data": {
      "text/html": [
       "<div>\n",
       "<style scoped>\n",
       "    .dataframe tbody tr th:only-of-type {\n",
       "        vertical-align: middle;\n",
       "    }\n",
       "\n",
       "    .dataframe tbody tr th {\n",
       "        vertical-align: top;\n",
       "    }\n",
       "\n",
       "    .dataframe thead th {\n",
       "        text-align: right;\n",
       "    }\n",
       "</style>\n",
       "<table border=\"1\" class=\"dataframe\">\n",
       "  <thead>\n",
       "    <tr style=\"text-align: right;\">\n",
       "      <th></th>\n",
       "      <th>Age</th>\n",
       "      <th>Fare</th>\n",
       "      <th>Avg_fare</th>\n",
       "      <th>Age_grade_-99</th>\n",
       "      <th>Age_grade_0</th>\n",
       "      <th>Age_grade_1</th>\n",
       "      <th>Fare_grade_-99</th>\n",
       "      <th>Fare_grade_0</th>\n",
       "      <th>Fare_grade_1</th>\n",
       "      <th>Avg_fare_grade_-99</th>\n",
       "      <th>...</th>\n",
       "      <th>Married_1</th>\n",
       "      <th>Married_2</th>\n",
       "      <th>factor1</th>\n",
       "      <th>factor2</th>\n",
       "      <th>factor3</th>\n",
       "      <th>cluster_distance1</th>\n",
       "      <th>cluster_distance2</th>\n",
       "      <th>cluster_distance3</th>\n",
       "      <th>cluster_distance4</th>\n",
       "      <th>cluster_distance5</th>\n",
       "    </tr>\n",
       "  </thead>\n",
       "  <tbody>\n",
       "    <tr>\n",
       "      <th>0</th>\n",
       "      <td>0.338452</td>\n",
       "      <td>-0.500393</td>\n",
       "      <td>-0.468030</td>\n",
       "      <td>0</td>\n",
       "      <td>0</td>\n",
       "      <td>1</td>\n",
       "      <td>0</td>\n",
       "      <td>1</td>\n",
       "      <td>0</td>\n",
       "      <td>0</td>\n",
       "      <td>...</td>\n",
       "      <td>1</td>\n",
       "      <td>0</td>\n",
       "      <td>608.693</td>\n",
       "      <td>-34.3367</td>\n",
       "      <td>36.2761</td>\n",
       "      <td>2.235061</td>\n",
       "      <td>3.298715</td>\n",
       "      <td>3.341570</td>\n",
       "      <td>6.956805</td>\n",
       "      <td>1.843403</td>\n",
       "    </tr>\n",
       "    <tr>\n",
       "      <th>1</th>\n",
       "      <td>0.639077</td>\n",
       "      <td>0.734624</td>\n",
       "      <td>0.423818</td>\n",
       "      <td>0</td>\n",
       "      <td>0</td>\n",
       "      <td>1</td>\n",
       "      <td>0</td>\n",
       "      <td>0</td>\n",
       "      <td>1</td>\n",
       "      <td>0</td>\n",
       "      <td>...</td>\n",
       "      <td>0</td>\n",
       "      <td>1</td>\n",
       "      <td>504.89</td>\n",
       "      <td>383.546</td>\n",
       "      <td>-19.7367</td>\n",
       "      <td>3.606441</td>\n",
       "      <td>4.790541</td>\n",
       "      <td>1.867771</td>\n",
       "      <td>4.979978</td>\n",
       "      <td>4.161327</td>\n",
       "    </tr>\n",
       "    <tr>\n",
       "      <th>2</th>\n",
       "      <td>0.413608</td>\n",
       "      <td>-0.487374</td>\n",
       "      <td>-0.348250</td>\n",
       "      <td>0</td>\n",
       "      <td>0</td>\n",
       "      <td>1</td>\n",
       "      <td>0</td>\n",
       "      <td>1</td>\n",
       "      <td>0</td>\n",
       "      <td>0</td>\n",
       "      <td>...</td>\n",
       "      <td>0</td>\n",
       "      <td>0</td>\n",
       "      <td>619.879</td>\n",
       "      <td>-48.0992</td>\n",
       "      <td>112.339</td>\n",
       "      <td>1.514064</td>\n",
       "      <td>3.207197</td>\n",
       "      <td>3.375684</td>\n",
       "      <td>6.678627</td>\n",
       "      <td>1.973702</td>\n",
       "    </tr>\n",
       "    <tr>\n",
       "      <th>3</th>\n",
       "      <td>0.582710</td>\n",
       "      <td>0.383921</td>\n",
       "      <td>0.170563</td>\n",
       "      <td>0</td>\n",
       "      <td>0</td>\n",
       "      <td>1</td>\n",
       "      <td>0</td>\n",
       "      <td>0</td>\n",
       "      <td>1</td>\n",
       "      <td>0</td>\n",
       "      <td>...</td>\n",
       "      <td>0</td>\n",
       "      <td>1</td>\n",
       "      <td>520.574</td>\n",
       "      <td>358.059</td>\n",
       "      <td>-2.46782</td>\n",
       "      <td>3.283241</td>\n",
       "      <td>4.601514</td>\n",
       "      <td>1.881664</td>\n",
       "      <td>5.413554</td>\n",
       "      <td>3.846557</td>\n",
       "    </tr>\n",
       "    <tr>\n",
       "      <th>4</th>\n",
       "      <td>0.582710</td>\n",
       "      <td>-0.484963</td>\n",
       "      <td>-0.344768</td>\n",
       "      <td>0</td>\n",
       "      <td>0</td>\n",
       "      <td>1</td>\n",
       "      <td>0</td>\n",
       "      <td>1</td>\n",
       "      <td>0</td>\n",
       "      <td>0</td>\n",
       "      <td>...</td>\n",
       "      <td>1</td>\n",
       "      <td>0</td>\n",
       "      <td>637.172</td>\n",
       "      <td>-132.997</td>\n",
       "      <td>-59.8616</td>\n",
       "      <td>2.147996</td>\n",
       "      <td>3.047859</td>\n",
       "      <td>3.262673</td>\n",
       "      <td>6.771514</td>\n",
       "      <td>0.597968</td>\n",
       "    </tr>\n",
       "  </tbody>\n",
       "</table>\n",
       "<p>5 rows × 59 columns</p>\n",
       "</div>"
      ],
      "text/plain": [
       "        Age      Fare  Avg_fare Age_grade_-99 Age_grade_0 Age_grade_1  \\\n",
       "0  0.338452 -0.500393 -0.468030             0           0           1   \n",
       "1  0.639077  0.734624  0.423818             0           0           1   \n",
       "2  0.413608 -0.487374 -0.348250             0           0           1   \n",
       "3  0.582710  0.383921  0.170563             0           0           1   \n",
       "4  0.582710 -0.484963 -0.344768             0           0           1   \n",
       "\n",
       "  Fare_grade_-99 Fare_grade_0 Fare_grade_1 Avg_fare_grade_-99  ... Married_1  \\\n",
       "0              0            1            0                  0  ...         1   \n",
       "1              0            0            1                  0  ...         0   \n",
       "2              0            1            0                  0  ...         0   \n",
       "3              0            0            1                  0  ...         0   \n",
       "4              0            1            0                  0  ...         1   \n",
       "\n",
       "  Married_2  factor1  factor2  factor3 cluster_distance1 cluster_distance2  \\\n",
       "0         0  608.693 -34.3367  36.2761          2.235061          3.298715   \n",
       "1         1   504.89  383.546 -19.7367          3.606441          4.790541   \n",
       "2         0  619.879 -48.0992  112.339          1.514064          3.207197   \n",
       "3         1  520.574  358.059 -2.46782          3.283241          4.601514   \n",
       "4         0  637.172 -132.997 -59.8616          2.147996          3.047859   \n",
       "\n",
       "  cluster_distance3 cluster_distance4 cluster_distance5  \n",
       "0          3.341570          6.956805          1.843403  \n",
       "1          1.867771          4.979978          4.161327  \n",
       "2          3.375684          6.678627          1.973702  \n",
       "3          1.881664          5.413554          3.846557  \n",
       "4          3.262673          6.771514          0.597968  \n",
       "\n",
       "[5 rows x 59 columns]"
      ]
     },
     "execution_count": 206,
     "metadata": {},
     "output_type": "execute_result"
    }
   ],
   "source": [
    "x.head()"
   ]
  },
  {
   "cell_type": "code",
   "execution_count": 207,
   "metadata": {},
   "outputs": [
    {
     "data": {
      "text/html": [
       "<div>\n",
       "<style scoped>\n",
       "    .dataframe tbody tr th:only-of-type {\n",
       "        vertical-align: middle;\n",
       "    }\n",
       "\n",
       "    .dataframe tbody tr th {\n",
       "        vertical-align: top;\n",
       "    }\n",
       "\n",
       "    .dataframe thead th {\n",
       "        text-align: right;\n",
       "    }\n",
       "</style>\n",
       "<table border=\"1\" class=\"dataframe\">\n",
       "  <thead>\n",
       "    <tr style=\"text-align: right;\">\n",
       "      <th></th>\n",
       "      <th>Age</th>\n",
       "      <th>Fare</th>\n",
       "      <th>Avg_fare</th>\n",
       "      <th>Age_grade_-99</th>\n",
       "      <th>Age_grade_0</th>\n",
       "      <th>Age_grade_1</th>\n",
       "      <th>Fare_grade_-99</th>\n",
       "      <th>Fare_grade_0</th>\n",
       "      <th>Fare_grade_1</th>\n",
       "      <th>Avg_fare_grade_-99</th>\n",
       "      <th>...</th>\n",
       "      <th>Married_1</th>\n",
       "      <th>Married_2</th>\n",
       "      <th>factor1</th>\n",
       "      <th>factor2</th>\n",
       "      <th>factor3</th>\n",
       "      <th>cluster_distance1</th>\n",
       "      <th>cluster_distance2</th>\n",
       "      <th>cluster_distance3</th>\n",
       "      <th>cluster_distance4</th>\n",
       "      <th>cluster_distance5</th>\n",
       "    </tr>\n",
       "  </thead>\n",
       "  <tbody>\n",
       "    <tr>\n",
       "      <th>1304</th>\n",
       "      <td>-1.935025</td>\n",
       "      <td>-0.484963</td>\n",
       "      <td>-0.344768</td>\n",
       "      <td>1</td>\n",
       "      <td>0</td>\n",
       "      <td>0</td>\n",
       "      <td>0</td>\n",
       "      <td>1</td>\n",
       "      <td>0</td>\n",
       "      <td>0</td>\n",
       "      <td>...</td>\n",
       "      <td>1</td>\n",
       "      <td>0</td>\n",
       "      <td>619.898</td>\n",
       "      <td>-163.771</td>\n",
       "      <td>-59.7121</td>\n",
       "      <td>3.383259</td>\n",
       "      <td>0.974911</td>\n",
       "      <td>4.325305</td>\n",
       "      <td>7.329340</td>\n",
       "      <td>2.880748</td>\n",
       "    </tr>\n",
       "    <tr>\n",
       "      <th>1305</th>\n",
       "      <td>0.657866</td>\n",
       "      <td>1.460142</td>\n",
       "      <td>2.464487</td>\n",
       "      <td>0</td>\n",
       "      <td>0</td>\n",
       "      <td>1</td>\n",
       "      <td>0</td>\n",
       "      <td>0</td>\n",
       "      <td>1</td>\n",
       "      <td>0</td>\n",
       "      <td>...</td>\n",
       "      <td>0</td>\n",
       "      <td>0</td>\n",
       "      <td>538.427</td>\n",
       "      <td>273.477</td>\n",
       "      <td>-99.7517</td>\n",
       "      <td>4.597454</td>\n",
       "      <td>5.387352</td>\n",
       "      <td>2.746338</td>\n",
       "      <td>3.127334</td>\n",
       "      <td>4.834417</td>\n",
       "    </tr>\n",
       "    <tr>\n",
       "      <th>1306</th>\n",
       "      <td>0.648472</td>\n",
       "      <td>-0.500393</td>\n",
       "      <td>-0.367053</td>\n",
       "      <td>0</td>\n",
       "      <td>0</td>\n",
       "      <td>1</td>\n",
       "      <td>0</td>\n",
       "      <td>1</td>\n",
       "      <td>0</td>\n",
       "      <td>0</td>\n",
       "      <td>...</td>\n",
       "      <td>1</td>\n",
       "      <td>0</td>\n",
       "      <td>637.172</td>\n",
       "      <td>-132.997</td>\n",
       "      <td>-59.8616</td>\n",
       "      <td>2.158418</td>\n",
       "      <td>3.103948</td>\n",
       "      <td>3.275632</td>\n",
       "      <td>6.795590</td>\n",
       "      <td>0.614585</td>\n",
       "    </tr>\n",
       "    <tr>\n",
       "      <th>1307</th>\n",
       "      <td>-1.935025</td>\n",
       "      <td>-0.484963</td>\n",
       "      <td>-0.344768</td>\n",
       "      <td>1</td>\n",
       "      <td>0</td>\n",
       "      <td>0</td>\n",
       "      <td>0</td>\n",
       "      <td>1</td>\n",
       "      <td>0</td>\n",
       "      <td>0</td>\n",
       "      <td>...</td>\n",
       "      <td>1</td>\n",
       "      <td>0</td>\n",
       "      <td>619.898</td>\n",
       "      <td>-163.771</td>\n",
       "      <td>-59.7121</td>\n",
       "      <td>3.383259</td>\n",
       "      <td>0.974911</td>\n",
       "      <td>4.325305</td>\n",
       "      <td>7.329340</td>\n",
       "      <td>2.880748</td>\n",
       "    </tr>\n",
       "    <tr>\n",
       "      <th>1308</th>\n",
       "      <td>-1.935025</td>\n",
       "      <td>-0.208997</td>\n",
       "      <td>-0.361405</td>\n",
       "      <td>1</td>\n",
       "      <td>0</td>\n",
       "      <td>0</td>\n",
       "      <td>0</td>\n",
       "      <td>1</td>\n",
       "      <td>0</td>\n",
       "      <td>0</td>\n",
       "      <td>...</td>\n",
       "      <td>0</td>\n",
       "      <td>0</td>\n",
       "      <td>546.187</td>\n",
       "      <td>0.987836</td>\n",
       "      <td>163.434</td>\n",
       "      <td>3.464297</td>\n",
       "      <td>2.633941</td>\n",
       "      <td>4.553727</td>\n",
       "      <td>7.273002</td>\n",
       "      <td>4.055209</td>\n",
       "    </tr>\n",
       "  </tbody>\n",
       "</table>\n",
       "<p>5 rows × 59 columns</p>\n",
       "</div>"
      ],
      "text/plain": [
       "           Age      Fare  Avg_fare Age_grade_-99 Age_grade_0 Age_grade_1  \\\n",
       "1304 -1.935025 -0.484963 -0.344768             1           0           0   \n",
       "1305  0.657866  1.460142  2.464487             0           0           1   \n",
       "1306  0.648472 -0.500393 -0.367053             0           0           1   \n",
       "1307 -1.935025 -0.484963 -0.344768             1           0           0   \n",
       "1308 -1.935025 -0.208997 -0.361405             1           0           0   \n",
       "\n",
       "     Fare_grade_-99 Fare_grade_0 Fare_grade_1 Avg_fare_grade_-99  ...  \\\n",
       "1304              0            1            0                  0  ...   \n",
       "1305              0            0            1                  0  ...   \n",
       "1306              0            1            0                  0  ...   \n",
       "1307              0            1            0                  0  ...   \n",
       "1308              0            1            0                  0  ...   \n",
       "\n",
       "     Married_1 Married_2  factor1   factor2  factor3 cluster_distance1  \\\n",
       "1304         1         0  619.898  -163.771 -59.7121          3.383259   \n",
       "1305         0         0  538.427   273.477 -99.7517          4.597454   \n",
       "1306         1         0  637.172  -132.997 -59.8616          2.158418   \n",
       "1307         1         0  619.898  -163.771 -59.7121          3.383259   \n",
       "1308         0         0  546.187  0.987836  163.434          3.464297   \n",
       "\n",
       "     cluster_distance2 cluster_distance3 cluster_distance4 cluster_distance5  \n",
       "1304          0.974911          4.325305          7.329340          2.880748  \n",
       "1305          5.387352          2.746338          3.127334          4.834417  \n",
       "1306          3.103948          3.275632          6.795590          0.614585  \n",
       "1307          0.974911          4.325305          7.329340          2.880748  \n",
       "1308          2.633941          4.553727          7.273002          4.055209  \n",
       "\n",
       "[5 rows x 59 columns]"
      ]
     },
     "execution_count": 207,
     "metadata": {},
     "output_type": "execute_result"
    }
   ],
   "source": [
    "x.tail()"
   ]
  },
  {
   "cell_type": "code",
   "execution_count": 208,
   "metadata": {},
   "outputs": [
    {
     "data": {
      "text/plain": [
       "(1309, 59)"
      ]
     },
     "execution_count": 208,
     "metadata": {},
     "output_type": "execute_result"
    }
   ],
   "source": [
    "x.shape"
   ]
  },
  {
   "cell_type": "code",
   "execution_count": 209,
   "metadata": {},
   "outputs": [],
   "source": [
    "for col in x.columns:\n",
    "    if x[col].dtype=='O':\n",
    "        x[col] = x[col].astype(int)"
   ]
  },
  {
   "cell_type": "code",
   "execution_count": 210,
   "metadata": {},
   "outputs": [],
   "source": [
    "temp_train = x[:len(train)]\n",
    "train = pd.concat([temp_train, train.Survived], axis=1)\n",
    "test = x[len(train):]"
   ]
  },
  {
   "cell_type": "code",
   "execution_count": 211,
   "metadata": {},
   "outputs": [
    {
     "name": "stdout",
     "output_type": "stream",
     "text": [
      "<class 'pandas.core.frame.DataFrame'>\n",
      "RangeIndex: 891 entries, 0 to 890\n",
      "Data columns (total 60 columns):\n",
      "Age                   891 non-null float64\n",
      "Fare                  891 non-null float64\n",
      "Avg_fare              891 non-null float64\n",
      "Age_grade_-99         891 non-null int32\n",
      "Age_grade_0           891 non-null int32\n",
      "Age_grade_1           891 non-null int32\n",
      "Fare_grade_-99        891 non-null int32\n",
      "Fare_grade_0          891 non-null int32\n",
      "Fare_grade_1          891 non-null int32\n",
      "Avg_fare_grade_-99    891 non-null int32\n",
      "Avg_fare_grade_0      891 non-null int32\n",
      "Avg_fare_grade_1      891 non-null int32\n",
      "Pclass_1              891 non-null int32\n",
      "Pclass_2              891 non-null int32\n",
      "Pclass_3              891 non-null int32\n",
      "Sex_0                 891 non-null int32\n",
      "Sex_1                 891 non-null int32\n",
      "SibSp_0               891 non-null int32\n",
      "SibSp_1               891 non-null int32\n",
      "SibSp_2               891 non-null int32\n",
      "SibSp_3               891 non-null int32\n",
      "SibSp_4               891 non-null int32\n",
      "SibSp_5               891 non-null int32\n",
      "SibSp_8               891 non-null int32\n",
      "Parch_0               891 non-null int32\n",
      "Parch_1               891 non-null int32\n",
      "Parch_2               891 non-null int32\n",
      "Parch_3               891 non-null int32\n",
      "Parch_4               891 non-null int32\n",
      "Parch_5               891 non-null int32\n",
      "Parch_6               891 non-null int32\n",
      "Parch_9               891 non-null int32\n",
      "Cabin_-99             891 non-null int32\n",
      "Cabin_0               891 non-null int32\n",
      "Cabin_1               891 non-null int32\n",
      "Cabin_2               891 non-null int32\n",
      "Embarked_0            891 non-null int32\n",
      "Embarked_1            891 non-null int32\n",
      "Embarked_2            891 non-null int32\n",
      "Total_people_1        891 non-null int32\n",
      "Total_people_11       891 non-null int32\n",
      "Total_people_2        891 non-null int32\n",
      "Total_people_3        891 non-null int32\n",
      "Total_people_4        891 non-null int32\n",
      "Total_people_5        891 non-null int32\n",
      "Total_people_6        891 non-null int32\n",
      "Total_people_7        891 non-null int32\n",
      "Total_people_8        891 non-null int32\n",
      "Married_0             891 non-null int32\n",
      "Married_1             891 non-null int32\n",
      "Married_2             891 non-null int32\n",
      "factor1               891 non-null int32\n",
      "factor2               891 non-null int32\n",
      "factor3               891 non-null int32\n",
      "cluster_distance1     891 non-null float64\n",
      "cluster_distance2     891 non-null float64\n",
      "cluster_distance3     891 non-null float64\n",
      "cluster_distance4     891 non-null float64\n",
      "cluster_distance5     891 non-null float64\n",
      "Survived              891 non-null int64\n",
      "dtypes: float64(8), int32(51), int64(1)\n",
      "memory usage: 240.2 KB\n"
     ]
    }
   ],
   "source": [
    "train.info()"
   ]
  },
  {
   "cell_type": "code",
   "execution_count": 212,
   "metadata": {},
   "outputs": [
    {
     "name": "stdout",
     "output_type": "stream",
     "text": [
      "<class 'pandas.core.frame.DataFrame'>\n",
      "RangeIndex: 418 entries, 891 to 1308\n",
      "Data columns (total 59 columns):\n",
      "Age                   418 non-null float64\n",
      "Fare                  418 non-null float64\n",
      "Avg_fare              418 non-null float64\n",
      "Age_grade_-99         418 non-null int32\n",
      "Age_grade_0           418 non-null int32\n",
      "Age_grade_1           418 non-null int32\n",
      "Fare_grade_-99        418 non-null int32\n",
      "Fare_grade_0          418 non-null int32\n",
      "Fare_grade_1          418 non-null int32\n",
      "Avg_fare_grade_-99    418 non-null int32\n",
      "Avg_fare_grade_0      418 non-null int32\n",
      "Avg_fare_grade_1      418 non-null int32\n",
      "Pclass_1              418 non-null int32\n",
      "Pclass_2              418 non-null int32\n",
      "Pclass_3              418 non-null int32\n",
      "Sex_0                 418 non-null int32\n",
      "Sex_1                 418 non-null int32\n",
      "SibSp_0               418 non-null int32\n",
      "SibSp_1               418 non-null int32\n",
      "SibSp_2               418 non-null int32\n",
      "SibSp_3               418 non-null int32\n",
      "SibSp_4               418 non-null int32\n",
      "SibSp_5               418 non-null int32\n",
      "SibSp_8               418 non-null int32\n",
      "Parch_0               418 non-null int32\n",
      "Parch_1               418 non-null int32\n",
      "Parch_2               418 non-null int32\n",
      "Parch_3               418 non-null int32\n",
      "Parch_4               418 non-null int32\n",
      "Parch_5               418 non-null int32\n",
      "Parch_6               418 non-null int32\n",
      "Parch_9               418 non-null int32\n",
      "Cabin_-99             418 non-null int32\n",
      "Cabin_0               418 non-null int32\n",
      "Cabin_1               418 non-null int32\n",
      "Cabin_2               418 non-null int32\n",
      "Embarked_0            418 non-null int32\n",
      "Embarked_1            418 non-null int32\n",
      "Embarked_2            418 non-null int32\n",
      "Total_people_1        418 non-null int32\n",
      "Total_people_11       418 non-null int32\n",
      "Total_people_2        418 non-null int32\n",
      "Total_people_3        418 non-null int32\n",
      "Total_people_4        418 non-null int32\n",
      "Total_people_5        418 non-null int32\n",
      "Total_people_6        418 non-null int32\n",
      "Total_people_7        418 non-null int32\n",
      "Total_people_8        418 non-null int32\n",
      "Married_0             418 non-null int32\n",
      "Married_1             418 non-null int32\n",
      "Married_2             418 non-null int32\n",
      "factor1               418 non-null int32\n",
      "factor2               418 non-null int32\n",
      "factor3               418 non-null int32\n",
      "cluster_distance1     418 non-null float64\n",
      "cluster_distance2     418 non-null float64\n",
      "cluster_distance3     418 non-null float64\n",
      "cluster_distance4     418 non-null float64\n",
      "cluster_distance5     418 non-null float64\n",
      "dtypes: float64(8), int32(51)\n",
      "memory usage: 109.5 KB\n"
     ]
    }
   ],
   "source": [
    "test.info()"
   ]
  },
  {
   "cell_type": "code",
   "execution_count": 213,
   "metadata": {},
   "outputs": [
    {
     "data": {
      "text/html": [
       "<div>\n",
       "<style scoped>\n",
       "    .dataframe tbody tr th:only-of-type {\n",
       "        vertical-align: middle;\n",
       "    }\n",
       "\n",
       "    .dataframe tbody tr th {\n",
       "        vertical-align: top;\n",
       "    }\n",
       "\n",
       "    .dataframe thead th {\n",
       "        text-align: right;\n",
       "    }\n",
       "</style>\n",
       "<table border=\"1\" class=\"dataframe\">\n",
       "  <thead>\n",
       "    <tr style=\"text-align: right;\">\n",
       "      <th></th>\n",
       "      <th>Age</th>\n",
       "      <th>Fare</th>\n",
       "      <th>Avg_fare</th>\n",
       "      <th>Age_grade_-99</th>\n",
       "      <th>Age_grade_0</th>\n",
       "      <th>Age_grade_1</th>\n",
       "      <th>Fare_grade_-99</th>\n",
       "      <th>Fare_grade_0</th>\n",
       "      <th>Fare_grade_1</th>\n",
       "      <th>Avg_fare_grade_-99</th>\n",
       "      <th>...</th>\n",
       "      <th>Married_2</th>\n",
       "      <th>factor1</th>\n",
       "      <th>factor2</th>\n",
       "      <th>factor3</th>\n",
       "      <th>cluster_distance1</th>\n",
       "      <th>cluster_distance2</th>\n",
       "      <th>cluster_distance3</th>\n",
       "      <th>cluster_distance4</th>\n",
       "      <th>cluster_distance5</th>\n",
       "      <th>Survived</th>\n",
       "    </tr>\n",
       "  </thead>\n",
       "  <tbody>\n",
       "    <tr>\n",
       "      <th>886</th>\n",
       "      <td>0.432397</td>\n",
       "      <td>-0.389492</td>\n",
       "      <td>-0.206882</td>\n",
       "      <td>0</td>\n",
       "      <td>0</td>\n",
       "      <td>1</td>\n",
       "      <td>0</td>\n",
       "      <td>1</td>\n",
       "      <td>0</td>\n",
       "      <td>0</td>\n",
       "      <td>...</td>\n",
       "      <td>0</td>\n",
       "      <td>619</td>\n",
       "      <td>-68</td>\n",
       "      <td>13</td>\n",
       "      <td>1.955458</td>\n",
       "      <td>3.312278</td>\n",
       "      <td>3.269804</td>\n",
       "      <td>6.589031</td>\n",
       "      <td>1.615732</td>\n",
       "      <td>0</td>\n",
       "    </tr>\n",
       "    <tr>\n",
       "      <th>887</th>\n",
       "      <td>0.282085</td>\n",
       "      <td>-0.061611</td>\n",
       "      <td>0.266666</td>\n",
       "      <td>0</td>\n",
       "      <td>0</td>\n",
       "      <td>1</td>\n",
       "      <td>0</td>\n",
       "      <td>1</td>\n",
       "      <td>0</td>\n",
       "      <td>0</td>\n",
       "      <td>...</td>\n",
       "      <td>0</td>\n",
       "      <td>574</td>\n",
       "      <td>177</td>\n",
       "      <td>-51</td>\n",
       "      <td>2.726674</td>\n",
       "      <td>3.829669</td>\n",
       "      <td>2.203855</td>\n",
       "      <td>5.662396</td>\n",
       "      <td>3.039603</td>\n",
       "      <td>1</td>\n",
       "    </tr>\n",
       "    <tr>\n",
       "      <th>888</th>\n",
       "      <td>-1.935025</td>\n",
       "      <td>-0.187942</td>\n",
       "      <td>-0.405703</td>\n",
       "      <td>1</td>\n",
       "      <td>0</td>\n",
       "      <td>0</td>\n",
       "      <td>0</td>\n",
       "      <td>1</td>\n",
       "      <td>0</td>\n",
       "      <td>0</td>\n",
       "      <td>...</td>\n",
       "      <td>0</td>\n",
       "      <td>548</td>\n",
       "      <td>16</td>\n",
       "      <td>251</td>\n",
       "      <td>3.203951</td>\n",
       "      <td>2.700896</td>\n",
       "      <td>4.607199</td>\n",
       "      <td>7.276801</td>\n",
       "      <td>4.121922</td>\n",
       "      <td>0</td>\n",
       "    </tr>\n",
       "    <tr>\n",
       "      <th>889</th>\n",
       "      <td>0.413608</td>\n",
       "      <td>-0.061611</td>\n",
       "      <td>0.266666</td>\n",
       "      <td>0</td>\n",
       "      <td>0</td>\n",
       "      <td>1</td>\n",
       "      <td>0</td>\n",
       "      <td>1</td>\n",
       "      <td>0</td>\n",
       "      <td>0</td>\n",
       "      <td>...</td>\n",
       "      <td>0</td>\n",
       "      <td>576</td>\n",
       "      <td>117</td>\n",
       "      <td>-241</td>\n",
       "      <td>3.319028</td>\n",
       "      <td>3.746153</td>\n",
       "      <td>2.062074</td>\n",
       "      <td>5.733610</td>\n",
       "      <td>2.682094</td>\n",
       "      <td>1</td>\n",
       "    </tr>\n",
       "    <tr>\n",
       "      <th>890</th>\n",
       "      <td>0.526343</td>\n",
       "      <td>-0.490749</td>\n",
       "      <td>-0.353125</td>\n",
       "      <td>0</td>\n",
       "      <td>0</td>\n",
       "      <td>1</td>\n",
       "      <td>0</td>\n",
       "      <td>1</td>\n",
       "      <td>0</td>\n",
       "      <td>0</td>\n",
       "      <td>...</td>\n",
       "      <td>0</td>\n",
       "      <td>618</td>\n",
       "      <td>-133</td>\n",
       "      <td>-62</td>\n",
       "      <td>2.449900</td>\n",
       "      <td>3.072309</td>\n",
       "      <td>3.423299</td>\n",
       "      <td>6.836871</td>\n",
       "      <td>1.410403</td>\n",
       "      <td>0</td>\n",
       "    </tr>\n",
       "  </tbody>\n",
       "</table>\n",
       "<p>5 rows × 60 columns</p>\n",
       "</div>"
      ],
      "text/plain": [
       "          Age      Fare  Avg_fare  Age_grade_-99  Age_grade_0  Age_grade_1  \\\n",
       "886  0.432397 -0.389492 -0.206882              0            0            1   \n",
       "887  0.282085 -0.061611  0.266666              0            0            1   \n",
       "888 -1.935025 -0.187942 -0.405703              1            0            0   \n",
       "889  0.413608 -0.061611  0.266666              0            0            1   \n",
       "890  0.526343 -0.490749 -0.353125              0            0            1   \n",
       "\n",
       "     Fare_grade_-99  Fare_grade_0  Fare_grade_1  Avg_fare_grade_-99  ...  \\\n",
       "886               0             1             0                   0  ...   \n",
       "887               0             1             0                   0  ...   \n",
       "888               0             1             0                   0  ...   \n",
       "889               0             1             0                   0  ...   \n",
       "890               0             1             0                   0  ...   \n",
       "\n",
       "     Married_2  factor1  factor2  factor3  cluster_distance1  \\\n",
       "886          0      619      -68       13           1.955458   \n",
       "887          0      574      177      -51           2.726674   \n",
       "888          0      548       16      251           3.203951   \n",
       "889          0      576      117     -241           3.319028   \n",
       "890          0      618     -133      -62           2.449900   \n",
       "\n",
       "     cluster_distance2  cluster_distance3  cluster_distance4  \\\n",
       "886           3.312278           3.269804           6.589031   \n",
       "887           3.829669           2.203855           5.662396   \n",
       "888           2.700896           4.607199           7.276801   \n",
       "889           3.746153           2.062074           5.733610   \n",
       "890           3.072309           3.423299           6.836871   \n",
       "\n",
       "     cluster_distance5  Survived  \n",
       "886           1.615732         0  \n",
       "887           3.039603         1  \n",
       "888           4.121922         0  \n",
       "889           2.682094         1  \n",
       "890           1.410403         0  \n",
       "\n",
       "[5 rows x 60 columns]"
      ]
     },
     "execution_count": 213,
     "metadata": {},
     "output_type": "execute_result"
    }
   ],
   "source": [
    "train.tail()"
   ]
  },
  {
   "cell_type": "markdown",
   "metadata": {},
   "source": [
    " "
   ]
  },
  {
   "cell_type": "markdown",
   "metadata": {},
   "source": [
    " "
   ]
  },
  {
   "cell_type": "markdown",
   "metadata": {},
   "source": [
    " "
   ]
  },
  {
   "cell_type": "markdown",
   "metadata": {},
   "source": [
    "# ■ Prediction"
   ]
  },
  {
   "cell_type": "markdown",
   "metadata": {},
   "source": [
    " "
   ]
  },
  {
   "cell_type": "code",
   "execution_count": 214,
   "metadata": {},
   "outputs": [],
   "source": [
    "def make_datasets_for_prediction(df_train):\n",
    "    df_train_x = df_train.iloc[:, :len(df_train.columns)-1]\n",
    "    df_train_y = df_train.iloc[:, len(df_train.columns)-1:]\n",
    "    \n",
    "    df_train_train_x, df_train_eval_x, df_train_train_y, df_train_eval_y = train_test_split(df_train_x, df_train_y, test_size=.15, shuffle=True, random_state=0)\n",
    "    \n",
    "    kfold = StratifiedKFold(n_splits=5, shuffle=True, random_state=0)\n",
    "    \n",
    "    df_eval_fold_data = [(df_train_eval_x.iloc[train_idx], df_train_eval_y.iloc[train_idx]) for train_idx, _ in kfold.split(df_train_eval_x, df_train_eval_y)]\n",
    "    \n",
    "    return df_train_train_x, df_train_eval_x, df_train_train_y, df_train_eval_y, df_eval_fold_data"
   ]
  },
  {
   "cell_type": "code",
   "execution_count": 215,
   "metadata": {},
   "outputs": [],
   "source": [
    "def find_optimal_estimators(df_train_train_x_, df_train_train_y_):\n",
    "    \n",
    "    knn_ = KNeighborsClassifier(algorithm='auto', n_jobs=-1)\n",
    "    mlp_ = MLPClassifier(solver='lbfgs', verbose=0, shuffle=True, random_state=0)\n",
    "    ksvc_ = SVC(random_state=0, verbose=0)\n",
    "    logit_ = LogisticRegression(random_state=0, verbose=0, n_jobs=-1)\n",
    "    rf_ = RandomForestClassifier(random_state=0, verbose=0, n_jobs=-1)\n",
    "    gb_ = GradientBoostingClassifier(random_state=0, verbose=0)\n",
    "    gp_ = GaussianProcessClassifier(random_state=0, n_jobs=-1)\n",
    "\n",
    "    estimators_ = [('knn', knn_), ('mlp', mlp_), ('ksvc', ksvc_), ('logit', logit_), ('rf', rf_), ('gb', gb_), ('gp', gp_)]\n",
    "\n",
    "    param_grid_ = [{\n",
    "        'n_neighbors':[2, 3, 4, 5, 6, 7, 8, 9, 10],\n",
    "        'weights':['uniform', 'distance'],\n",
    "        'leaf_size':[15, 30, 50, 80, 100, 500],\n",
    "        'p':[1, 2, 3]\n",
    "    },{\n",
    "        'activation':['logistic', 'relu'],\n",
    "        'alpha':[10, 1, .1, .01, .001, .0001],\n",
    "        'max_iter':[200, 1000, 10000]\n",
    "    },{\n",
    "        'kernel':['rbf', 'poly', 'linear', 'sigmoid'],\n",
    "        'degree':[1, 2, 3, 4, 5],\n",
    "        'coef0':[0, .001, .01, .1, 1],\n",
    "        'C':[100, 10, 1, .1, .01, .001],\n",
    "        'gamma':[100, 10, 1, .1, .01, .001],\n",
    "        'max_iter':[100, 500, 1000, 5000, 10000, 50000, 100000]\n",
    "    },{\n",
    "        'C':[100, 10, 1, .1, .01, .001],\n",
    "        'max_iter':[100, 500, 1000, 5000, 10000, 50000, 100000],\n",
    "    },{\n",
    "        'n_estimators':[100, 1000, 10000, 50000],\n",
    "        'max_features':[1, 'auto', 'log2'],\n",
    "        'max_depth':[3, 5, 7, 9]\n",
    "    },{\n",
    "        'loss':['deviance', 'exponential'],\n",
    "        'learning_rate':[1, .1, .01, .001],\n",
    "        'n_estimators':[100, 1000, 10000],\n",
    "        'max_depth':[3, 4, 5, 6]\n",
    "    },{\n",
    "        'n_restarts_optimizer':[0, 1, 2, 3, 4, 5],\n",
    "        'max_iter_predict':[100, 1000, 10000, 50000]\n",
    "    }]\n",
    "\n",
    "    kfold = StratifiedKFold(n_splits=10, shuffle=True, random_state=0)\n",
    "\n",
    "    for model_tup, param in zip(estimators_, param_grid_):\n",
    "        grid = GridSearchCV(model_tup[1], param, cv=kfold, scoring=['roc_auc', 'average_precision'],\n",
    "                            refit='roc_auc', verbose=0, n_jobs=-1)\n",
    "        %time grid.fit(df_train_train_x_, df_train_train_y_)\n",
    "        best_params = grid.best_params_\n",
    "        model_tup[1].set_params(**best_params)\n",
    "        print('{} - search done'.format(model_tup[0]))\n",
    "        print('-- best params : ', best_params)\n",
    "        print('-------------------------------------------------------------------------------------')\n",
    "\n",
    "    gnb_ = GaussianNB()\n",
    "    estimators_.append(('gnb', gnb_))\n",
    "    \n",
    "    return estimators_"
   ]
  },
  {
   "cell_type": "markdown",
   "metadata": {},
   "source": [
    " "
   ]
  },
  {
   "cell_type": "markdown",
   "metadata": {},
   "source": [
    "- ### **Data Set 분할**"
   ]
  },
  {
   "cell_type": "code",
   "execution_count": 216,
   "metadata": {},
   "outputs": [],
   "source": [
    "train_train_x, train_eval_x, train_train_y, train_eval_y, eval_fold_data = make_datasets_for_prediction(train)"
   ]
  },
  {
   "cell_type": "markdown",
   "metadata": {},
   "source": [
    " "
   ]
  },
  {
   "cell_type": "markdown",
   "metadata": {},
   "source": [
    "- ### **Voting에 사용할 Estimators들의 최적 Parameter Grid Search**"
   ]
  },
  {
   "cell_type": "code",
   "execution_count": 217,
   "metadata": {},
   "outputs": [
    {
     "name": "stdout",
     "output_type": "stream",
     "text": [
      "Wall time: 2min 11s\n",
      "knn - search done\n",
      "-- best params :  {'leaf_size': 500, 'n_neighbors': 10, 'p': 1, 'weights': 'uniform'}\n",
      "-------------------------------------------------------------------------------------\n",
      "Wall time: 10min 6s\n",
      "mlp - search done\n",
      "-- best params :  {'activation': 'relu', 'alpha': 0.1, 'max_iter': 1000}\n",
      "-------------------------------------------------------------------------------------\n",
      "Wall time: 56min 13s\n",
      "ksvc - search done\n",
      "-- best params :  {'C': 0.1, 'coef0': 0.1, 'degree': 2, 'gamma': 0.001, 'kernel': 'poly', 'max_iter': 100000}\n",
      "-------------------------------------------------------------------------------------\n",
      "Wall time: 1.12 s\n",
      "logit - search done\n",
      "-- best params :  {'C': 1, 'max_iter': 100}\n",
      "-------------------------------------------------------------------------------------\n",
      "Wall time: 35min 25s\n",
      "rf - search done\n",
      "-- best params :  {'max_depth': 7, 'max_features': 'auto', 'n_estimators': 1000}\n",
      "-------------------------------------------------------------------------------------\n",
      "Wall time: 15min 39s\n",
      "gb - search done\n",
      "-- best params :  {'learning_rate': 0.01, 'loss': 'deviance', 'max_depth': 3, 'n_estimators': 1000}\n",
      "-------------------------------------------------------------------------------------\n",
      "Wall time: 1h 7min 24s\n",
      "gp - search done\n",
      "-- best params :  {'max_iter_predict': 100, 'n_restarts_optimizer': 0}\n",
      "-------------------------------------------------------------------------------------\n"
     ]
    }
   ],
   "source": [
    "estimators = find_optimal_estimators(train_train_x, train_train_y)"
   ]
  },
  {
   "cell_type": "markdown",
   "metadata": {},
   "source": [
    " "
   ]
  },
  {
   "cell_type": "markdown",
   "metadata": {},
   "source": [
    " "
   ]
  },
  {
   "cell_type": "markdown",
   "metadata": {},
   "source": [
    "===================================================================================================================================================================================================="
   ]
  },
  {
   "cell_type": "markdown",
   "metadata": {},
   "source": [
    "- ### **Feature_selection이 필요할 때의 진행(RFE, 재귀적 특징 제거법)**"
   ]
  },
  {
   "cell_type": "code",
   "execution_count": 228,
   "metadata": {},
   "outputs": [
    {
     "name": "stdout",
     "output_type": "stream",
     "text": [
      "Wall time: 1.38 s\n",
      "logit done\n",
      "------------------------------------------------------------------------\n",
      "Wall time: 2min 42s\n",
      "rf done\n",
      "------------------------------------------------------------------------\n",
      "Wall time: 1min 54s\n",
      "gb done\n",
      "------------------------------------------------------------------------\n"
     ]
    }
   ],
   "source": [
    "feature_importances = defaultdict(dict)\n",
    "\n",
    "for name, estimator in estimators:\n",
    "    \n",
    "    estimator.fit(train_train_x, train_train_y)\n",
    "    \n",
    "    if hasattr(estimator, 'coef_') or hasattr(estimator, 'feature_importances_'):\n",
    "        \n",
    "        kfold = StratifiedKFold(n_splits=10, shuffle=True, random_state=0)\n",
    "        \n",
    "        # can't got multiple scores\n",
    "        rfecv = RFECV(estimator=estimator, cv=kfold, scoring='roc_auc', verbose=0, n_jobs=-1)\n",
    "        \n",
    "        %time rfecv.fit(train_train_x, train_train_y)\n",
    "        \n",
    "        feature_importances[name]['n_features'] = rfecv.n_features_\n",
    "        feature_importances[name]['mask_selected_features'] = rfecv.support_\n",
    "        feature_importances[name]['rank_features'] = rfecv.ranking_\n",
    "        feature_importances[name]['grid_scores'] = rfecv.grid_scores_\n",
    "        \n",
    "        print('{} done'.format(name))\n",
    "        print('------------------------------------------------------------------------')\n",
    "    else:\n",
    "        continue"
   ]
  },
  {
   "cell_type": "code",
   "execution_count": 229,
   "metadata": {},
   "outputs": [],
   "source": [
    "selected_feature_mask = pd.DataFrame()\n",
    "\n",
    "for est_name in feature_importances:\n",
    "    selected_feature_mask[est_name] = feature_importances[est_name]['mask_selected_features']"
   ]
  },
  {
   "cell_type": "code",
   "execution_count": 230,
   "metadata": {},
   "outputs": [
    {
     "data": {
      "text/html": [
       "<div>\n",
       "<style scoped>\n",
       "    .dataframe tbody tr th:only-of-type {\n",
       "        vertical-align: middle;\n",
       "    }\n",
       "\n",
       "    .dataframe tbody tr th {\n",
       "        vertical-align: top;\n",
       "    }\n",
       "\n",
       "    .dataframe thead th {\n",
       "        text-align: right;\n",
       "    }\n",
       "</style>\n",
       "<table border=\"1\" class=\"dataframe\">\n",
       "  <thead>\n",
       "    <tr style=\"text-align: right;\">\n",
       "      <th></th>\n",
       "      <th>logit</th>\n",
       "      <th>rf</th>\n",
       "      <th>gb</th>\n",
       "    </tr>\n",
       "  </thead>\n",
       "  <tbody>\n",
       "    <tr>\n",
       "      <th>0</th>\n",
       "      <td>True</td>\n",
       "      <td>True</td>\n",
       "      <td>True</td>\n",
       "    </tr>\n",
       "    <tr>\n",
       "      <th>1</th>\n",
       "      <td>True</td>\n",
       "      <td>True</td>\n",
       "      <td>True</td>\n",
       "    </tr>\n",
       "    <tr>\n",
       "      <th>2</th>\n",
       "      <td>False</td>\n",
       "      <td>True</td>\n",
       "      <td>True</td>\n",
       "    </tr>\n",
       "    <tr>\n",
       "      <th>3</th>\n",
       "      <td>True</td>\n",
       "      <td>True</td>\n",
       "      <td>False</td>\n",
       "    </tr>\n",
       "    <tr>\n",
       "      <th>4</th>\n",
       "      <td>True</td>\n",
       "      <td>True</td>\n",
       "      <td>True</td>\n",
       "    </tr>\n",
       "  </tbody>\n",
       "</table>\n",
       "</div>"
      ],
      "text/plain": [
       "   logit    rf     gb\n",
       "0   True  True   True\n",
       "1   True  True   True\n",
       "2  False  True   True\n",
       "3   True  True  False\n",
       "4   True  True   True"
      ]
     },
     "execution_count": 230,
     "metadata": {},
     "output_type": "execute_result"
    }
   ],
   "source": [
    "selected_feature_mask.head()"
   ]
  },
  {
   "cell_type": "code",
   "execution_count": 249,
   "metadata": {},
   "outputs": [],
   "source": [
    "# final_selected_mask_no_2True = []\n",
    "\n",
    "# for idx in range(len(selected_feature_mask)):\n",
    "#     if len([True for col in selected_feature_mask.columns if selected_feature_mask[col][idx] == True]) >= 2:\n",
    "#         final_selected_mask_no_2True.append(1)\n",
    "#     else:\n",
    "#         final_selected_mask_no_2True.append(0)\n",
    "\n",
    "# selected_feature_mask['final_selected_mask'] = selected_feature_mask[selected_feature_mask.columns[0]]\\\n",
    "#                                                 & selected_feature_mask[selected_feature_mask.columns[1]]\\\n",
    "#                                                     & selected_feature_mask[selected_feature_mask.columns[2]]\n",
    "\n",
    "# selected_feature_mask['final_selected_mask_no'] = selected_feature_mask['final_selected_mask'].factorize()[0]"
   ]
  },
  {
   "cell_type": "code",
   "execution_count": 250,
   "metadata": {},
   "outputs": [
    {
     "data": {
      "text/plain": [
       "21"
      ]
     },
     "execution_count": 250,
     "metadata": {},
     "output_type": "execute_result"
    }
   ],
   "source": [
    "# selected_feature_index = [idx for idx, value in enumerate(final_selected_mask_no_2True) if value == 1]\n",
    "# selected_feature_index = [idx for idx, mask in enumerate(selected_feature_mask.final_selected_mask_no) if mask==0]\n",
    "\n",
    "# len(selected_feature_index)"
   ]
  },
  {
   "cell_type": "markdown",
   "metadata": {},
   "source": [
    " "
   ]
  },
  {
   "cell_type": "markdown",
   "metadata": {},
   "source": [
    "- ### **Data Set 재분할**"
   ]
  },
  {
   "cell_type": "code",
   "execution_count": 251,
   "metadata": {},
   "outputs": [],
   "source": [
    "train.to_csv('./data/train_FE.csv')\n",
    "test.to_csv('./data/test_FE.csv')"
   ]
  },
  {
   "cell_type": "code",
   "execution_count": 252,
   "metadata": {},
   "outputs": [],
   "source": [
    "# train = pd.read_csv('./data/train_FE.csv')\n",
    "# test = pd.read_csv('./data/test_FE.csv')"
   ]
  },
  {
   "cell_type": "code",
   "execution_count": 253,
   "metadata": {},
   "outputs": [
    {
     "name": "stdout",
     "output_type": "stream",
     "text": [
      "<class 'pandas.core.frame.DataFrame'>\n",
      "RangeIndex: 891 entries, 0 to 890\n",
      "Data columns (total 61 columns):\n",
      "Unnamed: 0            891 non-null int64\n",
      "Age                   891 non-null float64\n",
      "Fare                  891 non-null float64\n",
      "Avg_fare              891 non-null float64\n",
      "Age_grade_-99         891 non-null int64\n",
      "Age_grade_0           891 non-null int64\n",
      "Age_grade_1           891 non-null int64\n",
      "Fare_grade_-99        891 non-null int64\n",
      "Fare_grade_0          891 non-null int64\n",
      "Fare_grade_1          891 non-null int64\n",
      "Avg_fare_grade_-99    891 non-null int64\n",
      "Avg_fare_grade_0      891 non-null int64\n",
      "Avg_fare_grade_1      891 non-null int64\n",
      "Pclass_1              891 non-null int64\n",
      "Pclass_2              891 non-null int64\n",
      "Pclass_3              891 non-null int64\n",
      "Sex_0                 891 non-null int64\n",
      "Sex_1                 891 non-null int64\n",
      "SibSp_0               891 non-null int64\n",
      "SibSp_1               891 non-null int64\n",
      "SibSp_2               891 non-null int64\n",
      "SibSp_3               891 non-null int64\n",
      "SibSp_4               891 non-null int64\n",
      "SibSp_5               891 non-null int64\n",
      "SibSp_8               891 non-null int64\n",
      "Parch_0               891 non-null int64\n",
      "Parch_1               891 non-null int64\n",
      "Parch_2               891 non-null int64\n",
      "Parch_3               891 non-null int64\n",
      "Parch_4               891 non-null int64\n",
      "Parch_5               891 non-null int64\n",
      "Parch_6               891 non-null int64\n",
      "Parch_9               891 non-null int64\n",
      "Cabin_-99             891 non-null int64\n",
      "Cabin_0               891 non-null int64\n",
      "Cabin_1               891 non-null int64\n",
      "Cabin_2               891 non-null int64\n",
      "Embarked_0            891 non-null int64\n",
      "Embarked_1            891 non-null int64\n",
      "Embarked_2            891 non-null int64\n",
      "Total_people_1        891 non-null int64\n",
      "Total_people_11       891 non-null int64\n",
      "Total_people_2        891 non-null int64\n",
      "Total_people_3        891 non-null int64\n",
      "Total_people_4        891 non-null int64\n",
      "Total_people_5        891 non-null int64\n",
      "Total_people_6        891 non-null int64\n",
      "Total_people_7        891 non-null int64\n",
      "Total_people_8        891 non-null int64\n",
      "Married_0             891 non-null int64\n",
      "Married_1             891 non-null int64\n",
      "Married_2             891 non-null int64\n",
      "factor1               891 non-null int64\n",
      "factor2               891 non-null int64\n",
      "factor3               891 non-null int64\n",
      "cluster_distance1     891 non-null float64\n",
      "cluster_distance2     891 non-null float64\n",
      "cluster_distance3     891 non-null float64\n",
      "cluster_distance4     891 non-null float64\n",
      "cluster_distance5     891 non-null float64\n",
      "Survived              891 non-null int64\n",
      "dtypes: float64(8), int64(53)\n",
      "memory usage: 424.7 KB\n"
     ]
    }
   ],
   "source": [
    "# train.info()"
   ]
  },
  {
   "cell_type": "code",
   "execution_count": 254,
   "metadata": {},
   "outputs": [],
   "source": [
    "# train = train.iloc[:, 1:]\n",
    "# test = test.iloc[:, 1:]"
   ]
  },
  {
   "cell_type": "code",
   "execution_count": 255,
   "metadata": {},
   "outputs": [],
   "source": [
    "# test = test.iloc[:, selected_feature_index]\n",
    "\n",
    "# selected_feature_index.append(len(train.columns)-1)\n",
    "# train = train.iloc[:, selected_feature_index]"
   ]
  },
  {
   "cell_type": "code",
   "execution_count": 256,
   "metadata": {},
   "outputs": [],
   "source": [
    "# train_train_x, train_eval_x, train_train_y, train_eval_y, eval_fold_data = make_datasets_for_prediction(train)"
   ]
  },
  {
   "cell_type": "markdown",
   "metadata": {},
   "source": [
    " "
   ]
  },
  {
   "cell_type": "markdown",
   "metadata": {},
   "source": [
    "===================================================================================================================================================================================================="
   ]
  },
  {
   "cell_type": "markdown",
   "metadata": {},
   "source": [
    " "
   ]
  },
  {
   "cell_type": "markdown",
   "metadata": {},
   "source": [
    " "
   ]
  },
  {
   "cell_type": "markdown",
   "metadata": {},
   "source": [
    "- ### **Voting Classifier Training, Prediction**"
   ]
  },
  {
   "cell_type": "code",
   "execution_count": 228,
   "metadata": {},
   "outputs": [
    {
     "name": "stdout",
     "output_type": "stream",
     "text": [
      "Wall time: 1.98 s\n"
     ]
    },
    {
     "data": {
      "text/plain": [
       "VotingClassifier(estimators=[('knn', KNeighborsClassifier(algorithm='auto', leaf_size=500, metric='minkowski',\n",
       "           metric_params=None, n_jobs=-1, n_neighbors=10, p=1,\n",
       "           weights='uniform')), ('mlp', MLPClassifier(activation='relu', alpha=0.1, batch_size='auto', beta_1=0.9,\n",
       "       beta_2=0.999, early_s...          random_state=0, warm_start=False)), ('gnb', GaussianNB(priors=None, var_smoothing=1e-09))],\n",
       "         flatten_transform=None, n_jobs=-1, voting='hard', weights=None)"
      ]
     },
     "execution_count": 228,
     "metadata": {},
     "output_type": "execute_result"
    }
   ],
   "source": [
    "voter = VotingClassifier(estimators=estimators, voting='hard', n_jobs=-1)\n",
    "\n",
    "%time voter.fit(train_train_x, train_train_y)"
   ]
  },
  {
   "cell_type": "code",
   "execution_count": 229,
   "metadata": {},
   "outputs": [
    {
     "data": {
      "text/plain": [
       "0.8784676354029062"
      ]
     },
     "execution_count": 229,
     "metadata": {},
     "output_type": "execute_result"
    }
   ],
   "source": [
    "voter.score(train_train_x, train_train_y)"
   ]
  },
  {
   "cell_type": "code",
   "execution_count": 230,
   "metadata": {},
   "outputs": [
    {
     "data": {
      "text/plain": [
       "0.8059701492537313"
      ]
     },
     "execution_count": 230,
     "metadata": {},
     "output_type": "execute_result"
    }
   ],
   "source": [
    "voter.score(train_eval_x, train_eval_y)"
   ]
  },
  {
   "cell_type": "code",
   "execution_count": 231,
   "metadata": {},
   "outputs": [],
   "source": [
    "result = voter.predict(test.values)"
   ]
  },
  {
   "cell_type": "markdown",
   "metadata": {},
   "source": [
    " "
   ]
  },
  {
   "cell_type": "markdown",
   "metadata": {},
   "source": [
    " "
   ]
  },
  {
   "cell_type": "markdown",
   "metadata": {},
   "source": [
    " "
   ]
  },
  {
   "cell_type": "markdown",
   "metadata": {},
   "source": [
    "===================================================================================================================================================================================================="
   ]
  },
  {
   "cell_type": "markdown",
   "metadata": {},
   "source": [
    "- #### ***Voting 전략으로 'soft'를 선택했을 때의 Prediction - 예측의 불확실성을 반영한 방법***"
   ]
  },
  {
   "cell_type": "code",
   "execution_count": null,
   "metadata": {},
   "outputs": [],
   "source": [
    "precisions, recalls, thresholds_precision = precision_recall_curve(train_eval_y, voter.predict_proba(train_eval_x)[:, 1])\n",
    "close_defualt_precision = np.argmin(np.abs(thresholds_precision - .5))"
   ]
  },
  {
   "cell_type": "code",
   "execution_count": null,
   "metadata": {},
   "outputs": [],
   "source": [
    "fprs, tprs, thresholds_roc = roc_curve(train_eval_y, voter.predict_proba(train_eval_x)[:, 1])\n",
    "close_defualt_roc = np.argmin(np.abs(thresholds_roc - .5))"
   ]
  },
  {
   "cell_type": "code",
   "execution_count": 47,
   "metadata": {},
   "outputs": [
    {
     "data": {
      "text/plain": [
       "<matplotlib.legend.Legend at 0x1ace732d588>"
      ]
     },
     "execution_count": 47,
     "metadata": {},
     "output_type": "execute_result"
    },
    {
     "data": {
      "image/png": "[encoded data removed]",
      "text/plain": [
       "<Figure size 2160x504 with 2 Axes>"
      ]
     },
     "metadata": {
      "needs_background": "light"
     },
     "output_type": "display_data"
    }
   ],
   "source": [
    "plt.figure(figsize=(30, 7))\n",
    "plt.subplots_adjust(wspace=.1)\n",
    "\n",
    "ax1 = plt.subplot(121)\n",
    "ax1.plot(precisions, recalls, label='precision_recall_curve')\n",
    "ax1.plot(precisions[close_defualt_precision], recalls[close_defualt_precision], '^', c='k', markersize=10, label='default threshold 0.5', fillstyle='none', mew=2)\n",
    "ax1.set_xlabel('precision')\n",
    "ax1.set_ylabel('recall')\n",
    "ax1.legend(loc='best')\n",
    "\n",
    "ax2 = plt.subplot(122)\n",
    "ax2.plot(fprs, tprs, label='roc_curve')\n",
    "ax2.plot(fprs[close_defualt_roc], tprs[close_defualt_roc], '^', markersize=10, label='default threshold 0.5', fillstyle='none', mew=2)\n",
    "\n",
    "ax2.set_xlabel('FPR')\n",
    "ax2.set_ylabel('TPR')\n",
    "ax2.legend(loc='best')"
   ]
  },
  {
   "cell_type": "code",
   "execution_count": null,
   "metadata": {},
   "outputs": [],
   "source": [
    "predict_proba_eval_result = pd.DataFrame({'threshold':[], 'classification_report_mean':[], 'classification_report_std':[], 'classification_report_sum':[],\n",
    "                                          'mean_micro_avg_f1':[], 'mean_marco_avg_f1':[], 'mean_weighted_avg_f1':[],\n",
    "                                          'mean_roc_auc_score':[], 'mean_average_precision_score':[]})"
   ]
  },
  {
   "cell_type": "code",
   "execution_count": 49,
   "metadata": {},
   "outputs": [
    {
     "name": "stderr",
     "output_type": "stream",
     "text": [
      "100%|████████████████████████████████████████████████████████████████████████████████| 100/100 [51:13<00:00,  7.41s/it]\n"
     ]
    }
   ],
   "source": [
    "warnings.filterwarnings('ignore')\n",
    "\n",
    "for threshold in tqdm(np.arange(0, 1, .01)):\n",
    "    \n",
    "        classification_report_mean = None\n",
    "        classification_report_std = None\n",
    "        classification_report_sum = None\n",
    "        mean_micro_avg_f1 = np.array([])\n",
    "        mean_marco_avg_f1 = np.array([])\n",
    "        mean_weighted_avg_f1 = np.array([])\n",
    "        mean_roc_auc_score = np.array([])\n",
    "        mean_average_precision_score = np.array([])\n",
    "\n",
    "        for eval_data_x, eval_data_y in eval_fold_data:\n",
    "            predict_proba_result = voter.predict_proba(eval_data_x.values)\n",
    "\n",
    "            pred_adjust_threshold = predict_proba_result > threshold\n",
    "\n",
    "            report_result = classification_report(eval_data_y, pred_adjust_threshold[:, 1], output_dict=True)\n",
    "\n",
    "            mean_micro_avg_f1 = np.append(mean_micro_avg_f1, report_result['micro avg']['f1-score'])\n",
    "            mean_marco_avg_f1 = np.append(mean_marco_avg_f1, report_result['macro avg']['f1-score'])\n",
    "            mean_weighted_avg_f1 = np.append(mean_weighted_avg_f1, report_result['weighted avg']['f1-score'])\n",
    "\n",
    "            mean_roc_auc_score = np.append(mean_roc_auc_score, roc_auc_score(eval_data_y, predict_proba_result[:, 1]))\n",
    "            mean_average_precision_score = np.append(mean_average_precision_score, average_precision_score(eval_data_y, predict_proba_result[:, 1]))\n",
    "\n",
    "        gather = np.append(mean_micro_avg_f1, [mean_marco_avg_f1, mean_weighted_avg_f1])\n",
    "\n",
    "        classification_report_mean = gather.mean()\n",
    "        classification_report_std = gather.std()\n",
    "        classification_report_sum = gather.sum()\n",
    "\n",
    "        mean_micro_avg_f1 = mean_micro_avg_f1.mean()\n",
    "        mean_marco_avg_f1 = mean_marco_avg_f1.mean()\n",
    "        mean_weighted_avg_f1 = mean_weighted_avg_f1.mean()\n",
    "\n",
    "        mean_roc_auc_score = mean_roc_auc_score.mean()\n",
    "        mean_average_precision_score = mean_average_precision_score.mean()\n",
    "\n",
    "        scores = np.array([threshold, classification_report_mean, classification_report_std, classification_report_sum,\n",
    "                           mean_micro_avg_f1, mean_marco_avg_f1, mean_weighted_avg_f1,\n",
    "                           mean_roc_auc_score, mean_average_precision_score]).reshape(1, len(predict_proba_eval_result.columns))\n",
    "        score_df = pd.DataFrame(data=scores, columns=['threshold', 'classification_report_mean', 'classification_report_std', 'classification_report_sum',\n",
    "                                                      'mean_micro_avg_f1', 'mean_marco_avg_f1', 'mean_weighted_avg_f1',\n",
    "                                                      'mean_roc_auc_score', 'mean_average_precision_score'])\n",
    "\n",
    "        predict_proba_eval_result = pd.concat([predict_proba_eval_result, score_df], axis=0)"
   ]
  },
  {
   "cell_type": "code",
   "execution_count": null,
   "metadata": {},
   "outputs": [],
   "source": [
    "predict_proba_eval_result.reset_index(drop=True, inplace=True)"
   ]
  },
  {
   "cell_type": "code",
   "execution_count": 51,
   "metadata": {},
   "outputs": [
    {
     "data": {
      "text/html": [
       "<div>\n",
       "<style scoped>\n",
       "    .dataframe tbody tr th:only-of-type {\n",
       "        vertical-align: middle;\n",
       "    }\n",
       "\n",
       "    .dataframe tbody tr th {\n",
       "        vertical-align: top;\n",
       "    }\n",
       "\n",
       "    .dataframe thead th {\n",
       "        text-align: right;\n",
       "    }\n",
       "</style>\n",
       "<table border=\"1\" class=\"dataframe\">\n",
       "  <thead>\n",
       "    <tr style=\"text-align: right;\">\n",
       "      <th></th>\n",
       "      <th>threshold</th>\n",
       "      <th>classification_report_mean</th>\n",
       "      <th>classification_report_std</th>\n",
       "      <th>classification_report_sum</th>\n",
       "      <th>mean_micro_avg_f1</th>\n",
       "      <th>mean_marco_avg_f1</th>\n",
       "      <th>mean_weighted_avg_f1</th>\n",
       "      <th>mean_roc_auc_score</th>\n",
       "      <th>mean_average_precision_score</th>\n",
       "    </tr>\n",
       "  </thead>\n",
       "  <tbody>\n",
       "    <tr>\n",
       "      <th>52</th>\n",
       "      <td>0.52</td>\n",
       "      <td>0.854891</td>\n",
       "      <td>0.011783</td>\n",
       "      <td>12.823371</td>\n",
       "      <td>0.858221</td>\n",
       "      <td>0.850108</td>\n",
       "      <td>0.856346</td>\n",
       "      <td>0.918572</td>\n",
       "      <td>0.888948</td>\n",
       "    </tr>\n",
       "    <tr>\n",
       "      <th>50</th>\n",
       "      <td>0.50</td>\n",
       "      <td>0.847561</td>\n",
       "      <td>0.012476</td>\n",
       "      <td>12.713413</td>\n",
       "      <td>0.850762</td>\n",
       "      <td>0.842798</td>\n",
       "      <td>0.849123</td>\n",
       "      <td>0.918572</td>\n",
       "      <td>0.888948</td>\n",
       "    </tr>\n",
       "    <tr>\n",
       "      <th>51</th>\n",
       "      <td>0.51</td>\n",
       "      <td>0.847561</td>\n",
       "      <td>0.012476</td>\n",
       "      <td>12.713413</td>\n",
       "      <td>0.850762</td>\n",
       "      <td>0.842798</td>\n",
       "      <td>0.849123</td>\n",
       "      <td>0.918572</td>\n",
       "      <td>0.888948</td>\n",
       "    </tr>\n",
       "    <tr>\n",
       "      <th>55</th>\n",
       "      <td>0.55</td>\n",
       "      <td>0.846917</td>\n",
       "      <td>0.014346</td>\n",
       "      <td>12.703754</td>\n",
       "      <td>0.850762</td>\n",
       "      <td>0.841586</td>\n",
       "      <td>0.848404</td>\n",
       "      <td>0.918572</td>\n",
       "      <td>0.888948</td>\n",
       "    </tr>\n",
       "    <tr>\n",
       "      <th>53</th>\n",
       "      <td>0.53</td>\n",
       "      <td>0.846917</td>\n",
       "      <td>0.014346</td>\n",
       "      <td>12.703754</td>\n",
       "      <td>0.850762</td>\n",
       "      <td>0.841586</td>\n",
       "      <td>0.848404</td>\n",
       "      <td>0.918572</td>\n",
       "      <td>0.888948</td>\n",
       "    </tr>\n",
       "  </tbody>\n",
       "</table>\n",
       "</div>"
      ],
      "text/plain": [
       "    threshold  classification_report_mean  classification_report_std  \\\n",
       "52       0.52                    0.854891                   0.011783   \n",
       "50       0.50                    0.847561                   0.012476   \n",
       "51       0.51                    0.847561                   0.012476   \n",
       "55       0.55                    0.846917                   0.014346   \n",
       "53       0.53                    0.846917                   0.014346   \n",
       "\n",
       "    classification_report_sum  mean_micro_avg_f1  mean_marco_avg_f1  \\\n",
       "52                  12.823371           0.858221           0.850108   \n",
       "50                  12.713413           0.850762           0.842798   \n",
       "51                  12.713413           0.850762           0.842798   \n",
       "55                  12.703754           0.850762           0.841586   \n",
       "53                  12.703754           0.850762           0.841586   \n",
       "\n",
       "    mean_weighted_avg_f1  mean_roc_auc_score  mean_average_precision_score  \n",
       "52              0.856346            0.918572                      0.888948  \n",
       "50              0.849123            0.918572                      0.888948  \n",
       "51              0.849123            0.918572                      0.888948  \n",
       "55              0.848404            0.918572                      0.888948  \n",
       "53              0.848404            0.918572                      0.888948  "
      ]
     },
     "execution_count": 51,
     "metadata": {},
     "output_type": "execute_result"
    }
   ],
   "source": [
    "predict_proba_eval_result.sort_values('classification_report_mean', ascending=False).head()"
   ]
  },
  {
   "cell_type": "code",
   "execution_count": 52,
   "metadata": {},
   "outputs": [
    {
     "data": {
      "text/html": [
       "<div>\n",
       "<style scoped>\n",
       "    .dataframe tbody tr th:only-of-type {\n",
       "        vertical-align: middle;\n",
       "    }\n",
       "\n",
       "    .dataframe tbody tr th {\n",
       "        vertical-align: top;\n",
       "    }\n",
       "\n",
       "    .dataframe thead th {\n",
       "        text-align: right;\n",
       "    }\n",
       "</style>\n",
       "<table border=\"1\" class=\"dataframe\">\n",
       "  <thead>\n",
       "    <tr style=\"text-align: right;\">\n",
       "      <th></th>\n",
       "      <th>threshold</th>\n",
       "      <th>classification_report_mean</th>\n",
       "      <th>classification_report_std</th>\n",
       "      <th>classification_report_sum</th>\n",
       "      <th>mean_micro_avg_f1</th>\n",
       "      <th>mean_marco_avg_f1</th>\n",
       "      <th>mean_weighted_avg_f1</th>\n",
       "      <th>mean_roc_auc_score</th>\n",
       "      <th>mean_average_precision_score</th>\n",
       "    </tr>\n",
       "  </thead>\n",
       "  <tbody>\n",
       "    <tr>\n",
       "      <th>52</th>\n",
       "      <td>0.52</td>\n",
       "      <td>0.854891</td>\n",
       "      <td>0.011783</td>\n",
       "      <td>12.823371</td>\n",
       "      <td>0.858221</td>\n",
       "      <td>0.850108</td>\n",
       "      <td>0.856346</td>\n",
       "      <td>0.918572</td>\n",
       "      <td>0.888948</td>\n",
       "    </tr>\n",
       "    <tr>\n",
       "      <th>50</th>\n",
       "      <td>0.50</td>\n",
       "      <td>0.847561</td>\n",
       "      <td>0.012476</td>\n",
       "      <td>12.713413</td>\n",
       "      <td>0.850762</td>\n",
       "      <td>0.842798</td>\n",
       "      <td>0.849123</td>\n",
       "      <td>0.918572</td>\n",
       "      <td>0.888948</td>\n",
       "    </tr>\n",
       "    <tr>\n",
       "      <th>51</th>\n",
       "      <td>0.51</td>\n",
       "      <td>0.847561</td>\n",
       "      <td>0.012476</td>\n",
       "      <td>12.713413</td>\n",
       "      <td>0.850762</td>\n",
       "      <td>0.842798</td>\n",
       "      <td>0.849123</td>\n",
       "      <td>0.918572</td>\n",
       "      <td>0.888948</td>\n",
       "    </tr>\n",
       "    <tr>\n",
       "      <th>53</th>\n",
       "      <td>0.53</td>\n",
       "      <td>0.846917</td>\n",
       "      <td>0.014346</td>\n",
       "      <td>12.703754</td>\n",
       "      <td>0.850762</td>\n",
       "      <td>0.841586</td>\n",
       "      <td>0.848404</td>\n",
       "      <td>0.918572</td>\n",
       "      <td>0.888948</td>\n",
       "    </tr>\n",
       "    <tr>\n",
       "      <th>54</th>\n",
       "      <td>0.54</td>\n",
       "      <td>0.846917</td>\n",
       "      <td>0.014346</td>\n",
       "      <td>12.703754</td>\n",
       "      <td>0.850762</td>\n",
       "      <td>0.841586</td>\n",
       "      <td>0.848404</td>\n",
       "      <td>0.918572</td>\n",
       "      <td>0.888948</td>\n",
       "    </tr>\n",
       "  </tbody>\n",
       "</table>\n",
       "</div>"
      ],
      "text/plain": [
       "    threshold  classification_report_mean  classification_report_std  \\\n",
       "52       0.52                    0.854891                   0.011783   \n",
       "50       0.50                    0.847561                   0.012476   \n",
       "51       0.51                    0.847561                   0.012476   \n",
       "53       0.53                    0.846917                   0.014346   \n",
       "54       0.54                    0.846917                   0.014346   \n",
       "\n",
       "    classification_report_sum  mean_micro_avg_f1  mean_marco_avg_f1  \\\n",
       "52                  12.823371           0.858221           0.850108   \n",
       "50                  12.713413           0.850762           0.842798   \n",
       "51                  12.713413           0.850762           0.842798   \n",
       "53                  12.703754           0.850762           0.841586   \n",
       "54                  12.703754           0.850762           0.841586   \n",
       "\n",
       "    mean_weighted_avg_f1  mean_roc_auc_score  mean_average_precision_score  \n",
       "52              0.856346            0.918572                      0.888948  \n",
       "50              0.849123            0.918572                      0.888948  \n",
       "51              0.849123            0.918572                      0.888948  \n",
       "53              0.848404            0.918572                      0.888948  \n",
       "54              0.848404            0.918572                      0.888948  "
      ]
     },
     "execution_count": 52,
     "metadata": {},
     "output_type": "execute_result"
    }
   ],
   "source": [
    "predict_proba_eval_result.sort_values('mean_micro_avg_f1', ascending=False).head()"
   ]
  },
  {
   "cell_type": "code",
   "execution_count": 53,
   "metadata": {},
   "outputs": [
    {
     "data": {
      "text/html": [
       "<div>\n",
       "<style scoped>\n",
       "    .dataframe tbody tr th:only-of-type {\n",
       "        vertical-align: middle;\n",
       "    }\n",
       "\n",
       "    .dataframe tbody tr th {\n",
       "        vertical-align: top;\n",
       "    }\n",
       "\n",
       "    .dataframe thead th {\n",
       "        text-align: right;\n",
       "    }\n",
       "</style>\n",
       "<table border=\"1\" class=\"dataframe\">\n",
       "  <thead>\n",
       "    <tr style=\"text-align: right;\">\n",
       "      <th></th>\n",
       "      <th>threshold</th>\n",
       "      <th>classification_report_mean</th>\n",
       "      <th>classification_report_std</th>\n",
       "      <th>classification_report_sum</th>\n",
       "      <th>mean_micro_avg_f1</th>\n",
       "      <th>mean_marco_avg_f1</th>\n",
       "      <th>mean_weighted_avg_f1</th>\n",
       "      <th>mean_roc_auc_score</th>\n",
       "      <th>mean_average_precision_score</th>\n",
       "    </tr>\n",
       "  </thead>\n",
       "  <tbody>\n",
       "    <tr>\n",
       "      <th>52</th>\n",
       "      <td>0.52</td>\n",
       "      <td>0.854891</td>\n",
       "      <td>0.011783</td>\n",
       "      <td>12.823371</td>\n",
       "      <td>0.858221</td>\n",
       "      <td>0.850108</td>\n",
       "      <td>0.856346</td>\n",
       "      <td>0.918572</td>\n",
       "      <td>0.888948</td>\n",
       "    </tr>\n",
       "    <tr>\n",
       "      <th>50</th>\n",
       "      <td>0.50</td>\n",
       "      <td>0.847561</td>\n",
       "      <td>0.012476</td>\n",
       "      <td>12.713413</td>\n",
       "      <td>0.850762</td>\n",
       "      <td>0.842798</td>\n",
       "      <td>0.849123</td>\n",
       "      <td>0.918572</td>\n",
       "      <td>0.888948</td>\n",
       "    </tr>\n",
       "    <tr>\n",
       "      <th>51</th>\n",
       "      <td>0.51</td>\n",
       "      <td>0.847561</td>\n",
       "      <td>0.012476</td>\n",
       "      <td>12.713413</td>\n",
       "      <td>0.850762</td>\n",
       "      <td>0.842798</td>\n",
       "      <td>0.849123</td>\n",
       "      <td>0.918572</td>\n",
       "      <td>0.888948</td>\n",
       "    </tr>\n",
       "    <tr>\n",
       "      <th>55</th>\n",
       "      <td>0.55</td>\n",
       "      <td>0.846917</td>\n",
       "      <td>0.014346</td>\n",
       "      <td>12.703754</td>\n",
       "      <td>0.850762</td>\n",
       "      <td>0.841586</td>\n",
       "      <td>0.848404</td>\n",
       "      <td>0.918572</td>\n",
       "      <td>0.888948</td>\n",
       "    </tr>\n",
       "    <tr>\n",
       "      <th>53</th>\n",
       "      <td>0.53</td>\n",
       "      <td>0.846917</td>\n",
       "      <td>0.014346</td>\n",
       "      <td>12.703754</td>\n",
       "      <td>0.850762</td>\n",
       "      <td>0.841586</td>\n",
       "      <td>0.848404</td>\n",
       "      <td>0.918572</td>\n",
       "      <td>0.888948</td>\n",
       "    </tr>\n",
       "  </tbody>\n",
       "</table>\n",
       "</div>"
      ],
      "text/plain": [
       "    threshold  classification_report_mean  classification_report_std  \\\n",
       "52       0.52                    0.854891                   0.011783   \n",
       "50       0.50                    0.847561                   0.012476   \n",
       "51       0.51                    0.847561                   0.012476   \n",
       "55       0.55                    0.846917                   0.014346   \n",
       "53       0.53                    0.846917                   0.014346   \n",
       "\n",
       "    classification_report_sum  mean_micro_avg_f1  mean_marco_avg_f1  \\\n",
       "52                  12.823371           0.858221           0.850108   \n",
       "50                  12.713413           0.850762           0.842798   \n",
       "51                  12.713413           0.850762           0.842798   \n",
       "55                  12.703754           0.850762           0.841586   \n",
       "53                  12.703754           0.850762           0.841586   \n",
       "\n",
       "    mean_weighted_avg_f1  mean_roc_auc_score  mean_average_precision_score  \n",
       "52              0.856346            0.918572                      0.888948  \n",
       "50              0.849123            0.918572                      0.888948  \n",
       "51              0.849123            0.918572                      0.888948  \n",
       "55              0.848404            0.918572                      0.888948  \n",
       "53              0.848404            0.918572                      0.888948  "
      ]
     },
     "execution_count": 53,
     "metadata": {},
     "output_type": "execute_result"
    }
   ],
   "source": [
    "predict_proba_eval_result.sort_values('classification_report_sum', ascending=False).head()"
   ]
  },
  {
   "cell_type": "code",
   "execution_count": null,
   "metadata": {},
   "outputs": [],
   "source": [
    "predict_proba = voter.predict_proba(test.values) > .65"
   ]
  },
  {
   "cell_type": "code",
   "execution_count": null,
   "metadata": {},
   "outputs": [],
   "source": [
    "result = predict_proba.astype(int)[:, 1]"
   ]
  },
  {
   "cell_type": "markdown",
   "metadata": {},
   "source": [
    " "
   ]
  },
  {
   "cell_type": "markdown",
   "metadata": {},
   "source": [
    "===================================================================================================================================================================================================="
   ]
  },
  {
   "cell_type": "markdown",
   "metadata": {},
   "source": [
    " "
   ]
  },
  {
   "cell_type": "markdown",
   "metadata": {},
   "source": [
    " "
   ]
  },
  {
   "cell_type": "markdown",
   "metadata": {},
   "source": [
    "- ### **integrating for submission**"
   ]
  },
  {
   "cell_type": "code",
   "execution_count": 232,
   "metadata": {},
   "outputs": [],
   "source": [
    "test_origin = pd.read_csv('./data/test.csv')"
   ]
  },
  {
   "cell_type": "code",
   "execution_count": 233,
   "metadata": {},
   "outputs": [],
   "source": [
    "final_result = pd.concat([test_origin, pd.DataFrame({'Survived':result})], axis=1)"
   ]
  },
  {
   "cell_type": "code",
   "execution_count": 234,
   "metadata": {},
   "outputs": [],
   "source": [
    "final_result = final_result[['PassengerId', 'Survived']]"
   ]
  },
  {
   "cell_type": "code",
   "execution_count": 235,
   "metadata": {},
   "outputs": [
    {
     "data": {
      "text/html": [
       "<div>\n",
       "<style scoped>\n",
       "    .dataframe tbody tr th:only-of-type {\n",
       "        vertical-align: middle;\n",
       "    }\n",
       "\n",
       "    .dataframe tbody tr th {\n",
       "        vertical-align: top;\n",
       "    }\n",
       "\n",
       "    .dataframe thead th {\n",
       "        text-align: right;\n",
       "    }\n",
       "</style>\n",
       "<table border=\"1\" class=\"dataframe\">\n",
       "  <thead>\n",
       "    <tr style=\"text-align: right;\">\n",
       "      <th></th>\n",
       "      <th>PassengerId</th>\n",
       "      <th>Survived</th>\n",
       "    </tr>\n",
       "  </thead>\n",
       "  <tbody>\n",
       "    <tr>\n",
       "      <th>0</th>\n",
       "      <td>892</td>\n",
       "      <td>0</td>\n",
       "    </tr>\n",
       "    <tr>\n",
       "      <th>1</th>\n",
       "      <td>893</td>\n",
       "      <td>0</td>\n",
       "    </tr>\n",
       "    <tr>\n",
       "      <th>2</th>\n",
       "      <td>894</td>\n",
       "      <td>0</td>\n",
       "    </tr>\n",
       "  </tbody>\n",
       "</table>\n",
       "</div>"
      ],
      "text/plain": [
       "   PassengerId  Survived\n",
       "0          892         0\n",
       "1          893         0\n",
       "2          894         0"
      ]
     },
     "execution_count": 235,
     "metadata": {},
     "output_type": "execute_result"
    }
   ],
   "source": [
    "final_result.head(3)"
   ]
  },
  {
   "cell_type": "code",
   "execution_count": 236,
   "metadata": {},
   "outputs": [
    {
     "data": {
      "text/html": [
       "<div>\n",
       "<style scoped>\n",
       "    .dataframe tbody tr th:only-of-type {\n",
       "        vertical-align: middle;\n",
       "    }\n",
       "\n",
       "    .dataframe tbody tr th {\n",
       "        vertical-align: top;\n",
       "    }\n",
       "\n",
       "    .dataframe thead th {\n",
       "        text-align: right;\n",
       "    }\n",
       "</style>\n",
       "<table border=\"1\" class=\"dataframe\">\n",
       "  <thead>\n",
       "    <tr style=\"text-align: right;\">\n",
       "      <th></th>\n",
       "      <th>PassengerId</th>\n",
       "      <th>Survived</th>\n",
       "    </tr>\n",
       "  </thead>\n",
       "  <tbody>\n",
       "    <tr>\n",
       "      <th>415</th>\n",
       "      <td>1307</td>\n",
       "      <td>0</td>\n",
       "    </tr>\n",
       "    <tr>\n",
       "      <th>416</th>\n",
       "      <td>1308</td>\n",
       "      <td>0</td>\n",
       "    </tr>\n",
       "    <tr>\n",
       "      <th>417</th>\n",
       "      <td>1309</td>\n",
       "      <td>1</td>\n",
       "    </tr>\n",
       "  </tbody>\n",
       "</table>\n",
       "</div>"
      ],
      "text/plain": [
       "     PassengerId  Survived\n",
       "415         1307         0\n",
       "416         1308         0\n",
       "417         1309         1"
      ]
     },
     "execution_count": 236,
     "metadata": {},
     "output_type": "execute_result"
    }
   ],
   "source": [
    "final_result.tail(3)"
   ]
  },
  {
   "cell_type": "code",
   "execution_count": 237,
   "metadata": {},
   "outputs": [],
   "source": [
    "final_result.to_csv('./submission/final_results.csv', index=False)"
   ]
  }
 ],
 "metadata": {
  "kernelspec": {
   "display_name": "Python 3",
   "language": "python",
   "name": "python3"
  },
  "language_info": {
   "codemirror_mode": {
    "name": "ipython",
    "version": 3
   },
   "file_extension": ".py",
   "mimetype": "text/x-python",
   "name": "python",
   "nbconvert_exporter": "python",
   "pygments_lexer": "ipython3",
   "version": "3.6.8"
  }
 },
 "nbformat": 4,
 "nbformat_minor": 2
}
